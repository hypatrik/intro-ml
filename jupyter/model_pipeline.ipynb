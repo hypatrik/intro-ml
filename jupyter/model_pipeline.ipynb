{
 "cells": [
  {
   "cell_type": "markdown",
   "metadata": {
    "nteract": {
     "transient": {
      "deleting": false
     }
    }
   },
   "source": [
    "# Ryhmä-190"
   ]
  },
  {
   "cell_type": "markdown",
   "metadata": {
    "nteract": {
     "transient": {
      "deleting": false
     }
    }
   },
   "source": [
    "## Python-paketit"
   ]
  },
  {
   "cell_type": "code",
   "execution_count": null,
   "metadata": {
    "editable": false,
    "gather": {
     "logged": 1732048704411
    },
    "jupyter": {
     "outputs_hidden": true,
     "source_hidden": false
    },
    "nteract": {
     "transient": {
      "deleting": false
     }
    },
    "run_control": {
     "frozen": true
    }
   },
   "outputs": [
    {
     "name": "stdout",
     "output_type": "stream",
     "text": [
      "Requirement already satisfied: seaborn in c:\\users\\mikkokallio\\appdata\\local\\programs\\python\\python312\\lib\\site-packages (0.13.2)Note: you may need to restart the kernel to use updated packages.\n",
      "\n",
      "Requirement already satisfied: numpy!=1.24.0,>=1.20 in c:\\users\\mikkokallio\\appdata\\local\\programs\\python\\python312\\lib\\site-packages (from seaborn) (2.1.1)\n",
      "Requirement already satisfied: pandas>=1.2 in c:\\users\\mikkokallio\\appdata\\local\\programs\\python\\python312\\lib\\site-packages (from seaborn) (2.2.2)\n",
      "Requirement already satisfied: matplotlib!=3.6.1,>=3.4 in c:\\users\\mikkokallio\\appdata\\local\\programs\\python\\python312\\lib\\site-packages (from seaborn) (3.9.2)\n",
      "Requirement already satisfied: contourpy>=1.0.1 in c:\\users\\mikkokallio\\appdata\\local\\programs\\python\\python312\\lib\\site-packages (from matplotlib!=3.6.1,>=3.4->seaborn) (1.3.0)\n",
      "Requirement already satisfied: cycler>=0.10 in c:\\users\\mikkokallio\\appdata\\local\\programs\\python\\python312\\lib\\site-packages (from matplotlib!=3.6.1,>=3.4->seaborn) (0.12.1)\n",
      "Requirement already satisfied: fonttools>=4.22.0 in c:\\users\\mikkokallio\\appdata\\local\\programs\\python\\python312\\lib\\site-packages (from matplotlib!=3.6.1,>=3.4->seaborn) (4.53.1)\n",
      "Requirement already satisfied: kiwisolver>=1.3.1 in c:\\users\\mikkokallio\\appdata\\local\\programs\\python\\python312\\lib\\site-packages (from matplotlib!=3.6.1,>=3.4->seaborn) (1.4.7)\n",
      "Requirement already satisfied: packaging>=20.0 in c:\\users\\mikkokallio\\appdata\\roaming\\python\\python312\\site-packages (from matplotlib!=3.6.1,>=3.4->seaborn) (24.1)\n",
      "Requirement already satisfied: pillow>=8 in c:\\users\\mikkokallio\\appdata\\local\\programs\\python\\python312\\lib\\site-packages (from matplotlib!=3.6.1,>=3.4->seaborn) (10.4.0)\n",
      "Requirement already satisfied: pyparsing>=2.3.1 in c:\\users\\mikkokallio\\appdata\\local\\programs\\python\\python312\\lib\\site-packages (from matplotlib!=3.6.1,>=3.4->seaborn) (3.1.4)\n",
      "Requirement already satisfied: python-dateutil>=2.7 in c:\\users\\mikkokallio\\appdata\\roaming\\python\\python312\\site-packages (from matplotlib!=3.6.1,>=3.4->seaborn) (2.9.0.post0)\n",
      "Requirement already satisfied: pytz>=2020.1 in c:\\users\\mikkokallio\\appdata\\local\\programs\\python\\python312\\lib\\site-packages (from pandas>=1.2->seaborn) (2024.1)\n",
      "Requirement already satisfied: tzdata>=2022.7 in c:\\users\\mikkokallio\\appdata\\local\\programs\\python\\python312\\lib\\site-packages (from pandas>=1.2->seaborn) (2024.1)\n",
      "Requirement already satisfied: six>=1.5 in c:\\users\\mikkokallio\\appdata\\roaming\\python\\python312\\site-packages (from python-dateutil>=2.7->matplotlib!=3.6.1,>=3.4->seaborn) (1.16.0)\n"
     ]
    },
    {
     "name": "stderr",
     "output_type": "stream",
     "text": [
      "\n",
      "[notice] A new release of pip is available: 24.2 -> 24.3.1\n",
      "[notice] To update, run: python.exe -m pip install --upgrade pip\n"
     ]
    }
   ],
   "source": [
    "# Jupyter-notebookissa voi asentaa paketit samaan tapaan kuin komentoriviltä.\n",
    "# Tähän käytetään \"magic commandeja\", jotka alkavat %-merkillä.\n",
    "# Näiden asentamisessa voi mennä muutama minuutti, mutta sen jälkeen niitä ei tarvitse asentaa uudestaan. \n",
    "#%pip install seaborn\n",
    "#%pip install mlflow azureml azureml-core azureml-mlflow azure-identity"
   ]
  },
  {
   "cell_type": "code",
   "execution_count": 58,
   "metadata": {
    "gather": {
     "logged": 1732052063268
    },
    "jupyter": {
     "outputs_hidden": false,
     "source_hidden": false
    },
    "nteract": {
     "transient": {
      "deleting": false
     }
    }
   },
   "outputs": [],
   "source": [
    "import os\n",
    "import pandas as pd\n",
    "import numpy as np\n",
    "import seaborn as sns\n",
    "import matplotlib.pyplot as plt\n",
    "from sklearn.dummy import DummyRegressor\n",
    "from sklearn.linear_model import LinearRegression\n",
    "from sklearn.ensemble import RandomForestRegressor\n",
    "from sklearn.svm import SVR\n",
    "from sklearn.ensemble import GradientBoostingRegressor\n",
    "from sklearn.metrics import mean_squared_error, make_scorer, r2_score\n",
    "from sklearn.model_selection import KFold, cross_val_score\n",
    "#from azureml.core import Workspace\n",
    "#from azure.identity import InteractiveBrowserCredential\n",
    "#import mlflow"
   ]
  },
  {
   "cell_type": "markdown",
   "metadata": {
    "nteract": {
     "transient": {
      "deleting": false
     }
    }
   },
   "source": [
    "## MLFlow-seuranta (ei tällä hetkellä käytössä)\n",
    "\n",
    "Tarkistetaan ajoympäristö (Azure vai oma kone) ja autentikoidutaan sen mukaan."
   ]
  },
  {
   "cell_type": "code",
   "execution_count": 59,
   "metadata": {},
   "outputs": [],
   "source": [
    "def is_running_in_azure():\n",
    "    return 'AZUREML_RUN_ID' in os.environ\n",
    "\n",
    "def get_workspace():\n",
    "    if is_running_in_azure():\n",
    "        return Workspace.from_config()\n",
    "    else:\n",
    "        return Workspace(subscription_id='1c0e26b6-0fcb-4b6d-911c-2a0836275ea4',\n",
    "                         resource_group='rg-AML',\n",
    "                         workspace_name='aml-data_science_masters')\n",
    "#ws = get_workspace()"
   ]
  },
  {
   "cell_type": "code",
   "execution_count": 60,
   "metadata": {
    "gather": {
     "logged": 1732052187541
    },
    "jupyter": {
     "outputs_hidden": false,
     "source_hidden": false
    },
    "nteract": {
     "transient": {
      "deleting": false
     }
    }
   },
   "outputs": [],
   "source": [
    "#mlflow.set_tracking_uri(ws.get_mlflow_tracking_uri())\n",
    "#experiment_name = 'group-190-tracking'\n",
    "#mlflow.set_experiment(experiment_name)\n",
    "#mlflow.autolog()"
   ]
  },
  {
   "cell_type": "markdown",
   "metadata": {
    "nteract": {
     "transient": {
      "deleting": false
     }
    }
   },
   "source": [
    "## Tietoaineistojen lataaminen"
   ]
  },
  {
   "cell_type": "code",
   "execution_count": 61,
   "metadata": {
    "gather": {
     "logged": 1732052424041
    },
    "jupyter": {
     "outputs_hidden": false,
     "source_hidden": false
    },
    "nteract": {
     "transient": {
      "deleting": false
     }
    }
   },
   "outputs": [],
   "source": [
    "df_train = pd.read_csv('../data/train.csv', encoding='utf-8', header=0)\n",
    "df_test = pd.read_csv('../data/test.csv', encoding='utf-8', header=0)"
   ]
  },
  {
   "cell_type": "markdown",
   "metadata": {
    "nteract": {
     "transient": {
      "deleting": false
     }
    }
   },
   "source": [
    "## Esiprosessointi"
   ]
  },
  {
   "cell_type": "code",
   "execution_count": 66,
   "metadata": {
    "gather": {
     "logged": 1732052442780
    },
    "jupyter": {
     "outputs_hidden": false,
     "source_hidden": false
    },
    "nteract": {
     "transient": {
      "deleting": false
     }
    }
   },
   "outputs": [],
   "source": [
    "df_train['parentspecies'] = df_train['parentspecies'].astype('category')\n",
    "df_train['parentspecies'] = df_train['parentspecies'].cat.codes\n",
    "df_test['parentspecies'] = df_test['parentspecies'].astype('category')\n",
    "df_test['parentspecies'] = df_test['parentspecies'].cat.codes"
   ]
  },
  {
   "cell_type": "markdown",
   "metadata": {
    "nteract": {
     "transient": {
      "deleting": false
     }
    }
   },
   "source": [
    "## Mallien kouluttaminen"
   ]
  },
  {
   "cell_type": "code",
   "execution_count": 67,
   "metadata": {
    "gather": {
     "logged": 1732052445215
    },
    "jupyter": {
     "outputs_hidden": false,
     "source_hidden": false
    },
    "nteract": {
     "transient": {
      "deleting": false
     }
    }
   },
   "outputs": [],
   "source": [
    "X_train, y_train = df_train.drop(columns=['log_pSat_Pa', 'ID']), df_train['log_pSat_Pa']\n",
    "X_test = df_test.drop(columns=['ID'])"
   ]
  },
  {
   "cell_type": "markdown",
   "metadata": {
    "nteract": {
     "transient": {
      "deleting": false
     }
    }
   },
   "source": [
    "Erilaisia malleja alla. Kaikki mallit käyttävät samaa nimeä `model`, eli vain viimeisenä koulutettu menee testeihin ja tallentuu.\n",
    "\n",
    "### 1. Dummy"
   ]
  },
  {
   "cell_type": "code",
   "execution_count": 68,
   "metadata": {
    "editable": true,
    "gather": {
     "logged": 1732052459650
    },
    "jupyter": {
     "outputs_hidden": false,
     "source_hidden": false
    },
    "nteract": {
     "transient": {
      "deleting": false
     }
    },
    "run_control": {
     "frozen": false
    }
   },
   "outputs": [
    {
     "name": "stderr",
     "output_type": "stream",
     "text": [
      "2024/11/21 11:25:38 INFO mlflow.utils.autologging_utils: Created MLflow autologging run with ID '4d98571f-4846-466a-afd7-93a9b6dafdf7', which will track hyperparameters, performance metrics, model artifacts, and lineage information for the current sklearn workflow\n",
      "2024/11/21 11:25:39 WARNING mlflow.utils.autologging_utils: MLflow autologging encountered a warning: \"c:\\Users\\mikkokallio\\AppData\\Local\\Programs\\Python\\Python312\\Lib\\site-packages\\mlflow\\types\\utils.py:407: UserWarning: Hint: Inferred schema contains integer column(s). Integer columns in Python cannot represent missing values. If your input data contains missing values at inference time, it will be encoded as floats and will cause a schema enforcement error. The best way to avoid this problem is to infer the model schema based on a realistic data sample (training dataset) that includes missing values. Alternatively, you can declare integer columns as doubles (float64) whenever these columns may have missing values. See `Handling Integers With Missing Values <https://www.mlflow.org/docs/latest/models.html#handling-integers-with-missing-values>`_ for more details.\"\n",
      "2024/11/21 11:25:40 WARNING mlflow.utils.autologging_utils: MLflow autologging encountered a warning: \"c:\\Users\\mikkokallio\\AppData\\Local\\Programs\\Python\\Python312\\Lib\\site-packages\\mlflow\\types\\utils.py:407: UserWarning: Hint: Inferred schema contains integer column(s). Integer columns in Python cannot represent missing values. If your input data contains missing values at inference time, it will be encoded as floats and will cause a schema enforcement error. The best way to avoid this problem is to infer the model schema based on a realistic data sample (training dataset) that includes missing values. Alternatively, you can declare integer columns as doubles (float64) whenever these columns may have missing values. See `Handling Integers With Missing Values <https://www.mlflow.org/docs/latest/models.html#handling-integers-with-missing-values>`_ for more details.\"\n"
     ]
    },
    {
     "name": "stdout",
     "output_type": "stream",
     "text": [
      "🏃 View run cool_nail_4vcjgkq7 at: https://swedencentral.api.azureml.ms/mlflow/v2.0/subscriptions/1c0e26b6-0fcb-4b6d-911c-2a0836275ea4/resourceGroups/rg-AML/providers/Microsoft.MachineLearningServices/workspaces/aml-data_science_masters/#/experiments/e59c04c4-74a6-4c62-86e6-370ea69518dd/runs/4d98571f-4846-466a-afd7-93a9b6dafdf7\n",
      "🧪 View experiment at: https://swedencentral.api.azureml.ms/mlflow/v2.0/subscriptions/1c0e26b6-0fcb-4b6d-911c-2a0836275ea4/resourceGroups/rg-AML/providers/Microsoft.MachineLearningServices/workspaces/aml-data_science_masters/#/experiments/e59c04c4-74a6-4c62-86e6-370ea69518dd\n"
     ]
    },
    {
     "name": "stderr",
     "output_type": "stream",
     "text": [
      "2024/11/21 11:25:55 WARNING mlflow.utils.autologging_utils: Encountered unexpected error during sklearn autologging: The following failures occurred while performing one or more logging operations: [MlflowException('Failed to perform one or more operations on the run with ID 4d98571f-4846-466a-afd7-93a9b6dafdf7. Failed operations: [RestException(\\'BAD_REQUEST: Response: {\\\\\\'Error\\\\\\': {\\\\\\'Code\\\\\\': \\\\\\'UserError\\\\\\', \\\\\\'Severity\\\\\\': None, \\\\\\'Message\\\\\\': \"Could not log all inputs as datasets:\\\\\\\\nCREATE can\\\\\\'t modify existing entity, please use UPDATE.\", \\\\\\'MessageFormat\\\\\\': None, \\\\\\'MessageParameters\\\\\\': None, \\\\\\'ReferenceCode\\\\\\': None, \\\\\\'DetailsUri\\\\\\': None, \\\\\\'Target\\\\\\': None, \\\\\\'Details\\\\\\': [], \\\\\\'InnerError\\\\\\': None, \\\\\\'DebugInfo\\\\\\': None, \\\\\\'AdditionalInfo\\\\\\': None}, \\\\\\'Correlation\\\\\\': {\\\\\\'operation\\\\\\': \\\\\\'611feadb50d6cc30323f55348b0c399d\\\\\\', \\\\\\'request\\\\\\': \\\\\\'ea26db68074b612a\\\\\\'}, \\\\\\'Environment\\\\\\': \\\\\\'swedencentral\\\\\\', \\\\\\'Location\\\\\\': \\\\\\'swedencentral\\\\\\', \\\\\\'Time\\\\\\': \\\\\\'2024-11-21T09:25:40.5480531+00:00\\\\\\', \\\\\\'ComponentName\\\\\\': \\\\\\'mlflow\\\\\\', \\\\\\'statusCode\\\\\\': 400, \\\\\\'error_code\\\\\\': \\\\\\'BAD_REQUEST\\\\\\'}\\')]')]\n"
     ]
    }
   ],
   "source": [
    "model = DummyRegressor(strategy='mean')\n",
    "model.fit(X_train, y_train)\n",
    "\n",
    "df_test['log_pSat_Pa'] = model.predict(X_test)"
   ]
  },
  {
   "cell_type": "markdown",
   "metadata": {
    "nteract": {
     "transient": {
      "deleting": false
     }
    }
   },
   "source": [
    "### 2. Yksinkertainen regressio"
   ]
  },
  {
   "cell_type": "code",
   "execution_count": 69,
   "metadata": {
    "gather": {
     "logged": 1732052467120
    },
    "jupyter": {
     "outputs_hidden": false,
     "source_hidden": false
    },
    "nteract": {
     "transient": {
      "deleting": false
     }
    }
   },
   "outputs": [
    {
     "name": "stderr",
     "output_type": "stream",
     "text": [
      "2024/11/21 11:25:55 INFO mlflow.utils.autologging_utils: Created MLflow autologging run with ID '1e1ada63-e60a-4f43-9de3-05c9640b3e63', which will track hyperparameters, performance metrics, model artifacts, and lineage information for the current sklearn workflow\n",
      "2024/11/21 11:25:56 WARNING mlflow.utils.autologging_utils: MLflow autologging encountered a warning: \"c:\\Users\\mikkokallio\\AppData\\Local\\Programs\\Python\\Python312\\Lib\\site-packages\\mlflow\\types\\utils.py:407: UserWarning: Hint: Inferred schema contains integer column(s). Integer columns in Python cannot represent missing values. If your input data contains missing values at inference time, it will be encoded as floats and will cause a schema enforcement error. The best way to avoid this problem is to infer the model schema based on a realistic data sample (training dataset) that includes missing values. Alternatively, you can declare integer columns as doubles (float64) whenever these columns may have missing values. See `Handling Integers With Missing Values <https://www.mlflow.org/docs/latest/models.html#handling-integers-with-missing-values>`_ for more details.\"\n",
      "2024/11/21 11:25:57 WARNING mlflow.utils.autologging_utils: MLflow autologging encountered a warning: \"c:\\Users\\mikkokallio\\AppData\\Local\\Programs\\Python\\Python312\\Lib\\site-packages\\mlflow\\types\\utils.py:407: UserWarning: Hint: Inferred schema contains integer column(s). Integer columns in Python cannot represent missing values. If your input data contains missing values at inference time, it will be encoded as floats and will cause a schema enforcement error. The best way to avoid this problem is to infer the model schema based on a realistic data sample (training dataset) that includes missing values. Alternatively, you can declare integer columns as doubles (float64) whenever these columns may have missing values. See `Handling Integers With Missing Values <https://www.mlflow.org/docs/latest/models.html#handling-integers-with-missing-values>`_ for more details.\"\n"
     ]
    },
    {
     "name": "stdout",
     "output_type": "stream",
     "text": [
      "🏃 View run plum_station_px40xj2c at: https://swedencentral.api.azureml.ms/mlflow/v2.0/subscriptions/1c0e26b6-0fcb-4b6d-911c-2a0836275ea4/resourceGroups/rg-AML/providers/Microsoft.MachineLearningServices/workspaces/aml-data_science_masters/#/experiments/e59c04c4-74a6-4c62-86e6-370ea69518dd/runs/1e1ada63-e60a-4f43-9de3-05c9640b3e63\n",
      "🧪 View experiment at: https://swedencentral.api.azureml.ms/mlflow/v2.0/subscriptions/1c0e26b6-0fcb-4b6d-911c-2a0836275ea4/resourceGroups/rg-AML/providers/Microsoft.MachineLearningServices/workspaces/aml-data_science_masters/#/experiments/e59c04c4-74a6-4c62-86e6-370ea69518dd\n"
     ]
    },
    {
     "name": "stderr",
     "output_type": "stream",
     "text": [
      "2024/11/21 11:26:07 WARNING mlflow.utils.autologging_utils: Encountered unexpected error during sklearn autologging: The following failures occurred while performing one or more logging operations: [MlflowException('Failed to perform one or more operations on the run with ID 1e1ada63-e60a-4f43-9de3-05c9640b3e63. Failed operations: [RestException(\\'BAD_REQUEST: Response: {\\\\\\'Error\\\\\\': {\\\\\\'Code\\\\\\': \\\\\\'UserError\\\\\\', \\\\\\'Severity\\\\\\': None, \\\\\\'Message\\\\\\': \"Could not log all inputs as datasets:\\\\\\\\nCREATE can\\\\\\'t modify existing entity, please use UPDATE.\", \\\\\\'MessageFormat\\\\\\': None, \\\\\\'MessageParameters\\\\\\': None, \\\\\\'ReferenceCode\\\\\\': None, \\\\\\'DetailsUri\\\\\\': None, \\\\\\'Target\\\\\\': None, \\\\\\'Details\\\\\\': [], \\\\\\'InnerError\\\\\\': None, \\\\\\'DebugInfo\\\\\\': None, \\\\\\'AdditionalInfo\\\\\\': None}, \\\\\\'Correlation\\\\\\': {\\\\\\'operation\\\\\\': \\\\\\'ac261adff73e44f2769aa3f7c8cf0c23\\\\\\', \\\\\\'request\\\\\\': \\\\\\'54de9a64df66b20e\\\\\\'}, \\\\\\'Environment\\\\\\': \\\\\\'swedencentral\\\\\\', \\\\\\'Location\\\\\\': \\\\\\'swedencentral\\\\\\', \\\\\\'Time\\\\\\': \\\\\\'2024-11-21T09:25:56.9832743+00:00\\\\\\', \\\\\\'ComponentName\\\\\\': \\\\\\'mlflow\\\\\\', \\\\\\'statusCode\\\\\\': 400, \\\\\\'error_code\\\\\\': \\\\\\'BAD_REQUEST\\\\\\'}\\')]')]\n"
     ]
    }
   ],
   "source": [
    "model = LinearRegression()\n",
    "model.fit(X_train, y_train)\n",
    "\n",
    "df_test['log_pSat_Pa'] = model.predict(X_test)"
   ]
  },
  {
   "cell_type": "markdown",
   "metadata": {
    "nteract": {
     "transient": {
      "deleting": false
     }
    }
   },
   "source": [
    "### 3. Random Forest"
   ]
  },
  {
   "cell_type": "code",
   "execution_count": 70,
   "metadata": {
    "gather": {
     "logged": 1732052550516
    },
    "jupyter": {
     "outputs_hidden": false,
     "source_hidden": false
    },
    "nteract": {
     "transient": {
      "deleting": false
     }
    }
   },
   "outputs": [
    {
     "name": "stderr",
     "output_type": "stream",
     "text": [
      "2024/11/21 11:26:08 INFO mlflow.utils.autologging_utils: Created MLflow autologging run with ID '5dc442cd-1afc-4e4a-ae5f-fd6fceb9690a', which will track hyperparameters, performance metrics, model artifacts, and lineage information for the current sklearn workflow\n",
      "2024/11/21 11:26:08 WARNING mlflow.utils.autologging_utils: MLflow autologging encountered a warning: \"c:\\Users\\mikkokallio\\AppData\\Local\\Programs\\Python\\Python312\\Lib\\site-packages\\mlflow\\types\\utils.py:407: UserWarning: Hint: Inferred schema contains integer column(s). Integer columns in Python cannot represent missing values. If your input data contains missing values at inference time, it will be encoded as floats and will cause a schema enforcement error. The best way to avoid this problem is to infer the model schema based on a realistic data sample (training dataset) that includes missing values. Alternatively, you can declare integer columns as doubles (float64) whenever these columns may have missing values. See `Handling Integers With Missing Values <https://www.mlflow.org/docs/latest/models.html#handling-integers-with-missing-values>`_ for more details.\"\n",
      "2024/11/21 11:26:25 WARNING mlflow.utils.autologging_utils: MLflow autologging encountered a warning: \"c:\\Users\\mikkokallio\\AppData\\Local\\Programs\\Python\\Python312\\Lib\\site-packages\\mlflow\\types\\utils.py:407: UserWarning: Hint: Inferred schema contains integer column(s). Integer columns in Python cannot represent missing values. If your input data contains missing values at inference time, it will be encoded as floats and will cause a schema enforcement error. The best way to avoid this problem is to infer the model schema based on a realistic data sample (training dataset) that includes missing values. Alternatively, you can declare integer columns as doubles (float64) whenever these columns may have missing values. See `Handling Integers With Missing Values <https://www.mlflow.org/docs/latest/models.html#handling-integers-with-missing-values>`_ for more details.\"\n"
     ]
    },
    {
     "name": "stdout",
     "output_type": "stream",
     "text": [
      "🏃 View run wheat_caravan_fhv26xlx at: https://swedencentral.api.azureml.ms/mlflow/v2.0/subscriptions/1c0e26b6-0fcb-4b6d-911c-2a0836275ea4/resourceGroups/rg-AML/providers/Microsoft.MachineLearningServices/workspaces/aml-data_science_masters/#/experiments/e59c04c4-74a6-4c62-86e6-370ea69518dd/runs/5dc442cd-1afc-4e4a-ae5f-fd6fceb9690a\n",
      "🧪 View experiment at: https://swedencentral.api.azureml.ms/mlflow/v2.0/subscriptions/1c0e26b6-0fcb-4b6d-911c-2a0836275ea4/resourceGroups/rg-AML/providers/Microsoft.MachineLearningServices/workspaces/aml-data_science_masters/#/experiments/e59c04c4-74a6-4c62-86e6-370ea69518dd\n"
     ]
    },
    {
     "name": "stderr",
     "output_type": "stream",
     "text": [
      "2024/11/21 11:27:24 WARNING mlflow.utils.autologging_utils: Encountered unexpected error during sklearn autologging: The following failures occurred while performing one or more logging operations: [MlflowException('Failed to perform one or more operations on the run with ID 5dc442cd-1afc-4e4a-ae5f-fd6fceb9690a. Failed operations: [RestException(\\'BAD_REQUEST: Response: {\\\\\\'Error\\\\\\': {\\\\\\'Code\\\\\\': \\\\\\'UserError\\\\\\', \\\\\\'Severity\\\\\\': None, \\\\\\'Message\\\\\\': \"Could not log all inputs as datasets:\\\\\\\\nCREATE can\\\\\\'t modify existing entity, please use UPDATE.\", \\\\\\'MessageFormat\\\\\\': None, \\\\\\'MessageParameters\\\\\\': None, \\\\\\'ReferenceCode\\\\\\': None, \\\\\\'DetailsUri\\\\\\': None, \\\\\\'Target\\\\\\': None, \\\\\\'Details\\\\\\': [], \\\\\\'InnerError\\\\\\': None, \\\\\\'DebugInfo\\\\\\': None, \\\\\\'AdditionalInfo\\\\\\': None}, \\\\\\'Correlation\\\\\\': {\\\\\\'operation\\\\\\': \\\\\\'ae8b5a5875bad43f850a3063b2431c58\\\\\\', \\\\\\'request\\\\\\': \\\\\\'5f201a705fdf7754\\\\\\'}, \\\\\\'Environment\\\\\\': \\\\\\'swedencentral\\\\\\', \\\\\\'Location\\\\\\': \\\\\\'swedencentral\\\\\\', \\\\\\'Time\\\\\\': \\\\\\'2024-11-21T09:26:09.3148012+00:00\\\\\\', \\\\\\'ComponentName\\\\\\': \\\\\\'mlflow\\\\\\', \\\\\\'statusCode\\\\\\': 400, \\\\\\'error_code\\\\\\': \\\\\\'BAD_REQUEST\\\\\\'}\\')]')]\n"
     ]
    }
   ],
   "source": [
    "model = RandomForestRegressor(random_state=190)\n",
    "model.fit(X_train, y_train)\n",
    "\n",
    "df_test['log_pSat_Pa'] = model.predict(X_test)"
   ]
  },
  {
   "cell_type": "markdown",
   "metadata": {},
   "source": [
    "### 4. Gradient Boosting Regressor"
   ]
  },
  {
   "cell_type": "code",
   "execution_count": 73,
   "metadata": {},
   "outputs": [
    {
     "name": "stderr",
     "output_type": "stream",
     "text": [
      "2024/11/21 11:52:30 INFO mlflow.utils.autologging_utils: Created MLflow autologging run with ID 'a1419eac-f67e-4b1c-9ed2-e84572b6f411', which will track hyperparameters, performance metrics, model artifacts, and lineage information for the current sklearn workflow\n",
      "2024/11/21 11:52:30 WARNING mlflow.utils.autologging_utils: MLflow autologging encountered a warning: \"c:\\Users\\mikkokallio\\AppData\\Local\\Programs\\Python\\Python312\\Lib\\site-packages\\mlflow\\types\\utils.py:407: UserWarning: Hint: Inferred schema contains integer column(s). Integer columns in Python cannot represent missing values. If your input data contains missing values at inference time, it will be encoded as floats and will cause a schema enforcement error. The best way to avoid this problem is to infer the model schema based on a realistic data sample (training dataset) that includes missing values. Alternatively, you can declare integer columns as doubles (float64) whenever these columns may have missing values. See `Handling Integers With Missing Values <https://www.mlflow.org/docs/latest/models.html#handling-integers-with-missing-values>`_ for more details.\"\n",
      "2024/11/21 11:52:35 WARNING mlflow.utils.autologging_utils: MLflow autologging encountered a warning: \"c:\\Users\\mikkokallio\\AppData\\Local\\Programs\\Python\\Python312\\Lib\\site-packages\\mlflow\\types\\utils.py:407: UserWarning: Hint: Inferred schema contains integer column(s). Integer columns in Python cannot represent missing values. If your input data contains missing values at inference time, it will be encoded as floats and will cause a schema enforcement error. The best way to avoid this problem is to infer the model schema based on a realistic data sample (training dataset) that includes missing values. Alternatively, you can declare integer columns as doubles (float64) whenever these columns may have missing values. See `Handling Integers With Missing Values <https://www.mlflow.org/docs/latest/models.html#handling-integers-with-missing-values>`_ for more details.\"\n"
     ]
    },
    {
     "name": "stdout",
     "output_type": "stream",
     "text": [
      "🏃 View run placid_quince_7fx1mq99 at: https://swedencentral.api.azureml.ms/mlflow/v2.0/subscriptions/1c0e26b6-0fcb-4b6d-911c-2a0836275ea4/resourceGroups/rg-AML/providers/Microsoft.MachineLearningServices/workspaces/aml-data_science_masters/#/experiments/e59c04c4-74a6-4c62-86e6-370ea69518dd/runs/a1419eac-f67e-4b1c-9ed2-e84572b6f411\n",
      "🧪 View experiment at: https://swedencentral.api.azureml.ms/mlflow/v2.0/subscriptions/1c0e26b6-0fcb-4b6d-911c-2a0836275ea4/resourceGroups/rg-AML/providers/Microsoft.MachineLearningServices/workspaces/aml-data_science_masters/#/experiments/e59c04c4-74a6-4c62-86e6-370ea69518dd\n"
     ]
    },
    {
     "name": "stderr",
     "output_type": "stream",
     "text": [
      "2024/11/21 11:52:50 WARNING mlflow.utils.autologging_utils: Encountered unexpected error during sklearn autologging: The following failures occurred while performing one or more logging operations: [MlflowException('Failed to perform one or more operations on the run with ID a1419eac-f67e-4b1c-9ed2-e84572b6f411. Failed operations: [RestException(\\'BAD_REQUEST: Response: {\\\\\\'Error\\\\\\': {\\\\\\'Code\\\\\\': \\\\\\'UserError\\\\\\', \\\\\\'Severity\\\\\\': None, \\\\\\'Message\\\\\\': \"Could not log all inputs as datasets:\\\\\\\\nCREATE can\\\\\\'t modify existing entity, please use UPDATE.\", \\\\\\'MessageFormat\\\\\\': None, \\\\\\'MessageParameters\\\\\\': None, \\\\\\'ReferenceCode\\\\\\': None, \\\\\\'DetailsUri\\\\\\': None, \\\\\\'Target\\\\\\': None, \\\\\\'Details\\\\\\': [], \\\\\\'InnerError\\\\\\': None, \\\\\\'DebugInfo\\\\\\': None, \\\\\\'AdditionalInfo\\\\\\': None}, \\\\\\'Correlation\\\\\\': {\\\\\\'operation\\\\\\': \\\\\\'4aa127fe656bb7f4ace32ffe680202d7\\\\\\', \\\\\\'request\\\\\\': \\\\\\'34436b9a1db3f846\\\\\\'}, \\\\\\'Environment\\\\\\': \\\\\\'swedencentral\\\\\\', \\\\\\'Location\\\\\\': \\\\\\'swedencentral\\\\\\', \\\\\\'Time\\\\\\': \\\\\\'2024-11-21T09:52:31.8056108+00:00\\\\\\', \\\\\\'ComponentName\\\\\\': \\\\\\'mlflow\\\\\\', \\\\\\'statusCode\\\\\\': 400, \\\\\\'error_code\\\\\\': \\\\\\'BAD_REQUEST\\\\\\'}\\')]')]\n"
     ]
    }
   ],
   "source": [
    "model = GradientBoostingRegressor(random_state=190)\n",
    "model.fit(X_train, y_train)\n",
    "\n",
    "df_test['log_pSat_Pa'] = model.predict(X_test)"
   ]
  },
  {
   "cell_type": "markdown",
   "metadata": {
    "nteract": {
     "transient": {
      "deleting": false
     }
    }
   },
   "source": [
    "## Mallien arviointi"
   ]
  },
  {
   "cell_type": "code",
   "execution_count": 74,
   "metadata": {
    "gather": {
     "logged": 1732045866694
    },
    "jupyter": {
     "outputs_hidden": false,
     "source_hidden": false
    },
    "nteract": {
     "transient": {
      "deleting": false
     }
    }
   },
   "outputs": [
    {
     "name": "stdout",
     "output_type": "stream",
     "text": [
      "Train loss: 2.6116312914299806\n",
      "CV loss mean: 2.6794213727758844\n",
      "Train R^2: 0.7317339554862234\n",
      "CV R^2: 0.7246891200107113\n"
     ]
    }
   ],
   "source": [
    "### Train loss\n",
    "y_train_pred = model.predict(X_train)\n",
    "train_loss = mean_squared_error(y_train, y_train_pred)\n",
    "\n",
    "### 5-fold cross-validation\n",
    "results = []\n",
    "kf = KFold(n_splits=5, shuffle=True, random_state=190)\n",
    "mse_scorer = make_scorer(mean_squared_error)\n",
    "cv_scores = cross_val_score(model, X_train, y_train, cv=kf, scoring=mse_scorer)\n",
    "cv_loss_mean = cv_scores.mean()\n",
    "\n",
    "r2_train = r2_score(y_train, y_train_pred)\n",
    "r2_cv = cross_val_score(model, X_train, y_train, cv=kf, scoring='r2').mean()\n",
    "\n",
    "print('Train loss:', train_loss)\n",
    "print('CV loss mean:', cv_loss_mean)\n",
    "print('Train R^2:', r2_train)\n",
    "print('CV R^2:', r2_cv)"
   ]
  },
  {
   "cell_type": "markdown",
   "metadata": {
    "nteract": {
     "transient": {
      "deleting": false
     }
    }
   },
   "source": [
    "## Ennustuksen tallentaminen"
   ]
  },
  {
   "cell_type": "code",
   "execution_count": 75,
   "metadata": {
    "gather": {
     "logged": 1732046039632
    },
    "jupyter": {
     "outputs_hidden": false,
     "source_hidden": false
    },
    "nteract": {
     "transient": {
      "deleting": false
     }
    }
   },
   "outputs": [],
   "source": [
    "df_test[['ID', 'log_pSat_Pa']].to_csv('../submission/submission.csv', index=False)"
   ]
  }
 ],
 "metadata": {
  "kernel_info": {
   "name": "python310-sdkv2"
  },
  "kernelspec": {
   "display_name": "Python 3",
   "language": "python",
   "name": "python3"
  },
  "language_info": {
   "codemirror_mode": {
    "name": "ipython",
    "version": 3
   },
   "file_extension": ".py",
   "mimetype": "text/x-python",
   "name": "python",
   "nbconvert_exporter": "python",
   "pygments_lexer": "ipython3",
   "version": "3.12.7"
  },
  "microsoft": {
   "host": {
    "AzureML": {
     "notebookHasBeenCompleted": true
    }
   },
   "ms_spell_check": {
    "ms_spell_check_language": "en"
   }
  },
  "nteract": {
   "version": "nteract-front-end@1.0.0"
  }
 },
 "nbformat": 4,
 "nbformat_minor": 2
}
