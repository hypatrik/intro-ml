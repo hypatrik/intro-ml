{
 "cells": [
  {
   "cell_type": "markdown",
   "metadata": {
    "nteract": {
     "transient": {
      "deleting": false
     }
    }
   },
   "source": [
    "# Ryhmä-190"
   ]
  },
  {
   "cell_type": "markdown",
   "metadata": {
    "nteract": {
     "transient": {
      "deleting": false
     }
    }
   },
   "source": [
    "## Python-paketit"
   ]
  },
  {
   "cell_type": "code",
   "execution_count": 633,
   "metadata": {
    "editable": false,
    "gather": {
     "logged": 1732048704411
    },
    "jupyter": {
     "outputs_hidden": true,
     "source_hidden": false
    },
    "nteract": {
     "transient": {
      "deleting": false
     }
    },
    "run_control": {
     "frozen": true
    }
   },
   "outputs": [],
   "source": [
    "# Jupyter-notebookissa voi asentaa paketit samaan tapaan kuin komentoriviltä.\n",
    "# Tähän käytetään \"magic commandeja\", jotka alkavat %-merkillä.\n",
    "# Näiden asentamisessa voi mennä muutama minuutti, mutta sen jälkeen niitä ei tarvitse asentaa uudestaan. \n",
    "#%pip install seaborn\n",
    "#%pip install mlflow azureml azureml-core azureml-mlflow azure-identity"
   ]
  },
  {
   "cell_type": "code",
   "execution_count": 1,
   "metadata": {
    "gather": {
     "logged": 1732052063268
    },
    "jupyter": {
     "outputs_hidden": false,
     "source_hidden": false
    },
    "nteract": {
     "transient": {
      "deleting": false
     }
    }
   },
   "outputs": [],
   "source": [
    "import os\n",
    "import pandas as pd\n",
    "import numpy as np\n",
    "import seaborn as sns\n",
    "import matplotlib.pyplot as plt\n",
    "from sklearn.dummy import DummyRegressor\n",
    "from sklearn.linear_model import LinearRegression\n",
    "from sklearn.ensemble import RandomForestRegressor\n",
    "from sklearn.ensemble import GradientBoostingRegressor\n",
    "from sklearn.metrics import mean_squared_error, make_scorer, r2_score\n",
    "from sklearn.model_selection import KFold, cross_val_score\n",
    "#from azureml.core import Workspace\n",
    "#from azure.identity import InteractiveBrowserCredential\n",
    "#import mlflow"
   ]
  },
  {
   "cell_type": "markdown",
   "metadata": {
    "nteract": {
     "transient": {
      "deleting": false
     }
    }
   },
   "source": [
    "## MLFlow-seuranta (ei tällä hetkellä käytössä)\n",
    "\n",
    "Tarkistetaan ajoympäristö (Azure vai oma kone) ja autentikoidutaan sen mukaan."
   ]
  },
  {
   "cell_type": "code",
   "execution_count": 635,
   "metadata": {},
   "outputs": [],
   "source": [
    "def is_running_in_azure():\n",
    "    return 'AZUREML_RUN_ID' in os.environ\n",
    "\n",
    "def get_workspace():\n",
    "    if is_running_in_azure():\n",
    "        return Workspace.from_config()\n",
    "    else:\n",
    "        return Workspace(subscription_id='1c0e26b6-0fcb-4b6d-911c-2a0836275ea4',\n",
    "                         resource_group='rg-AML',\n",
    "                         workspace_name='aml-data_science_masters')\n",
    "#ws = get_workspace()"
   ]
  },
  {
   "cell_type": "code",
   "execution_count": 636,
   "metadata": {
    "gather": {
     "logged": 1732052187541
    },
    "jupyter": {
     "outputs_hidden": false,
     "source_hidden": false
    },
    "nteract": {
     "transient": {
      "deleting": false
     }
    }
   },
   "outputs": [],
   "source": [
    "#mlflow.set_tracking_uri(ws.get_mlflow_tracking_uri())\n",
    "#experiment_name = 'group-190-tracking'\n",
    "#mlflow.set_experiment(experiment_name)\n",
    "#mlflow.autolog()"
   ]
  },
  {
   "cell_type": "code",
   "execution_count": 2,
   "metadata": {},
   "outputs": [],
   "source": [
    "def evaluate_model(model, X_train, y_train, random_state=42):\n",
    "    ### Train loss\n",
    "    y_train_pred = model.predict(X_train)\n",
    "    train_loss = mean_squared_error(y_train, y_train_pred)\n",
    "\n",
    "    ### 5-fold cross-validation\n",
    "    kf = KFold(n_splits=5, shuffle=True, random_state=random_state)\n",
    "    mse_scorer = make_scorer(mean_squared_error)\n",
    "    cv_scores = cross_val_score(model, X_train, y_train, cv=kf, scoring=mse_scorer)\n",
    "    cv_loss_mean = cv_scores.mean()\n",
    "\n",
    "    r2_train = r2_score(y_train, y_train_pred)\n",
    "    r2_cv = cross_val_score(model, X_train, y_train, cv=kf, scoring='r2').mean()\n",
    "\n",
    "    print('Train loss:', train_loss)\n",
    "    print('CV loss mean:', cv_loss_mean)\n",
    "    print('Train R^2:', r2_train)\n",
    "    print('CV R^2:', r2_cv)\n"
   ]
  },
  {
   "cell_type": "markdown",
   "metadata": {
    "nteract": {
     "transient": {
      "deleting": false
     }
    }
   },
   "source": [
    "## Tietoaineistojen lataaminen"
   ]
  },
  {
   "cell_type": "code",
   "execution_count": 3,
   "metadata": {
    "gather": {
     "logged": 1732052424041
    },
    "jupyter": {
     "outputs_hidden": false,
     "source_hidden": false
    },
    "nteract": {
     "transient": {
      "deleting": false
     }
    }
   },
   "outputs": [],
   "source": [
    "df_train = pd.read_csv('../data/train.csv', encoding='utf-8', header=0)\n",
    "df_test = pd.read_csv('../data/test.csv', encoding='utf-8', header=0)"
   ]
  },
  {
   "cell_type": "markdown",
   "metadata": {
    "nteract": {
     "transient": {
      "deleting": false
     }
    }
   },
   "source": [
    "## Esiprosessointi"
   ]
  },
  {
   "cell_type": "code",
   "execution_count": 639,
   "metadata": {
    "gather": {
     "logged": 1732052442780
    },
    "jupyter": {
     "outputs_hidden": false,
     "source_hidden": false
    },
    "nteract": {
     "transient": {
      "deleting": false
     }
    }
   },
   "outputs": [
    {
     "name": "stdout",
     "output_type": "stream",
     "text": [
      "<class 'pandas.core.frame.DataFrame'>\n",
      "RangeIndex: 26637 entries, 0 to 26636\n",
      "Data columns (total 27 columns):\n",
      " #   Column                        Non-Null Count  Dtype  \n",
      "---  ------                        --------------  -----  \n",
      " 0   ID                            26637 non-null  int64  \n",
      " 1   log_pSat_Pa                   26637 non-null  float64\n",
      " 2   MW                            26637 non-null  float64\n",
      " 3   NumOfAtoms                    26637 non-null  int64  \n",
      " 4   NumOfC                        26637 non-null  int64  \n",
      " 5   NumOfO                        26637 non-null  int64  \n",
      " 6   NumOfN                        26637 non-null  int64  \n",
      " 7   NumHBondDonors                26637 non-null  int64  \n",
      " 8   NumOfConf                     26637 non-null  float64\n",
      " 9   NumOfConfUsed                 26637 non-null  float64\n",
      " 10  parentspecies                 26427 non-null  object \n",
      " 11  C=C (non-aromatic)            26637 non-null  int64  \n",
      " 12  C=C-C=O in non-aromatic ring  26637 non-null  int64  \n",
      " 13  hydroxyl (alkyl)              26637 non-null  int64  \n",
      " 14  aldehyde                      26637 non-null  int64  \n",
      " 15  ketone                        26637 non-null  int64  \n",
      " 16  carboxylic acid               26637 non-null  int64  \n",
      " 17  ester                         26637 non-null  int64  \n",
      " 18  ether (alicyclic)             26637 non-null  int64  \n",
      " 19  nitrate                       26637 non-null  int64  \n",
      " 20  nitro                         26637 non-null  int64  \n",
      " 21  aromatic hydroxyl             26637 non-null  int64  \n",
      " 22  carbonylperoxynitrate         26637 non-null  int64  \n",
      " 23  peroxide                      26637 non-null  int64  \n",
      " 24  hydroperoxide                 26637 non-null  int64  \n",
      " 25  carbonylperoxyacid            26637 non-null  int64  \n",
      " 26  nitroester                    26637 non-null  int64  \n",
      "dtypes: float64(4), int64(22), object(1)\n",
      "memory usage: 5.5+ MB\n"
     ]
    }
   ],
   "source": [
    "#df_train['parentspecies'] = df_train['parentspecies'].astype('category')\n",
    "#df_train['parentspecies'] = df_train['parentspecies'].cat.codes\n",
    "#df_test['parentspecies'] = df_test['parentspecies'].astype('category')\n",
    "#df_test['parentspecies'] = df_test['parentspecies'].cat.codes\n",
    "\n",
    "df_train.info()"
   ]
  },
  {
   "cell_type": "markdown",
   "metadata": {},
   "source": [
    "# Feature engineering\n",
    "\n",
    "Seuraavassa taustaa. Ajatuksena on luoda \"meaningful features\". Bayesian Data Analysis kurssilla puhuttiin Generalized Linear Regression yhteydessä, että on kannattavaa olla tarkkana datasetin kanssa. Esimerkissä käytettiin puun lehtien painon arviointia. Siinä yksittäiset mitat kuten puun korkeus leveys yms ei antanut kovin hyvää mallia. Näistä kuitenkin pystyttiin luomaan uusia predictoreita, kuten puun muoto, lehtiosan volyymi jne.\n",
    "\n",
    "Koska me emme ole alan asiantuntijoita, tulkitsen tekoälyn [käyttösääntöjä](https://studies.helsinki.fi/kurssit/toteutus/hy-opt-cur-2425-b5ccfa1b-ac12-4a9a-bef8-b46c0e808555/DATA11002) kurssilla, että voidaan kysyä mitä näistä voidaan laskea. Joten näin tehtiin ja saatiin seuraavia kaavoja.\n",
    "\n",
    "BDA kurssilla myös poistettiin tämän jälkeen alkuperäiset arvot sotkemasta!"
   ]
  },
  {
   "cell_type": "code",
   "execution_count": 4,
   "metadata": {},
   "outputs": [],
   "source": [
    "def transform_gbr(orig_df):\n",
    "    df = orig_df.copy()\n",
    "    df = df.replace([np.inf, -np.inf], np.nan).fillna(0)\n",
    "\n",
    "    # Add meaningful features\n",
    "    df['AtomFraction'] = (df['NumOfC'] + df['NumOfO'] + df['NumOfN']) / df['NumOfAtoms']\n",
    "    df['Polarity'] = df['NumHBondDonors'] / df['MW']\n",
    "    df['HBondDensity'] = df['NumHBondDonors'] / df['NumOfAtoms']\n",
    "    df['GroupDensity_CarboxylicAcid'] = df['carboxylic acid'] / df['MW']\n",
    "    df['Unsaturation'] = df['C=C (non-aromatic)'] + df['C=C-C=O in non-aromatic ring']\n",
    "    df['ConfigurationalComplexity'] = df['NumOfConf'] / df['MW']\n",
    "\n",
    "    # More derived features\n",
    "    df = pd.get_dummies(df, columns=['parentspecies'], drop_first=True)\n",
    "    df['HydrogenBondPotential'] = df['NumHBondDonors'] + (df['NumOfO'] + df['NumOfN'])\n",
    "    polar_groups = ['hydroxyl (alkyl)', 'aldehyde', 'ketone', 'carboxylic acid', 'ester', 'nitro']\n",
    "    df['PolarGroupCount'] = df[polar_groups].sum(axis=1)\n",
    "    df['AromaticGroupFraction'] = df['aromatic hydroxyl'] / (df[polar_groups + ['aromatic hydroxyl']].sum(axis=1) + 1e-9)\n",
    "    df['MolecularSize'] = df['MW'] + df['NumOfAtoms']\n",
    "    df['DegreeOfUnsaturation'] = df['NumOfC'] + 1 - (df['NumOfAtoms'] - df['NumOfC']) / 2\n",
    "    df['FlexibilityRatio'] = df['NumOfConfUsed'] / (df['NumOfConf'] + 1e-9)\n",
    "    df['PolarityIndex'] = (df['NumOfO'] + df['NumOfN'] + df[polar_groups].sum(axis=1)) / (df['NumOfC'] + df['C=C (non-aromatic)'] + 1e-9)\n",
    "    df['Hydrophobicity'] = df['NumOfC'] / (df['NumOfAtoms'] + 1e-9)\n",
    "    functional_groups = [\n",
    "        'C=C (non-aromatic)', 'hydroxyl (alkyl)', 'aldehyde', 'ketone',\n",
    "        'carboxylic acid', 'ester', 'ether (alicyclic)', 'nitrate',\n",
    "        'nitro', 'aromatic hydroxyl', 'carbonylperoxynitrate', 'peroxide',\n",
    "        'hydroperoxide', 'carbonylperoxyacid', 'nitroester'\n",
    "    ]\n",
    "    for group in functional_groups:\n",
    "        df[f'{group}_Indicator'] = (df[group] > 0).astype(int)\n",
    "\n",
    "    symmetric_groups = ['ester', 'ether (alicyclic)', 'ketone']\n",
    "    asymmetric_groups = ['aldehyde', 'carboxylic acid']\n",
    "    df['SymmetryIndex'] = df[symmetric_groups].sum(axis=1) / (df[symmetric_groups + asymmetric_groups].sum(axis=1) + 1e-9)\n",
    "    df['ShapeCompactness'] = df['NumOfAtoms'] / (df['NumOfConfUsed'] + 1e-9)\n",
    "    df['HydrogenBondDensity'] = df['NumHBondDonors'] / (df['MW'] + 1e-9)\n",
    "    df['VolatilityIndex'] = (\n",
    "        df['NumOfC'] / (df[polar_groups].sum(axis=1) + 1e-9) *\n",
    "        1 / (df['MW'] + 1e-9)\n",
    "    )\n",
    "    df['OxygenToCarbonRatio'] = df['NumOfO'] / (df['NumOfC'] + 1e-9)\n",
    "    #df = df.drop(columns=['NumOfAtoms', 'NumOfC', 'NumOfO', 'NumOfN', 'C=C (non-aromatic)', 'hydroxyl (alkyl)', 'aldehyde', 'ketone', 'carboxylic acid', 'ester', 'ether (alicyclic)', 'nitrate', 'nitro', 'aromatic hydroxyl', 'carbonylperoxynitrate', 'peroxide', 'hydroperoxide', 'carbonylperoxyacid', 'nitroester', 'NumOfConf', 'NumOfConfUsed'], axis=1)\n",
    "\n",
    "\n",
    "    # df['C:O_ratio'] = df['NumOfC'] / df['NumOfO']\n",
    "    # df['C:N_ratio'] = df['NumOfC'] / df['NumOfN']\n",
    "    # df['Percent_C'] = (df['NumOfC'] / df['NumOfAtoms'])\n",
    "    # df['Percent_O'] = (df['NumOfO'] / df['NumOfAtoms'])\n",
    "    # df['Percent_N'] = (df['NumOfN'] / df['NumOfAtoms'])\n",
    "    # df['HBD_fraction'] = df['NumHBondDonors'] / df['NumOfAtoms']\n",
    "    # df['FractionOfConfsUsed'] = df['NumOfConfUsed'] / df['NumOfConf']\n",
    "    # df['Has_Conjugated_System'] = np.where((df['C=C-C=O in non-aromatic ring'] > 0) | (df['C=C (non-aromatic)'] > 0), 1, 0)\n",
    "\n",
    "    # X_train_gbr['NumOfConf'] = np.log(X_train_gbr['NumOfConf'])\n",
    "    # X_train_gbr['NumOfConfUsed'] = (X_train_gbr['NumOfConfUsed'] == 40).astype(int)\n",
    "    drop_cols = [\n",
    "        # 'NumOfC',\n",
    "        # 'NumOfO',\n",
    "        # 'NumOfN',\n",
    "        # 'NumOfAtoms',\n",
    "        # 'NumHBondDonors',\n",
    "        # 'carboxylic acid',\n",
    "        # 'MW',\n",
    "        # 'C=C-C=O in non-aromatic ring',\n",
    "        # 'C=C (non-aromatic)',\n",
    "        #'NumOfConf',\n",
    "        'NumOfConfUsed',\n",
    "        'parentspecies',\n",
    "    ]\n",
    "    #df = df.drop(columns=drop_cols, axis=1)\n",
    "\n",
    "    return df"
   ]
  },
  {
   "cell_type": "markdown",
   "metadata": {
    "nteract": {
     "transient": {
      "deleting": false
     }
    }
   },
   "source": [
    "## Mallien kouluttaminen"
   ]
  },
  {
   "cell_type": "code",
   "execution_count": 5,
   "metadata": {
    "gather": {
     "logged": 1732052445215
    },
    "jupyter": {
     "outputs_hidden": false,
     "source_hidden": false
    },
    "nteract": {
     "transient": {
      "deleting": false
     }
    }
   },
   "outputs": [
    {
     "name": "stdout",
     "output_type": "stream",
     "text": [
      "<class 'pandas.core.frame.DataFrame'>\n",
      "RangeIndex: 26637 entries, 0 to 26636\n",
      "Data columns (total 65 columns):\n",
      " #   Column                             Non-Null Count  Dtype  \n",
      "---  ------                             --------------  -----  \n",
      " 0   MW                                 26637 non-null  float64\n",
      " 1   NumOfAtoms                         26637 non-null  int64  \n",
      " 2   NumOfC                             26637 non-null  int64  \n",
      " 3   NumOfO                             26637 non-null  int64  \n",
      " 4   NumOfN                             26637 non-null  int64  \n",
      " 5   NumHBondDonors                     26637 non-null  int64  \n",
      " 6   NumOfConf                          26637 non-null  float64\n",
      " 7   NumOfConfUsed                      26637 non-null  float64\n",
      " 8   C=C (non-aromatic)                 26637 non-null  int64  \n",
      " 9   C=C-C=O in non-aromatic ring       26637 non-null  int64  \n",
      " 10  hydroxyl (alkyl)                   26637 non-null  int64  \n",
      " 11  aldehyde                           26637 non-null  int64  \n",
      " 12  ketone                             26637 non-null  int64  \n",
      " 13  carboxylic acid                    26637 non-null  int64  \n",
      " 14  ester                              26637 non-null  int64  \n",
      " 15  ether (alicyclic)                  26637 non-null  int64  \n",
      " 16  nitrate                            26637 non-null  int64  \n",
      " 17  nitro                              26637 non-null  int64  \n",
      " 18  aromatic hydroxyl                  26637 non-null  int64  \n",
      " 19  carbonylperoxynitrate              26637 non-null  int64  \n",
      " 20  peroxide                           26637 non-null  int64  \n",
      " 21  hydroperoxide                      26637 non-null  int64  \n",
      " 22  carbonylperoxyacid                 26637 non-null  int64  \n",
      " 23  nitroester                         26637 non-null  int64  \n",
      " 24  AtomFraction                       26637 non-null  float64\n",
      " 25  Polarity                           26637 non-null  float64\n",
      " 26  HBondDensity                       26637 non-null  float64\n",
      " 27  GroupDensity_CarboxylicAcid        26637 non-null  float64\n",
      " 28  Unsaturation                       26637 non-null  int64  \n",
      " 29  ConfigurationalComplexity          26637 non-null  float64\n",
      " 30  parentspecies_apin                 26637 non-null  bool   \n",
      " 31  parentspecies_apin_decane          26637 non-null  bool   \n",
      " 32  parentspecies_apin_decane_toluene  26637 non-null  bool   \n",
      " 33  parentspecies_apin_toluene         26637 non-null  bool   \n",
      " 34  parentspecies_decane               26637 non-null  bool   \n",
      " 35  parentspecies_decane_toluene       26637 non-null  bool   \n",
      " 36  parentspecies_toluene              26637 non-null  bool   \n",
      " 37  HydrogenBondPotential              26637 non-null  int64  \n",
      " 38  PolarGroupCount                    26637 non-null  int64  \n",
      " 39  AromaticGroupFraction              26637 non-null  float64\n",
      " 40  MolecularSize                      26637 non-null  float64\n",
      " 41  DegreeOfUnsaturation               26637 non-null  float64\n",
      " 42  FlexibilityRatio                   26637 non-null  float64\n",
      " 43  PolarityIndex                      26637 non-null  float64\n",
      " 44  Hydrophobicity                     26637 non-null  float64\n",
      " 45  C=C (non-aromatic)_Indicator       26637 non-null  int64  \n",
      " 46  hydroxyl (alkyl)_Indicator         26637 non-null  int64  \n",
      " 47  aldehyde_Indicator                 26637 non-null  int64  \n",
      " 48  ketone_Indicator                   26637 non-null  int64  \n",
      " 49  carboxylic acid_Indicator          26637 non-null  int64  \n",
      " 50  ester_Indicator                    26637 non-null  int64  \n",
      " 51  ether (alicyclic)_Indicator        26637 non-null  int64  \n",
      " 52  nitrate_Indicator                  26637 non-null  int64  \n",
      " 53  nitro_Indicator                    26637 non-null  int64  \n",
      " 54  aromatic hydroxyl_Indicator        26637 non-null  int64  \n",
      " 55  carbonylperoxynitrate_Indicator    26637 non-null  int64  \n",
      " 56  peroxide_Indicator                 26637 non-null  int64  \n",
      " 57  hydroperoxide_Indicator            26637 non-null  int64  \n",
      " 58  carbonylperoxyacid_Indicator       26637 non-null  int64  \n",
      " 59  nitroester_Indicator               26637 non-null  int64  \n",
      " 60  SymmetryIndex                      26637 non-null  float64\n",
      " 61  ShapeCompactness                   26637 non-null  float64\n",
      " 62  HydrogenBondDensity                26637 non-null  float64\n",
      " 63  VolatilityIndex                    26637 non-null  float64\n",
      " 64  OxygenToCarbonRatio                26637 non-null  float64\n",
      "dtypes: bool(7), float64(19), int64(39)\n",
      "memory usage: 12.0 MB\n"
     ]
    }
   ],
   "source": [
    "X_train, y_train = df_train.drop(columns=['log_pSat_Pa', 'ID']), df_train['log_pSat_Pa']\n",
    "X_test = df_test.drop(columns=['ID'])\n",
    "X_train_gbr = transform_gbr(X_train)\n",
    "X_test_gbr = transform_gbr(X_test)\n",
    "X_train_gbr.info()\n",
    "\n",
    "#selected_features = select_features(X_train_gbr, y_train)\n",
    "#X_train_gbr = X_train_gbr[selected_features]\n",
    "#X_test_gbr = X_test_gbr[selected_features]\n"
   ]
  },
  {
   "cell_type": "markdown",
   "metadata": {
    "nteract": {
     "transient": {
      "deleting": false
     }
    }
   },
   "source": [
    "Erilaisia malleja alla. Kaikki mallit käyttävät samaa nimeä `model`, eli vain viimeisenä koulutettu vaikuttaa tiedostoon `submission.csv`.\n",
    "\n",
    "### 1. Dummy"
   ]
  },
  {
   "cell_type": "code",
   "execution_count": 644,
   "metadata": {
    "editable": true,
    "gather": {
     "logged": 1732052459650
    },
    "jupyter": {
     "outputs_hidden": false,
     "source_hidden": false
    },
    "nteract": {
     "transient": {
      "deleting": false
     }
    },
    "run_control": {
     "frozen": false
    }
   },
   "outputs": [],
   "source": [
    "model = DummyRegressor(strategy='mean')\n",
    "model.fit(X_train, y_train)\n",
    "\n",
    "df_test['log_pSat_Pa'] = model.predict(X_test)"
   ]
  },
  {
   "cell_type": "markdown",
   "metadata": {
    "nteract": {
     "transient": {
      "deleting": false
     }
    }
   },
   "source": [
    "### 2. Yksinkertainen regressio"
   ]
  },
  {
   "cell_type": "code",
   "execution_count": null,
   "metadata": {
    "gather": {
     "logged": 1732052467120
    },
    "jupyter": {
     "outputs_hidden": false,
     "source_hidden": false
    },
    "nteract": {
     "transient": {
      "deleting": false
     }
    }
   },
   "outputs": [
    {
     "name": "stdout",
     "output_type": "stream",
     "text": [
      "['MW', 'NumOfAtoms', 'NumOfN', 'NumHBondDonors', 'C=C-C=O in non-aromatic ring', 'ketone', 'carboxylic acid', 'ester', 'ether (alicyclic)', 'aromatic hydroxyl', 'carbonylperoxynitrate', 'peroxide', 'hydroperoxide', 'Polarity', 'Unsaturation', 'parentspecies_apin_decane', 'parentspecies_apin_decane_toluene', 'parentspecies_apin_toluene', 'parentspecies_decane', 'parentspecies_decane_toluene', 'AromaticGroupFraction', 'MolecularSize', 'nitrate_Indicator', 'HydrogenBondDensity', 'OxygenToCarbonRatio']\n",
      "New best combination: ['AtomFraction', 'GroupDensity_CarboxylicAcid', 'ConfigurationalComplexity', 'carbonylperoxynitrate_Indicator', 'PolarityIndex', 'parentspecies_apin', 'aldehyde_Indicator', 'peroxide_Indicator', 'ShapeCompactness', 'FlexibilityRatio', 'VolatilityIndex', 'PolarGroupCount', 'HBondDensity', 'HydrogenBondPotential', 'nitro_Indicator', 'ester_Indicator', 'parentspecies_toluene', 'DegreeOfUnsaturation', 'Hydrophobicity', 'hydroxyl (alkyl)_Indicator', 'ketone_Indicator', 'nitroester_Indicator', 'hydroxyl (alkyl)', 'carbonylperoxyacid', 'NumOfConfUsed', 'aldehyde', 'SymmetryIndex', 'NumOfConf', 'NumOfC', 'nitro', 'C=C (non-aromatic)', 'C=C (non-aromatic)_Indicator', 'nitrate', 'carbonylperoxyacid_Indicator', 'hydroperoxide_Indicator', 'nitroester', 'carboxylic acid_Indicator', 'aromatic hydroxyl_Indicator', 'NumOfO', 'ether (alicyclic)_Indicator'] with score: 0.7523158952\n",
      "New best combination: ['AtomFraction', 'ConfigurationalComplexity', 'carbonylperoxynitrate_Indicator', 'PolarityIndex', 'parentspecies_apin', 'aldehyde_Indicator', 'peroxide_Indicator', 'ShapeCompactness', 'FlexibilityRatio', 'VolatilityIndex', 'PolarGroupCount', 'HBondDensity', 'HydrogenBondPotential', 'nitro_Indicator', 'ester_Indicator', 'parentspecies_toluene', 'DegreeOfUnsaturation', 'Hydrophobicity', 'hydroxyl (alkyl)_Indicator', 'ketone_Indicator', 'nitroester_Indicator', 'hydroxyl (alkyl)', 'carbonylperoxyacid', 'NumOfConfUsed', 'aldehyde', 'SymmetryIndex', 'NumOfConf', 'NumOfC', 'nitro', 'C=C (non-aromatic)', 'C=C (non-aromatic)_Indicator', 'nitrate', 'carbonylperoxyacid_Indicator', 'hydroperoxide_Indicator', 'nitroester', 'carboxylic acid_Indicator', 'aromatic hydroxyl_Indicator', 'NumOfO', 'ether (alicyclic)_Indicator'] with score: 0.7523897085\n",
      "New best combination: ['AtomFraction', 'GroupDensity_CarboxylicAcid', 'ConfigurationalComplexity', 'carbonylperoxynitrate_Indicator', 'PolarityIndex', 'parentspecies_apin', 'peroxide_Indicator', 'ShapeCompactness', 'FlexibilityRatio', 'VolatilityIndex', 'PolarGroupCount', 'HBondDensity', 'HydrogenBondPotential', 'nitro_Indicator', 'ester_Indicator', 'parentspecies_toluene', 'DegreeOfUnsaturation', 'Hydrophobicity', 'hydroxyl (alkyl)_Indicator', 'ketone_Indicator', 'nitroester_Indicator', 'hydroxyl (alkyl)', 'carbonylperoxyacid', 'NumOfConfUsed', 'aldehyde', 'SymmetryIndex', 'NumOfConf', 'NumOfC', 'nitro', 'C=C (non-aromatic)', 'C=C (non-aromatic)_Indicator', 'nitrate', 'carbonylperoxyacid_Indicator', 'hydroperoxide_Indicator', 'nitroester', 'carboxylic acid_Indicator', 'aromatic hydroxyl_Indicator', 'NumOfO', 'ether (alicyclic)_Indicator'] with score: 0.7525147298\n",
      "New best combination: ['AtomFraction', 'GroupDensity_CarboxylicAcid', 'ConfigurationalComplexity', 'carbonylperoxynitrate_Indicator', 'PolarityIndex', 'parentspecies_apin', 'aldehyde_Indicator', 'peroxide_Indicator', 'ShapeCompactness', 'FlexibilityRatio', 'VolatilityIndex', 'PolarGroupCount', 'HBondDensity', 'HydrogenBondPotential', 'nitro_Indicator', 'ester_Indicator', 'parentspecies_toluene', 'DegreeOfUnsaturation', 'Hydrophobicity', 'ketone_Indicator', 'nitroester_Indicator', 'hydroxyl (alkyl)', 'carbonylperoxyacid', 'NumOfConfUsed', 'aldehyde', 'SymmetryIndex', 'NumOfConf', 'NumOfC', 'nitro', 'C=C (non-aromatic)', 'C=C (non-aromatic)_Indicator', 'nitrate', 'carbonylperoxyacid_Indicator', 'hydroperoxide_Indicator', 'nitroester', 'carboxylic acid_Indicator', 'aromatic hydroxyl_Indicator', 'NumOfO', 'ether (alicyclic)_Indicator'] with score: 0.7527481039\n"
     ]
    },
    {
     "ename": "KeyboardInterrupt",
     "evalue": "",
     "output_type": "error",
     "traceback": [
      "\u001b[1;31m---------------------------------------------------------------------------\u001b[0m",
      "\u001b[1;31mKeyboardInterrupt\u001b[0m                         Traceback (most recent call last)",
      "Cell \u001b[1;32mIn[16], line 118\u001b[0m\n\u001b[0;32m    116\u001b[0m X_subset \u001b[38;5;241m=\u001b[39m X_transformed[current_combination]\n\u001b[0;32m    117\u001b[0m model\u001b[38;5;241m.\u001b[39mfit(X_subset, y_train)\n\u001b[1;32m--> 118\u001b[0m score \u001b[38;5;241m=\u001b[39m \u001b[43mevaluate_model\u001b[49m\u001b[43m(\u001b[49m\u001b[43mmodel\u001b[49m\u001b[43m,\u001b[49m\u001b[43m \u001b[49m\u001b[43mX_subset\u001b[49m\u001b[43m,\u001b[49m\u001b[43m \u001b[49m\u001b[43my_train\u001b[49m\u001b[43m)\u001b[49m\n\u001b[0;32m    120\u001b[0m \u001b[38;5;28;01mif\u001b[39;00m score \u001b[38;5;241m>\u001b[39m best_score:\n\u001b[0;32m    121\u001b[0m     best_score \u001b[38;5;241m=\u001b[39m score\n",
      "Cell \u001b[1;32mIn[16], line 16\u001b[0m, in \u001b[0;36mevaluate_model\u001b[1;34m(model, X, y)\u001b[0m\n\u001b[0;32m     15\u001b[0m \u001b[38;5;28;01mdef\u001b[39;00m \u001b[38;5;21mevaluate_model\u001b[39m(model, X, y):\n\u001b[1;32m---> 16\u001b[0m     scores \u001b[38;5;241m=\u001b[39m \u001b[43mcross_val_score\u001b[49m\u001b[43m(\u001b[49m\u001b[43mmodel\u001b[49m\u001b[43m,\u001b[49m\u001b[43m \u001b[49m\u001b[43mX\u001b[49m\u001b[43m,\u001b[49m\u001b[43m \u001b[49m\u001b[43my\u001b[49m\u001b[43m,\u001b[49m\u001b[43m \u001b[49m\u001b[43mcv\u001b[49m\u001b[38;5;241;43m=\u001b[39;49m\u001b[38;5;241;43m5\u001b[39;49m\u001b[43m,\u001b[49m\u001b[43m \u001b[49m\u001b[43mscoring\u001b[49m\u001b[38;5;241;43m=\u001b[39;49m\u001b[38;5;124;43m'\u001b[39;49m\u001b[38;5;124;43mr2\u001b[39;49m\u001b[38;5;124;43m'\u001b[39;49m\u001b[43m)\u001b[49m\n\u001b[0;32m     17\u001b[0m     \u001b[38;5;28;01mreturn\u001b[39;00m scores\u001b[38;5;241m.\u001b[39mmean()\n",
      "File \u001b[1;32mc:\\Users\\mikkokallio\\AppData\\Local\\Programs\\Python\\Python312\\Lib\\site-packages\\sklearn\\utils\\_param_validation.py:213\u001b[0m, in \u001b[0;36mvalidate_params.<locals>.decorator.<locals>.wrapper\u001b[1;34m(*args, **kwargs)\u001b[0m\n\u001b[0;32m    207\u001b[0m \u001b[38;5;28;01mtry\u001b[39;00m:\n\u001b[0;32m    208\u001b[0m     \u001b[38;5;28;01mwith\u001b[39;00m config_context(\n\u001b[0;32m    209\u001b[0m         skip_parameter_validation\u001b[38;5;241m=\u001b[39m(\n\u001b[0;32m    210\u001b[0m             prefer_skip_nested_validation \u001b[38;5;129;01mor\u001b[39;00m global_skip_validation\n\u001b[0;32m    211\u001b[0m         )\n\u001b[0;32m    212\u001b[0m     ):\n\u001b[1;32m--> 213\u001b[0m         \u001b[38;5;28;01mreturn\u001b[39;00m \u001b[43mfunc\u001b[49m\u001b[43m(\u001b[49m\u001b[38;5;241;43m*\u001b[39;49m\u001b[43margs\u001b[49m\u001b[43m,\u001b[49m\u001b[43m \u001b[49m\u001b[38;5;241;43m*\u001b[39;49m\u001b[38;5;241;43m*\u001b[39;49m\u001b[43mkwargs\u001b[49m\u001b[43m)\u001b[49m\n\u001b[0;32m    214\u001b[0m \u001b[38;5;28;01mexcept\u001b[39;00m InvalidParameterError \u001b[38;5;28;01mas\u001b[39;00m e:\n\u001b[0;32m    215\u001b[0m     \u001b[38;5;66;03m# When the function is just a wrapper around an estimator, we allow\u001b[39;00m\n\u001b[0;32m    216\u001b[0m     \u001b[38;5;66;03m# the function to delegate validation to the estimator, but we replace\u001b[39;00m\n\u001b[0;32m    217\u001b[0m     \u001b[38;5;66;03m# the name of the estimator by the name of the function in the error\u001b[39;00m\n\u001b[0;32m    218\u001b[0m     \u001b[38;5;66;03m# message to avoid confusion.\u001b[39;00m\n\u001b[0;32m    219\u001b[0m     msg \u001b[38;5;241m=\u001b[39m re\u001b[38;5;241m.\u001b[39msub(\n\u001b[0;32m    220\u001b[0m         \u001b[38;5;124mr\u001b[39m\u001b[38;5;124m\"\u001b[39m\u001b[38;5;124mparameter of \u001b[39m\u001b[38;5;124m\\\u001b[39m\u001b[38;5;124mw+ must be\u001b[39m\u001b[38;5;124m\"\u001b[39m,\n\u001b[0;32m    221\u001b[0m         \u001b[38;5;124mf\u001b[39m\u001b[38;5;124m\"\u001b[39m\u001b[38;5;124mparameter of \u001b[39m\u001b[38;5;132;01m{\u001b[39;00mfunc\u001b[38;5;241m.\u001b[39m\u001b[38;5;18m__qualname__\u001b[39m\u001b[38;5;132;01m}\u001b[39;00m\u001b[38;5;124m must be\u001b[39m\u001b[38;5;124m\"\u001b[39m,\n\u001b[0;32m    222\u001b[0m         \u001b[38;5;28mstr\u001b[39m(e),\n\u001b[0;32m    223\u001b[0m     )\n",
      "File \u001b[1;32mc:\\Users\\mikkokallio\\AppData\\Local\\Programs\\Python\\Python312\\Lib\\site-packages\\sklearn\\model_selection\\_validation.py:712\u001b[0m, in \u001b[0;36mcross_val_score\u001b[1;34m(estimator, X, y, groups, scoring, cv, n_jobs, verbose, fit_params, params, pre_dispatch, error_score)\u001b[0m\n\u001b[0;32m    709\u001b[0m \u001b[38;5;66;03m# To ensure multimetric format is not supported\u001b[39;00m\n\u001b[0;32m    710\u001b[0m scorer \u001b[38;5;241m=\u001b[39m check_scoring(estimator, scoring\u001b[38;5;241m=\u001b[39mscoring)\n\u001b[1;32m--> 712\u001b[0m cv_results \u001b[38;5;241m=\u001b[39m \u001b[43mcross_validate\u001b[49m\u001b[43m(\u001b[49m\n\u001b[0;32m    713\u001b[0m \u001b[43m    \u001b[49m\u001b[43mestimator\u001b[49m\u001b[38;5;241;43m=\u001b[39;49m\u001b[43mestimator\u001b[49m\u001b[43m,\u001b[49m\n\u001b[0;32m    714\u001b[0m \u001b[43m    \u001b[49m\u001b[43mX\u001b[49m\u001b[38;5;241;43m=\u001b[39;49m\u001b[43mX\u001b[49m\u001b[43m,\u001b[49m\n\u001b[0;32m    715\u001b[0m \u001b[43m    \u001b[49m\u001b[43my\u001b[49m\u001b[38;5;241;43m=\u001b[39;49m\u001b[43my\u001b[49m\u001b[43m,\u001b[49m\n\u001b[0;32m    716\u001b[0m \u001b[43m    \u001b[49m\u001b[43mgroups\u001b[49m\u001b[38;5;241;43m=\u001b[39;49m\u001b[43mgroups\u001b[49m\u001b[43m,\u001b[49m\n\u001b[0;32m    717\u001b[0m \u001b[43m    \u001b[49m\u001b[43mscoring\u001b[49m\u001b[38;5;241;43m=\u001b[39;49m\u001b[43m{\u001b[49m\u001b[38;5;124;43m\"\u001b[39;49m\u001b[38;5;124;43mscore\u001b[39;49m\u001b[38;5;124;43m\"\u001b[39;49m\u001b[43m:\u001b[49m\u001b[43m \u001b[49m\u001b[43mscorer\u001b[49m\u001b[43m}\u001b[49m\u001b[43m,\u001b[49m\n\u001b[0;32m    718\u001b[0m \u001b[43m    \u001b[49m\u001b[43mcv\u001b[49m\u001b[38;5;241;43m=\u001b[39;49m\u001b[43mcv\u001b[49m\u001b[43m,\u001b[49m\n\u001b[0;32m    719\u001b[0m \u001b[43m    \u001b[49m\u001b[43mn_jobs\u001b[49m\u001b[38;5;241;43m=\u001b[39;49m\u001b[43mn_jobs\u001b[49m\u001b[43m,\u001b[49m\n\u001b[0;32m    720\u001b[0m \u001b[43m    \u001b[49m\u001b[43mverbose\u001b[49m\u001b[38;5;241;43m=\u001b[39;49m\u001b[43mverbose\u001b[49m\u001b[43m,\u001b[49m\n\u001b[0;32m    721\u001b[0m \u001b[43m    \u001b[49m\u001b[43mfit_params\u001b[49m\u001b[38;5;241;43m=\u001b[39;49m\u001b[43mfit_params\u001b[49m\u001b[43m,\u001b[49m\n\u001b[0;32m    722\u001b[0m \u001b[43m    \u001b[49m\u001b[43mparams\u001b[49m\u001b[38;5;241;43m=\u001b[39;49m\u001b[43mparams\u001b[49m\u001b[43m,\u001b[49m\n\u001b[0;32m    723\u001b[0m \u001b[43m    \u001b[49m\u001b[43mpre_dispatch\u001b[49m\u001b[38;5;241;43m=\u001b[39;49m\u001b[43mpre_dispatch\u001b[49m\u001b[43m,\u001b[49m\n\u001b[0;32m    724\u001b[0m \u001b[43m    \u001b[49m\u001b[43merror_score\u001b[49m\u001b[38;5;241;43m=\u001b[39;49m\u001b[43merror_score\u001b[49m\u001b[43m,\u001b[49m\n\u001b[0;32m    725\u001b[0m \u001b[43m\u001b[49m\u001b[43m)\u001b[49m\n\u001b[0;32m    726\u001b[0m \u001b[38;5;28;01mreturn\u001b[39;00m cv_results[\u001b[38;5;124m\"\u001b[39m\u001b[38;5;124mtest_score\u001b[39m\u001b[38;5;124m\"\u001b[39m]\n",
      "File \u001b[1;32mc:\\Users\\mikkokallio\\AppData\\Local\\Programs\\Python\\Python312\\Lib\\site-packages\\sklearn\\utils\\_param_validation.py:213\u001b[0m, in \u001b[0;36mvalidate_params.<locals>.decorator.<locals>.wrapper\u001b[1;34m(*args, **kwargs)\u001b[0m\n\u001b[0;32m    207\u001b[0m \u001b[38;5;28;01mtry\u001b[39;00m:\n\u001b[0;32m    208\u001b[0m     \u001b[38;5;28;01mwith\u001b[39;00m config_context(\n\u001b[0;32m    209\u001b[0m         skip_parameter_validation\u001b[38;5;241m=\u001b[39m(\n\u001b[0;32m    210\u001b[0m             prefer_skip_nested_validation \u001b[38;5;129;01mor\u001b[39;00m global_skip_validation\n\u001b[0;32m    211\u001b[0m         )\n\u001b[0;32m    212\u001b[0m     ):\n\u001b[1;32m--> 213\u001b[0m         \u001b[38;5;28;01mreturn\u001b[39;00m \u001b[43mfunc\u001b[49m\u001b[43m(\u001b[49m\u001b[38;5;241;43m*\u001b[39;49m\u001b[43margs\u001b[49m\u001b[43m,\u001b[49m\u001b[43m \u001b[49m\u001b[38;5;241;43m*\u001b[39;49m\u001b[38;5;241;43m*\u001b[39;49m\u001b[43mkwargs\u001b[49m\u001b[43m)\u001b[49m\n\u001b[0;32m    214\u001b[0m \u001b[38;5;28;01mexcept\u001b[39;00m InvalidParameterError \u001b[38;5;28;01mas\u001b[39;00m e:\n\u001b[0;32m    215\u001b[0m     \u001b[38;5;66;03m# When the function is just a wrapper around an estimator, we allow\u001b[39;00m\n\u001b[0;32m    216\u001b[0m     \u001b[38;5;66;03m# the function to delegate validation to the estimator, but we replace\u001b[39;00m\n\u001b[0;32m    217\u001b[0m     \u001b[38;5;66;03m# the name of the estimator by the name of the function in the error\u001b[39;00m\n\u001b[0;32m    218\u001b[0m     \u001b[38;5;66;03m# message to avoid confusion.\u001b[39;00m\n\u001b[0;32m    219\u001b[0m     msg \u001b[38;5;241m=\u001b[39m re\u001b[38;5;241m.\u001b[39msub(\n\u001b[0;32m    220\u001b[0m         \u001b[38;5;124mr\u001b[39m\u001b[38;5;124m\"\u001b[39m\u001b[38;5;124mparameter of \u001b[39m\u001b[38;5;124m\\\u001b[39m\u001b[38;5;124mw+ must be\u001b[39m\u001b[38;5;124m\"\u001b[39m,\n\u001b[0;32m    221\u001b[0m         \u001b[38;5;124mf\u001b[39m\u001b[38;5;124m\"\u001b[39m\u001b[38;5;124mparameter of \u001b[39m\u001b[38;5;132;01m{\u001b[39;00mfunc\u001b[38;5;241m.\u001b[39m\u001b[38;5;18m__qualname__\u001b[39m\u001b[38;5;132;01m}\u001b[39;00m\u001b[38;5;124m must be\u001b[39m\u001b[38;5;124m\"\u001b[39m,\n\u001b[0;32m    222\u001b[0m         \u001b[38;5;28mstr\u001b[39m(e),\n\u001b[0;32m    223\u001b[0m     )\n",
      "File \u001b[1;32mc:\\Users\\mikkokallio\\AppData\\Local\\Programs\\Python\\Python312\\Lib\\site-packages\\sklearn\\model_selection\\_validation.py:423\u001b[0m, in \u001b[0;36mcross_validate\u001b[1;34m(estimator, X, y, groups, scoring, cv, n_jobs, verbose, fit_params, params, pre_dispatch, return_train_score, return_estimator, return_indices, error_score)\u001b[0m\n\u001b[0;32m    420\u001b[0m \u001b[38;5;66;03m# We clone the estimator to make sure that all the folds are\u001b[39;00m\n\u001b[0;32m    421\u001b[0m \u001b[38;5;66;03m# independent, and that it is pickle-able.\u001b[39;00m\n\u001b[0;32m    422\u001b[0m parallel \u001b[38;5;241m=\u001b[39m Parallel(n_jobs\u001b[38;5;241m=\u001b[39mn_jobs, verbose\u001b[38;5;241m=\u001b[39mverbose, pre_dispatch\u001b[38;5;241m=\u001b[39mpre_dispatch)\n\u001b[1;32m--> 423\u001b[0m results \u001b[38;5;241m=\u001b[39m \u001b[43mparallel\u001b[49m\u001b[43m(\u001b[49m\n\u001b[0;32m    424\u001b[0m \u001b[43m    \u001b[49m\u001b[43mdelayed\u001b[49m\u001b[43m(\u001b[49m\u001b[43m_fit_and_score\u001b[49m\u001b[43m)\u001b[49m\u001b[43m(\u001b[49m\n\u001b[0;32m    425\u001b[0m \u001b[43m        \u001b[49m\u001b[43mclone\u001b[49m\u001b[43m(\u001b[49m\u001b[43mestimator\u001b[49m\u001b[43m)\u001b[49m\u001b[43m,\u001b[49m\n\u001b[0;32m    426\u001b[0m \u001b[43m        \u001b[49m\u001b[43mX\u001b[49m\u001b[43m,\u001b[49m\n\u001b[0;32m    427\u001b[0m \u001b[43m        \u001b[49m\u001b[43my\u001b[49m\u001b[43m,\u001b[49m\n\u001b[0;32m    428\u001b[0m \u001b[43m        \u001b[49m\u001b[43mscorer\u001b[49m\u001b[38;5;241;43m=\u001b[39;49m\u001b[43mscorers\u001b[49m\u001b[43m,\u001b[49m\n\u001b[0;32m    429\u001b[0m \u001b[43m        \u001b[49m\u001b[43mtrain\u001b[49m\u001b[38;5;241;43m=\u001b[39;49m\u001b[43mtrain\u001b[49m\u001b[43m,\u001b[49m\n\u001b[0;32m    430\u001b[0m \u001b[43m        \u001b[49m\u001b[43mtest\u001b[49m\u001b[38;5;241;43m=\u001b[39;49m\u001b[43mtest\u001b[49m\u001b[43m,\u001b[49m\n\u001b[0;32m    431\u001b[0m \u001b[43m        \u001b[49m\u001b[43mverbose\u001b[49m\u001b[38;5;241;43m=\u001b[39;49m\u001b[43mverbose\u001b[49m\u001b[43m,\u001b[49m\n\u001b[0;32m    432\u001b[0m \u001b[43m        \u001b[49m\u001b[43mparameters\u001b[49m\u001b[38;5;241;43m=\u001b[39;49m\u001b[38;5;28;43;01mNone\u001b[39;49;00m\u001b[43m,\u001b[49m\n\u001b[0;32m    433\u001b[0m \u001b[43m        \u001b[49m\u001b[43mfit_params\u001b[49m\u001b[38;5;241;43m=\u001b[39;49m\u001b[43mrouted_params\u001b[49m\u001b[38;5;241;43m.\u001b[39;49m\u001b[43mestimator\u001b[49m\u001b[38;5;241;43m.\u001b[39;49m\u001b[43mfit\u001b[49m\u001b[43m,\u001b[49m\n\u001b[0;32m    434\u001b[0m \u001b[43m        \u001b[49m\u001b[43mscore_params\u001b[49m\u001b[38;5;241;43m=\u001b[39;49m\u001b[43mrouted_params\u001b[49m\u001b[38;5;241;43m.\u001b[39;49m\u001b[43mscorer\u001b[49m\u001b[38;5;241;43m.\u001b[39;49m\u001b[43mscore\u001b[49m\u001b[43m,\u001b[49m\n\u001b[0;32m    435\u001b[0m \u001b[43m        \u001b[49m\u001b[43mreturn_train_score\u001b[49m\u001b[38;5;241;43m=\u001b[39;49m\u001b[43mreturn_train_score\u001b[49m\u001b[43m,\u001b[49m\n\u001b[0;32m    436\u001b[0m \u001b[43m        \u001b[49m\u001b[43mreturn_times\u001b[49m\u001b[38;5;241;43m=\u001b[39;49m\u001b[38;5;28;43;01mTrue\u001b[39;49;00m\u001b[43m,\u001b[49m\n\u001b[0;32m    437\u001b[0m \u001b[43m        \u001b[49m\u001b[43mreturn_estimator\u001b[49m\u001b[38;5;241;43m=\u001b[39;49m\u001b[43mreturn_estimator\u001b[49m\u001b[43m,\u001b[49m\n\u001b[0;32m    438\u001b[0m \u001b[43m        \u001b[49m\u001b[43merror_score\u001b[49m\u001b[38;5;241;43m=\u001b[39;49m\u001b[43merror_score\u001b[49m\u001b[43m,\u001b[49m\n\u001b[0;32m    439\u001b[0m \u001b[43m    \u001b[49m\u001b[43m)\u001b[49m\n\u001b[0;32m    440\u001b[0m \u001b[43m    \u001b[49m\u001b[38;5;28;43;01mfor\u001b[39;49;00m\u001b[43m \u001b[49m\u001b[43mtrain\u001b[49m\u001b[43m,\u001b[49m\u001b[43m \u001b[49m\u001b[43mtest\u001b[49m\u001b[43m \u001b[49m\u001b[38;5;129;43;01min\u001b[39;49;00m\u001b[43m \u001b[49m\u001b[43mindices\u001b[49m\n\u001b[0;32m    441\u001b[0m \u001b[43m\u001b[49m\u001b[43m)\u001b[49m\n\u001b[0;32m    443\u001b[0m _warn_or_raise_about_fit_failures(results, error_score)\n\u001b[0;32m    445\u001b[0m \u001b[38;5;66;03m# For callable scoring, the return type is only know after calling. If the\u001b[39;00m\n\u001b[0;32m    446\u001b[0m \u001b[38;5;66;03m# return type is a dictionary, the error scores can now be inserted with\u001b[39;00m\n\u001b[0;32m    447\u001b[0m \u001b[38;5;66;03m# the correct key.\u001b[39;00m\n",
      "File \u001b[1;32mc:\\Users\\mikkokallio\\AppData\\Local\\Programs\\Python\\Python312\\Lib\\site-packages\\sklearn\\utils\\parallel.py:74\u001b[0m, in \u001b[0;36mParallel.__call__\u001b[1;34m(self, iterable)\u001b[0m\n\u001b[0;32m     69\u001b[0m config \u001b[38;5;241m=\u001b[39m get_config()\n\u001b[0;32m     70\u001b[0m iterable_with_config \u001b[38;5;241m=\u001b[39m (\n\u001b[0;32m     71\u001b[0m     (_with_config(delayed_func, config), args, kwargs)\n\u001b[0;32m     72\u001b[0m     \u001b[38;5;28;01mfor\u001b[39;00m delayed_func, args, kwargs \u001b[38;5;129;01min\u001b[39;00m iterable\n\u001b[0;32m     73\u001b[0m )\n\u001b[1;32m---> 74\u001b[0m \u001b[38;5;28;01mreturn\u001b[39;00m \u001b[38;5;28;43msuper\u001b[39;49m\u001b[43m(\u001b[49m\u001b[43m)\u001b[49m\u001b[38;5;241;43m.\u001b[39;49m\u001b[38;5;21;43m__call__\u001b[39;49m\u001b[43m(\u001b[49m\u001b[43miterable_with_config\u001b[49m\u001b[43m)\u001b[49m\n",
      "File \u001b[1;32mc:\\Users\\mikkokallio\\AppData\\Local\\Programs\\Python\\Python312\\Lib\\site-packages\\joblib\\parallel.py:1918\u001b[0m, in \u001b[0;36mParallel.__call__\u001b[1;34m(self, iterable)\u001b[0m\n\u001b[0;32m   1916\u001b[0m     output \u001b[38;5;241m=\u001b[39m \u001b[38;5;28mself\u001b[39m\u001b[38;5;241m.\u001b[39m_get_sequential_output(iterable)\n\u001b[0;32m   1917\u001b[0m     \u001b[38;5;28mnext\u001b[39m(output)\n\u001b[1;32m-> 1918\u001b[0m     \u001b[38;5;28;01mreturn\u001b[39;00m output \u001b[38;5;28;01mif\u001b[39;00m \u001b[38;5;28mself\u001b[39m\u001b[38;5;241m.\u001b[39mreturn_generator \u001b[38;5;28;01melse\u001b[39;00m \u001b[38;5;28;43mlist\u001b[39;49m\u001b[43m(\u001b[49m\u001b[43moutput\u001b[49m\u001b[43m)\u001b[49m\n\u001b[0;32m   1920\u001b[0m \u001b[38;5;66;03m# Let's create an ID that uniquely identifies the current call. If the\u001b[39;00m\n\u001b[0;32m   1921\u001b[0m \u001b[38;5;66;03m# call is interrupted early and that the same instance is immediately\u001b[39;00m\n\u001b[0;32m   1922\u001b[0m \u001b[38;5;66;03m# re-used, this id will be used to prevent workers that were\u001b[39;00m\n\u001b[0;32m   1923\u001b[0m \u001b[38;5;66;03m# concurrently finalizing a task from the previous call to run the\u001b[39;00m\n\u001b[0;32m   1924\u001b[0m \u001b[38;5;66;03m# callback.\u001b[39;00m\n\u001b[0;32m   1925\u001b[0m \u001b[38;5;28;01mwith\u001b[39;00m \u001b[38;5;28mself\u001b[39m\u001b[38;5;241m.\u001b[39m_lock:\n",
      "File \u001b[1;32mc:\\Users\\mikkokallio\\AppData\\Local\\Programs\\Python\\Python312\\Lib\\site-packages\\joblib\\parallel.py:1847\u001b[0m, in \u001b[0;36mParallel._get_sequential_output\u001b[1;34m(self, iterable)\u001b[0m\n\u001b[0;32m   1845\u001b[0m \u001b[38;5;28mself\u001b[39m\u001b[38;5;241m.\u001b[39mn_dispatched_batches \u001b[38;5;241m+\u001b[39m\u001b[38;5;241m=\u001b[39m \u001b[38;5;241m1\u001b[39m\n\u001b[0;32m   1846\u001b[0m \u001b[38;5;28mself\u001b[39m\u001b[38;5;241m.\u001b[39mn_dispatched_tasks \u001b[38;5;241m+\u001b[39m\u001b[38;5;241m=\u001b[39m \u001b[38;5;241m1\u001b[39m\n\u001b[1;32m-> 1847\u001b[0m res \u001b[38;5;241m=\u001b[39m \u001b[43mfunc\u001b[49m\u001b[43m(\u001b[49m\u001b[38;5;241;43m*\u001b[39;49m\u001b[43margs\u001b[49m\u001b[43m,\u001b[49m\u001b[43m \u001b[49m\u001b[38;5;241;43m*\u001b[39;49m\u001b[38;5;241;43m*\u001b[39;49m\u001b[43mkwargs\u001b[49m\u001b[43m)\u001b[49m\n\u001b[0;32m   1848\u001b[0m \u001b[38;5;28mself\u001b[39m\u001b[38;5;241m.\u001b[39mn_completed_tasks \u001b[38;5;241m+\u001b[39m\u001b[38;5;241m=\u001b[39m \u001b[38;5;241m1\u001b[39m\n\u001b[0;32m   1849\u001b[0m \u001b[38;5;28mself\u001b[39m\u001b[38;5;241m.\u001b[39mprint_progress()\n",
      "File \u001b[1;32mc:\\Users\\mikkokallio\\AppData\\Local\\Programs\\Python\\Python312\\Lib\\site-packages\\sklearn\\utils\\parallel.py:136\u001b[0m, in \u001b[0;36m_FuncWrapper.__call__\u001b[1;34m(self, *args, **kwargs)\u001b[0m\n\u001b[0;32m    134\u001b[0m     config \u001b[38;5;241m=\u001b[39m {}\n\u001b[0;32m    135\u001b[0m \u001b[38;5;28;01mwith\u001b[39;00m config_context(\u001b[38;5;241m*\u001b[39m\u001b[38;5;241m*\u001b[39mconfig):\n\u001b[1;32m--> 136\u001b[0m     \u001b[38;5;28;01mreturn\u001b[39;00m \u001b[38;5;28;43mself\u001b[39;49m\u001b[38;5;241;43m.\u001b[39;49m\u001b[43mfunction\u001b[49m\u001b[43m(\u001b[49m\u001b[38;5;241;43m*\u001b[39;49m\u001b[43margs\u001b[49m\u001b[43m,\u001b[49m\u001b[43m \u001b[49m\u001b[38;5;241;43m*\u001b[39;49m\u001b[38;5;241;43m*\u001b[39;49m\u001b[43mkwargs\u001b[49m\u001b[43m)\u001b[49m\n",
      "File \u001b[1;32mc:\\Users\\mikkokallio\\AppData\\Local\\Programs\\Python\\Python312\\Lib\\site-packages\\sklearn\\model_selection\\_validation.py:888\u001b[0m, in \u001b[0;36m_fit_and_score\u001b[1;34m(estimator, X, y, scorer, train, test, verbose, parameters, fit_params, score_params, return_train_score, return_parameters, return_n_test_samples, return_times, return_estimator, split_progress, candidate_progress, error_score)\u001b[0m\n\u001b[0;32m    886\u001b[0m         estimator\u001b[38;5;241m.\u001b[39mfit(X_train, \u001b[38;5;241m*\u001b[39m\u001b[38;5;241m*\u001b[39mfit_params)\n\u001b[0;32m    887\u001b[0m     \u001b[38;5;28;01melse\u001b[39;00m:\n\u001b[1;32m--> 888\u001b[0m         \u001b[43mestimator\u001b[49m\u001b[38;5;241;43m.\u001b[39;49m\u001b[43mfit\u001b[49m\u001b[43m(\u001b[49m\u001b[43mX_train\u001b[49m\u001b[43m,\u001b[49m\u001b[43m \u001b[49m\u001b[43my_train\u001b[49m\u001b[43m,\u001b[49m\u001b[43m \u001b[49m\u001b[38;5;241;43m*\u001b[39;49m\u001b[38;5;241;43m*\u001b[39;49m\u001b[43mfit_params\u001b[49m\u001b[43m)\u001b[49m\n\u001b[0;32m    890\u001b[0m \u001b[38;5;28;01mexcept\u001b[39;00m \u001b[38;5;167;01mException\u001b[39;00m:\n\u001b[0;32m    891\u001b[0m     \u001b[38;5;66;03m# Note fit time as time until error\u001b[39;00m\n\u001b[0;32m    892\u001b[0m     fit_time \u001b[38;5;241m=\u001b[39m time\u001b[38;5;241m.\u001b[39mtime() \u001b[38;5;241m-\u001b[39m start_time\n",
      "File \u001b[1;32mc:\\Users\\mikkokallio\\AppData\\Local\\Programs\\Python\\Python312\\Lib\\site-packages\\sklearn\\base.py:1473\u001b[0m, in \u001b[0;36m_fit_context.<locals>.decorator.<locals>.wrapper\u001b[1;34m(estimator, *args, **kwargs)\u001b[0m\n\u001b[0;32m   1466\u001b[0m     estimator\u001b[38;5;241m.\u001b[39m_validate_params()\n\u001b[0;32m   1468\u001b[0m \u001b[38;5;28;01mwith\u001b[39;00m config_context(\n\u001b[0;32m   1469\u001b[0m     skip_parameter_validation\u001b[38;5;241m=\u001b[39m(\n\u001b[0;32m   1470\u001b[0m         prefer_skip_nested_validation \u001b[38;5;129;01mor\u001b[39;00m global_skip_validation\n\u001b[0;32m   1471\u001b[0m     )\n\u001b[0;32m   1472\u001b[0m ):\n\u001b[1;32m-> 1473\u001b[0m     \u001b[38;5;28;01mreturn\u001b[39;00m \u001b[43mfit_method\u001b[49m\u001b[43m(\u001b[49m\u001b[43mestimator\u001b[49m\u001b[43m,\u001b[49m\u001b[43m \u001b[49m\u001b[38;5;241;43m*\u001b[39;49m\u001b[43margs\u001b[49m\u001b[43m,\u001b[49m\u001b[43m \u001b[49m\u001b[38;5;241;43m*\u001b[39;49m\u001b[38;5;241;43m*\u001b[39;49m\u001b[43mkwargs\u001b[49m\u001b[43m)\u001b[49m\n",
      "File \u001b[1;32mc:\\Users\\mikkokallio\\AppData\\Local\\Programs\\Python\\Python312\\Lib\\site-packages\\sklearn\\pipeline.py:473\u001b[0m, in \u001b[0;36mPipeline.fit\u001b[1;34m(self, X, y, **params)\u001b[0m\n\u001b[0;32m    471\u001b[0m     \u001b[38;5;28;01mif\u001b[39;00m \u001b[38;5;28mself\u001b[39m\u001b[38;5;241m.\u001b[39m_final_estimator \u001b[38;5;241m!=\u001b[39m \u001b[38;5;124m\"\u001b[39m\u001b[38;5;124mpassthrough\u001b[39m\u001b[38;5;124m\"\u001b[39m:\n\u001b[0;32m    472\u001b[0m         last_step_params \u001b[38;5;241m=\u001b[39m routed_params[\u001b[38;5;28mself\u001b[39m\u001b[38;5;241m.\u001b[39msteps[\u001b[38;5;241m-\u001b[39m\u001b[38;5;241m1\u001b[39m][\u001b[38;5;241m0\u001b[39m]]\n\u001b[1;32m--> 473\u001b[0m         \u001b[38;5;28;43mself\u001b[39;49m\u001b[38;5;241;43m.\u001b[39;49m\u001b[43m_final_estimator\u001b[49m\u001b[38;5;241;43m.\u001b[39;49m\u001b[43mfit\u001b[49m\u001b[43m(\u001b[49m\u001b[43mXt\u001b[49m\u001b[43m,\u001b[49m\u001b[43m \u001b[49m\u001b[43my\u001b[49m\u001b[43m,\u001b[49m\u001b[43m \u001b[49m\u001b[38;5;241;43m*\u001b[39;49m\u001b[38;5;241;43m*\u001b[39;49m\u001b[43mlast_step_params\u001b[49m\u001b[43m[\u001b[49m\u001b[38;5;124;43m\"\u001b[39;49m\u001b[38;5;124;43mfit\u001b[39;49m\u001b[38;5;124;43m\"\u001b[39;49m\u001b[43m]\u001b[49m\u001b[43m)\u001b[49m\n\u001b[0;32m    475\u001b[0m \u001b[38;5;28;01mreturn\u001b[39;00m \u001b[38;5;28mself\u001b[39m\n",
      "File \u001b[1;32mc:\\Users\\mikkokallio\\AppData\\Local\\Programs\\Python\\Python312\\Lib\\site-packages\\sklearn\\base.py:1473\u001b[0m, in \u001b[0;36m_fit_context.<locals>.decorator.<locals>.wrapper\u001b[1;34m(estimator, *args, **kwargs)\u001b[0m\n\u001b[0;32m   1466\u001b[0m     estimator\u001b[38;5;241m.\u001b[39m_validate_params()\n\u001b[0;32m   1468\u001b[0m \u001b[38;5;28;01mwith\u001b[39;00m config_context(\n\u001b[0;32m   1469\u001b[0m     skip_parameter_validation\u001b[38;5;241m=\u001b[39m(\n\u001b[0;32m   1470\u001b[0m         prefer_skip_nested_validation \u001b[38;5;129;01mor\u001b[39;00m global_skip_validation\n\u001b[0;32m   1471\u001b[0m     )\n\u001b[0;32m   1472\u001b[0m ):\n\u001b[1;32m-> 1473\u001b[0m     \u001b[38;5;28;01mreturn\u001b[39;00m \u001b[43mfit_method\u001b[49m\u001b[43m(\u001b[49m\u001b[43mestimator\u001b[49m\u001b[43m,\u001b[49m\u001b[43m \u001b[49m\u001b[38;5;241;43m*\u001b[39;49m\u001b[43margs\u001b[49m\u001b[43m,\u001b[49m\u001b[43m \u001b[49m\u001b[38;5;241;43m*\u001b[39;49m\u001b[38;5;241;43m*\u001b[39;49m\u001b[43mkwargs\u001b[49m\u001b[43m)\u001b[49m\n",
      "File \u001b[1;32mc:\\Users\\mikkokallio\\AppData\\Local\\Programs\\Python\\Python312\\Lib\\site-packages\\sklearn\\svm\\_base.py:250\u001b[0m, in \u001b[0;36mBaseLibSVM.fit\u001b[1;34m(self, X, y, sample_weight)\u001b[0m\n\u001b[0;32m    247\u001b[0m     \u001b[38;5;28mprint\u001b[39m(\u001b[38;5;124m\"\u001b[39m\u001b[38;5;124m[LibSVM]\u001b[39m\u001b[38;5;124m\"\u001b[39m, end\u001b[38;5;241m=\u001b[39m\u001b[38;5;124m\"\u001b[39m\u001b[38;5;124m\"\u001b[39m)\n\u001b[0;32m    249\u001b[0m seed \u001b[38;5;241m=\u001b[39m rnd\u001b[38;5;241m.\u001b[39mrandint(np\u001b[38;5;241m.\u001b[39miinfo(\u001b[38;5;124m\"\u001b[39m\u001b[38;5;124mi\u001b[39m\u001b[38;5;124m\"\u001b[39m)\u001b[38;5;241m.\u001b[39mmax)\n\u001b[1;32m--> 250\u001b[0m \u001b[43mfit\u001b[49m\u001b[43m(\u001b[49m\u001b[43mX\u001b[49m\u001b[43m,\u001b[49m\u001b[43m \u001b[49m\u001b[43my\u001b[49m\u001b[43m,\u001b[49m\u001b[43m \u001b[49m\u001b[43msample_weight\u001b[49m\u001b[43m,\u001b[49m\u001b[43m \u001b[49m\u001b[43msolver_type\u001b[49m\u001b[43m,\u001b[49m\u001b[43m \u001b[49m\u001b[43mkernel\u001b[49m\u001b[43m,\u001b[49m\u001b[43m \u001b[49m\u001b[43mrandom_seed\u001b[49m\u001b[38;5;241;43m=\u001b[39;49m\u001b[43mseed\u001b[49m\u001b[43m)\u001b[49m\n\u001b[0;32m    251\u001b[0m \u001b[38;5;66;03m# see comment on the other call to np.iinfo in this file\u001b[39;00m\n\u001b[0;32m    253\u001b[0m \u001b[38;5;28mself\u001b[39m\u001b[38;5;241m.\u001b[39mshape_fit_ \u001b[38;5;241m=\u001b[39m X\u001b[38;5;241m.\u001b[39mshape \u001b[38;5;28;01mif\u001b[39;00m \u001b[38;5;28mhasattr\u001b[39m(X, \u001b[38;5;124m\"\u001b[39m\u001b[38;5;124mshape\u001b[39m\u001b[38;5;124m\"\u001b[39m) \u001b[38;5;28;01melse\u001b[39;00m (n_samples,)\n",
      "File \u001b[1;32mc:\\Users\\mikkokallio\\AppData\\Local\\Programs\\Python\\Python312\\Lib\\site-packages\\sklearn\\svm\\_base.py:328\u001b[0m, in \u001b[0;36mBaseLibSVM._dense_fit\u001b[1;34m(self, X, y, sample_weight, solver_type, kernel, random_seed)\u001b[0m\n\u001b[0;32m    314\u001b[0m libsvm\u001b[38;5;241m.\u001b[39mset_verbosity_wrap(\u001b[38;5;28mself\u001b[39m\u001b[38;5;241m.\u001b[39mverbose)\n\u001b[0;32m    316\u001b[0m \u001b[38;5;66;03m# we don't pass **self.get_params() to allow subclasses to\u001b[39;00m\n\u001b[0;32m    317\u001b[0m \u001b[38;5;66;03m# add other parameters to __init__\u001b[39;00m\n\u001b[0;32m    318\u001b[0m (\n\u001b[0;32m    319\u001b[0m     \u001b[38;5;28mself\u001b[39m\u001b[38;5;241m.\u001b[39msupport_,\n\u001b[0;32m    320\u001b[0m     \u001b[38;5;28mself\u001b[39m\u001b[38;5;241m.\u001b[39msupport_vectors_,\n\u001b[0;32m    321\u001b[0m     \u001b[38;5;28mself\u001b[39m\u001b[38;5;241m.\u001b[39m_n_support,\n\u001b[0;32m    322\u001b[0m     \u001b[38;5;28mself\u001b[39m\u001b[38;5;241m.\u001b[39mdual_coef_,\n\u001b[0;32m    323\u001b[0m     \u001b[38;5;28mself\u001b[39m\u001b[38;5;241m.\u001b[39mintercept_,\n\u001b[0;32m    324\u001b[0m     \u001b[38;5;28mself\u001b[39m\u001b[38;5;241m.\u001b[39m_probA,\n\u001b[0;32m    325\u001b[0m     \u001b[38;5;28mself\u001b[39m\u001b[38;5;241m.\u001b[39m_probB,\n\u001b[0;32m    326\u001b[0m     \u001b[38;5;28mself\u001b[39m\u001b[38;5;241m.\u001b[39mfit_status_,\n\u001b[0;32m    327\u001b[0m     \u001b[38;5;28mself\u001b[39m\u001b[38;5;241m.\u001b[39m_num_iter,\n\u001b[1;32m--> 328\u001b[0m ) \u001b[38;5;241m=\u001b[39m \u001b[43mlibsvm\u001b[49m\u001b[38;5;241;43m.\u001b[39;49m\u001b[43mfit\u001b[49m\u001b[43m(\u001b[49m\n\u001b[0;32m    329\u001b[0m \u001b[43m    \u001b[49m\u001b[43mX\u001b[49m\u001b[43m,\u001b[49m\n\u001b[0;32m    330\u001b[0m \u001b[43m    \u001b[49m\u001b[43my\u001b[49m\u001b[43m,\u001b[49m\n\u001b[0;32m    331\u001b[0m \u001b[43m    \u001b[49m\u001b[43msvm_type\u001b[49m\u001b[38;5;241;43m=\u001b[39;49m\u001b[43msolver_type\u001b[49m\u001b[43m,\u001b[49m\n\u001b[0;32m    332\u001b[0m \u001b[43m    \u001b[49m\u001b[43msample_weight\u001b[49m\u001b[38;5;241;43m=\u001b[39;49m\u001b[43msample_weight\u001b[49m\u001b[43m,\u001b[49m\n\u001b[0;32m    333\u001b[0m \u001b[43m    \u001b[49m\u001b[43mclass_weight\u001b[49m\u001b[38;5;241;43m=\u001b[39;49m\u001b[38;5;28;43mgetattr\u001b[39;49m\u001b[43m(\u001b[49m\u001b[38;5;28;43mself\u001b[39;49m\u001b[43m,\u001b[49m\u001b[43m \u001b[49m\u001b[38;5;124;43m\"\u001b[39;49m\u001b[38;5;124;43mclass_weight_\u001b[39;49m\u001b[38;5;124;43m\"\u001b[39;49m\u001b[43m,\u001b[49m\u001b[43m \u001b[49m\u001b[43mnp\u001b[49m\u001b[38;5;241;43m.\u001b[39;49m\u001b[43mempty\u001b[49m\u001b[43m(\u001b[49m\u001b[38;5;241;43m0\u001b[39;49m\u001b[43m)\u001b[49m\u001b[43m)\u001b[49m\u001b[43m,\u001b[49m\n\u001b[0;32m    334\u001b[0m \u001b[43m    \u001b[49m\u001b[43mkernel\u001b[49m\u001b[38;5;241;43m=\u001b[39;49m\u001b[43mkernel\u001b[49m\u001b[43m,\u001b[49m\n\u001b[0;32m    335\u001b[0m \u001b[43m    \u001b[49m\u001b[43mC\u001b[49m\u001b[38;5;241;43m=\u001b[39;49m\u001b[38;5;28;43mself\u001b[39;49m\u001b[38;5;241;43m.\u001b[39;49m\u001b[43mC\u001b[49m\u001b[43m,\u001b[49m\n\u001b[0;32m    336\u001b[0m \u001b[43m    \u001b[49m\u001b[43mnu\u001b[49m\u001b[38;5;241;43m=\u001b[39;49m\u001b[38;5;28;43mself\u001b[39;49m\u001b[38;5;241;43m.\u001b[39;49m\u001b[43mnu\u001b[49m\u001b[43m,\u001b[49m\n\u001b[0;32m    337\u001b[0m \u001b[43m    \u001b[49m\u001b[43mprobability\u001b[49m\u001b[38;5;241;43m=\u001b[39;49m\u001b[38;5;28;43mself\u001b[39;49m\u001b[38;5;241;43m.\u001b[39;49m\u001b[43mprobability\u001b[49m\u001b[43m,\u001b[49m\n\u001b[0;32m    338\u001b[0m \u001b[43m    \u001b[49m\u001b[43mdegree\u001b[49m\u001b[38;5;241;43m=\u001b[39;49m\u001b[38;5;28;43mself\u001b[39;49m\u001b[38;5;241;43m.\u001b[39;49m\u001b[43mdegree\u001b[49m\u001b[43m,\u001b[49m\n\u001b[0;32m    339\u001b[0m \u001b[43m    \u001b[49m\u001b[43mshrinking\u001b[49m\u001b[38;5;241;43m=\u001b[39;49m\u001b[38;5;28;43mself\u001b[39;49m\u001b[38;5;241;43m.\u001b[39;49m\u001b[43mshrinking\u001b[49m\u001b[43m,\u001b[49m\n\u001b[0;32m    340\u001b[0m \u001b[43m    \u001b[49m\u001b[43mtol\u001b[49m\u001b[38;5;241;43m=\u001b[39;49m\u001b[38;5;28;43mself\u001b[39;49m\u001b[38;5;241;43m.\u001b[39;49m\u001b[43mtol\u001b[49m\u001b[43m,\u001b[49m\n\u001b[0;32m    341\u001b[0m \u001b[43m    \u001b[49m\u001b[43mcache_size\u001b[49m\u001b[38;5;241;43m=\u001b[39;49m\u001b[38;5;28;43mself\u001b[39;49m\u001b[38;5;241;43m.\u001b[39;49m\u001b[43mcache_size\u001b[49m\u001b[43m,\u001b[49m\n\u001b[0;32m    342\u001b[0m \u001b[43m    \u001b[49m\u001b[43mcoef0\u001b[49m\u001b[38;5;241;43m=\u001b[39;49m\u001b[38;5;28;43mself\u001b[39;49m\u001b[38;5;241;43m.\u001b[39;49m\u001b[43mcoef0\u001b[49m\u001b[43m,\u001b[49m\n\u001b[0;32m    343\u001b[0m \u001b[43m    \u001b[49m\u001b[43mgamma\u001b[49m\u001b[38;5;241;43m=\u001b[39;49m\u001b[38;5;28;43mself\u001b[39;49m\u001b[38;5;241;43m.\u001b[39;49m\u001b[43m_gamma\u001b[49m\u001b[43m,\u001b[49m\n\u001b[0;32m    344\u001b[0m \u001b[43m    \u001b[49m\u001b[43mepsilon\u001b[49m\u001b[38;5;241;43m=\u001b[39;49m\u001b[38;5;28;43mself\u001b[39;49m\u001b[38;5;241;43m.\u001b[39;49m\u001b[43mepsilon\u001b[49m\u001b[43m,\u001b[49m\n\u001b[0;32m    345\u001b[0m \u001b[43m    \u001b[49m\u001b[43mmax_iter\u001b[49m\u001b[38;5;241;43m=\u001b[39;49m\u001b[38;5;28;43mself\u001b[39;49m\u001b[38;5;241;43m.\u001b[39;49m\u001b[43mmax_iter\u001b[49m\u001b[43m,\u001b[49m\n\u001b[0;32m    346\u001b[0m \u001b[43m    \u001b[49m\u001b[43mrandom_seed\u001b[49m\u001b[38;5;241;43m=\u001b[39;49m\u001b[43mrandom_seed\u001b[49m\u001b[43m,\u001b[49m\n\u001b[0;32m    347\u001b[0m \u001b[43m\u001b[49m\u001b[43m)\u001b[49m\n\u001b[0;32m    349\u001b[0m \u001b[38;5;28mself\u001b[39m\u001b[38;5;241m.\u001b[39m_warn_from_fit_status()\n",
      "File \u001b[1;32m_libsvm.pyx:263\u001b[0m, in \u001b[0;36msklearn.svm._libsvm.fit\u001b[1;34m()\u001b[0m\n",
      "\u001b[1;31mKeyboardInterrupt\u001b[0m: "
     ]
    }
   ],
   "source": [
    "import itertools\n",
    "import numpy as np\n",
    "import pandas as pd\n",
    "from sklearn.linear_model import LinearRegression\n",
    "from sklearn.model_selection import cross_val_score\n",
    "from sklearn.discriminant_analysis import StandardScaler\n",
    "from sklearn.pipeline import make_pipeline\n",
    "from sklearn.svm import SVR\n",
    "from scipy.stats import boxcox, yeojohnson\n",
    "import sys\n",
    "\n",
    "\n",
    "\n",
    "# Assuming evaluate_model is already defined\n",
    "def evaluate_model(model, X, y):\n",
    "    scores = cross_val_score(model, X, y, cv=5, scoring='r2')\n",
    "    return scores.mean()\n",
    "\n",
    "always_include = ['AtomFraction', 'GroupDensity_CarboxylicAcid', 'ConfigurationalComplexity', 'carbonylperoxynitrate_Indicator', 'PolarityIndex', 'parentspecies_apin', 'aldehyde_Indicator', 'peroxide_Indicator', 'ShapeCompactness', 'FlexibilityRatio', 'VolatilityIndex', 'PolarGroupCount', 'HBondDensity', 'HydrogenBondPotential', 'nitro_Indicator', 'ester_Indicator', 'parentspecies_toluene', 'DegreeOfUnsaturation', 'Hydrophobicity', 'ketone_Indicator', 'nitroester_Indicator', 'hydroxyl (alkyl)', 'carbonylperoxyacid', 'NumOfConfUsed', 'aldehyde', 'SymmetryIndex', 'NumOfConf', 'NumOfC', 'nitro', 'C=C (non-aromatic)', 'C=C (non-aromatic)_Indicator', 'nitrate', 'carbonylperoxyacid_Indicator', 'hydroperoxide_Indicator', 'nitroester', 'carboxylic acid_Indicator', 'aromatic hydroxyl_Indicator', 'NumOfO', 'ether (alicyclic)_Indicator']\n",
    "\n",
    "remaining_cols = [col for col in X_train_gbr.columns if col not in always_include]\n",
    "print(remaining_cols)\n",
    "#X_train_gbr = auto_transform(X_train_gbr, y_train)\n",
    "#X_train_gbr['DegreeOfUnsaturation'] = X_train_gbr['DegreeOfUnsaturation'].fillna(0)\n",
    "\n",
    "#model = LinearRegression()\n",
    "model = make_pipeline(StandardScaler(), SVR(C=3.3, epsilon=0.205, kernel='rbf'))\n",
    "\n",
    "# print head of each always_include column's value counts\n",
    "#for col in always_include:\n",
    "#    print(X_train_gbr[col].value_counts().head())\n",
    "\n",
    "#sys.exit()\n",
    "\n",
    "best_score = -np.inf\n",
    "best_combination = None\n",
    "\n",
    "mode = 'remove'\n",
    "approved_transformations = [\n",
    "    ('AtomFraction', 'cube'),\n",
    "    ('GroupDensity_CarboxylicAcid', 'sqrt'),\n",
    "    ('ConfigurationalComplexity', 'yeojohnson'),\n",
    "    ('ShapeCompactness', 'log'),\n",
    "    ('VolatilityIndex', 'reciprocal'),\n",
    "    ('FlexibilityRatio', 'sqrt'),\n",
    "    ('PolarityIndex', 'sqrt'),\n",
    "    ('NumOfConfUsed', 'boxcox'),\n",
    "    ('DegreeOfUnsaturation', 'yeojohnson'),\n",
    "    ('Hydrophobicity', 'yeojohnson'),\n",
    "    ('HydrogenBondPotential', 'none'),\n",
    "    ('HBondDensity', 'none'),\n",
    "    ('SymmetryIndex', 'sqrt'),\n",
    "    ('NumOfConf', 'sqrt'),\n",
    "    ('NumOfC', 'cube'),\n",
    "    ('NumOfO', 'sqrt'),\n",
    "\n",
    "]\n",
    "approved_transformations_OLR = [\n",
    "    ('AtomFraction', 'reciprocal'),\n",
    "    ('FlexibilityRatio', 'log'),\n",
    "    ('Hydrophobicity', 'reciprocal'),\n",
    "    ('PolarGroupCount', 'sqrt'),\n",
    "    ('VolatilityIndex', 'boxcox'),\n",
    "    ('HBondDensity', 'square'),\n",
    "    ('DegreeOfUnsaturation', 'yeojohnson'),\n",
    "    ('GroupDensity_CarboxylicAcid', 'yeojohnson'),\n",
    "    ('carbonylperoxynitrate_Indicator', 'reciprocal'),\n",
    "    ('PolarityIndex', 'yeojohnson'),\n",
    "    ('carbonylperoxyacid', 'log'),\n",
    "    ]\n",
    "\n",
    "transformations = {\n",
    "    #'none': lambda x: x,\n",
    "    'log': lambda x: np.log(x + 1e-9),\n",
    "    'sqrt': lambda x: np.sqrt(x),\n",
    "    'square': lambda x: x**2,\n",
    "    'cube': lambda x: x**3,\n",
    "    'exp': lambda x: np.exp(x),\n",
    "    'reciprocal': lambda x: 1 / (x + 1e-9),\n",
    "    'boxcox': lambda x: boxcox(x + 1e-9)[0] if (x > 0).all() else x,\n",
    "    'yeojohnson': lambda x: yeojohnson(x)[0]\n",
    "}\n",
    "\n",
    "\n",
    "if mode == 'add':\n",
    "    for L in range(0, len(remaining_cols) + 1):\n",
    "        for subset in itertools.combinations(remaining_cols, L):\n",
    "            current_combination = list(always_include) + list(subset)\n",
    "            X_subset = X_train_gbr[current_combination]\n",
    "            model.fit(X_subset, y_train)\n",
    "            score = evaluate_model(model, X_subset, y_train)\n",
    "            \n",
    "            if score > best_score:\n",
    "                best_score = score\n",
    "                best_combination = current_combination\n",
    "                print(f'New best combination: {best_combination} with score: {best_score:.10f}')\n",
    "elif mode == 'remove':\n",
    "    X_transformed = X_train_gbr.copy()\n",
    "    for col, trans_name in approved_transformations:\n",
    "        if trans_name in transformations:\n",
    "            X_transformed[col] = transformations[trans_name](X_transformed[col].astype(float))\n",
    "    for L in range(0, len(always_include) + 1):\n",
    "        for subset in itertools.combinations(always_include, L):\n",
    "            current_combination = [col for col in always_include if col not in subset]\n",
    "            X_subset = X_transformed[current_combination]\n",
    "            model.fit(X_subset, y_train)\n",
    "            score = evaluate_model(model, X_subset, y_train)\n",
    "            \n",
    "            if score > best_score:\n",
    "                best_score = score\n",
    "                best_combination = current_combination\n",
    "                print(f'New best combination: {best_combination} with score: {best_score:.10f}')\n",
    "elif mode == \"replace\":\n",
    "    for included_col in always_include:\n",
    "        for excluded_col in remaining_cols:\n",
    "            current_combination = [col for col in always_include if col != included_col] + [excluded_col]\n",
    "            X_subset = X_train_gbr[current_combination]\n",
    "            model.fit(X_subset, y_train)\n",
    "            score = evaluate_model(model, X_subset, y_train)\n",
    "            \n",
    "            if score > best_score:\n",
    "                best_score = score\n",
    "                best_combination = current_combination\n",
    "                print(f'New best combination: {best_combination} with score: {best_score:.10f}')\n",
    "elif mode == \"transform\":\n",
    "    X_transformed = X_train_gbr.copy()\n",
    "    for col, trans_name in approved_transformations:\n",
    "        if trans_name in transformations:\n",
    "            X_transformed[col] = transformations[trans_name](X_transformed[col].astype(float))\n",
    "    \n",
    "    ### Otetaan baseline ilman muunnoksia ensin\n",
    "    X_subset = X_transformed[always_include]\n",
    "    model.fit(X_subset, y_train)\n",
    "    baseline_score = evaluate_model(model, X_subset, y_train)\n",
    "    print(f'Baseline score with no transformation: {baseline_score:.10f}')\n",
    "    \n",
    "    ### Käydään kaikki transformaatiot läpi\n",
    "    for col in always_include:\n",
    "        if any(col == approved_col for approved_col, _ in approved_transformations):\n",
    "            continue  # Skip columns with approved transformations\n",
    "        if X_train_gbr[col].nunique() < 10:\n",
    "            continue\n",
    "        for name, transform in transformations.items():\n",
    "            try:\n",
    "                X_temp = X_transformed.copy()\n",
    "                X_temp[col] = transform(X_temp[col].astype(float))\n",
    "                \n",
    "                if np.any(np.isinf(X_temp[col])) or np.any(np.abs(X_temp[col]) > 1e10):\n",
    "                    raise ValueError(f\"Transformation {name} for {col} resulted in infinities or excessively large values.\")\n",
    "                \n",
    "                X_subset = X_temp[always_include]\n",
    "                model.fit(X_subset, y_train)\n",
    "                score = evaluate_model(model, X_subset, y_train)\n",
    "                print(f'Transformation: {col} with {name} transformation, score: {score:.10f}')\n",
    "                if score > best_score:\n",
    "                    best_score = score\n",
    "                    best_combination = (col, name)\n",
    "                    #print(f'New best transformation: {col} with {name} transformation, score: {best_score:.10f}')\n",
    "            except Exception as e:\n",
    "                print(f\"Skipping transformation {name} for {col} due to error: {e}\")\n",
    "elif mode == \"transform_replace\":\n",
    "    for included_col in always_include:\n",
    "        for excluded_col in remaining_cols:\n",
    "            for name, transform in transformations.items():\n",
    "                try:\n",
    "                    X_temp = X_train_gbr.copy()\n",
    "                    X_temp[excluded_col] = transform(X_temp[excluded_col].astype(float))\n",
    "                    \n",
    "                    # Check for infinities or excessively large values\n",
    "                    if np.any(np.isinf(X_temp[excluded_col])) or np.any(np.abs(X_temp[excluded_col]) > 1e10):\n",
    "                        raise ValueError(f\"Transformation {name} for {excluded_col} resulted in infinities or excessively large values.\")\n",
    "                    \n",
    "                    current_combination = [col for col in always_include if col != included_col] + [excluded_col]\n",
    "                    X_subset = X_temp[current_combination]\n",
    "                    model.fit(X_subset, y_train)\n",
    "                    score = evaluate_model(model, X_subset, y_train)\n",
    "                    \n",
    "                    if score > best_score:\n",
    "                        best_score = score\n",
    "                        best_combination = (included_col, excluded_col, name)\n",
    "                        print(f'New best transformation and replacement: Replace {included_col} with {excluded_col} using {name} transformation, score: {best_score:.10f}')\n",
    "                except Exception as e:\n",
    "                    print(f\"Skipping transformation {name} for {excluded_col} due to error: {e}\")\n",
    "elif mode == \"transform_add\":\n",
    "    for excluded_col in remaining_cols:\n",
    "        for name, transform in transformations.items():\n",
    "            try:\n",
    "                X_temp = X_train_gbr.copy()\n",
    "                X_temp[excluded_col] = transform(X_temp[excluded_col].astype(float))\n",
    "                \n",
    "                # Check for infinities or excessively large values\n",
    "                if np.any(np.isinf(X_temp[excluded_col])) or np.any(np.abs(X_temp[excluded_col]) > 1e10):\n",
    "                    raise ValueError(f\"Transformation {name} for {excluded_col} resulted in infinities or excessively large values.\")\n",
    "                \n",
    "                current_combination = list(always_include) + [excluded_col]\n",
    "                X_subset = X_temp[current_combination]\n",
    "                model.fit(X_subset, y_train)\n",
    "                score = evaluate_model(model, X_subset, y_train)\n",
    "                \n",
    "                if score > best_score:\n",
    "                    best_score = score\n",
    "                    best_combination = (excluded_col, name)\n",
    "                    print(f'New best transformation and addition: Add {excluded_col} using {name} transformation, score: {best_score:.10f}')\n",
    "            except Exception as e:\n",
    "                print(f\"Skipping transformation {name} for {excluded_col} due to error: {e}\")\n",
    "\n",
    "print(f'Best combination: {best_combination} with score: {best_score:.10f}')\n"
   ]
  },
  {
   "cell_type": "code",
   "execution_count": 9,
   "metadata": {},
   "outputs": [],
   "source": [
    "import numpy as np\n",
    "import pandas as pd\n",
    "from scipy.stats import boxcox, yeojohnson\n",
    "\n",
    "def apply_approved_transformations(df, approved_transformations):\n",
    "    transformations = {\n",
    "        'none': lambda x: x,\n",
    "        'log': lambda x: np.log(x + 1e-9),  # Adding a small constant to avoid log(0)\n",
    "        'sqrt': lambda x: np.sqrt(x),\n",
    "        'square': lambda x: x**2,\n",
    "        'cube': lambda x: x**3,\n",
    "        'exp': lambda x: np.exp(x),\n",
    "        'reciprocal': lambda x: 1 / (x + 1e-9),  # Adding a small constant to avoid division by zero\n",
    "        'boxcox': lambda x: boxcox(x + 1e-9)[0] if (x > 0).all() else x,  # Box-Cox requires positive values\n",
    "        'yeojohnson': lambda x: yeojohnson(x)[0]  # Yeo-Johnson can handle zero and negative values\n",
    "    }\n",
    "    \n",
    "    df_transformed = df.copy()\n",
    "    for col, trans_name in approved_transformations:\n",
    "        if trans_name in transformations:\n",
    "            try:\n",
    "                df_transformed[col] = transformations[trans_name](df_transformed[col].astype(float))\n",
    "            except Exception as e:\n",
    "                print(f\"Skipping transformation {trans_name} for {col} due to error: {e}\")\n",
    "    \n",
    "    return df_transformed"
   ]
  },
  {
   "cell_type": "markdown",
   "metadata": {
    "nteract": {
     "transient": {
      "deleting": false
     }
    }
   },
   "source": [
    "### 3. Random Forest"
   ]
  },
  {
   "cell_type": "code",
   "execution_count": null,
   "metadata": {
    "gather": {
     "logged": 1732052550516
    },
    "jupyter": {
     "outputs_hidden": false,
     "source_hidden": false
    },
    "nteract": {
     "transient": {
      "deleting": false
     }
    }
   },
   "outputs": [
    {
     "data": {
      "text/plain": [
       "np.float64(0.714071177562855)"
      ]
     },
     "execution_count": 632,
     "metadata": {},
     "output_type": "execute_result"
    }
   ],
   "source": [
    "\n",
    "approved_transformations = [\n",
    "    ('AtomFraction', 'reciprocal'),\n",
    "    ('FlexibilityRatio', 'log'),\n",
    "    ('Hydrophobicity', 'reciprocal'),\n",
    "    ('PolarGroupCount', 'sqrt'),\n",
    "    ('VolatilityIndex', 'boxcox'),\n",
    "    ('HBondDensity', 'square'),\n",
    "    ('DegreeOfUnsaturation', 'yeojohnson'),\n",
    "    ('GroupDensity_CarboxylicAcid', 'yeojohnson'),\n",
    "    ('carbonylperoxynitrate_Indicator', 'reciprocal'),\n",
    "    ('PolarityIndex', 'yeojohnson'),\n",
    "    ('carbonylperoxyacid', 'log'),\n",
    "    ]\n",
    "included = ['AtomFraction', 'GroupDensity_CarboxylicAcid', 'ConfigurationalComplexity', 'carbonylperoxynitrate_Indicator', 'PolarityIndex', 'parentspecies_apin', 'aldehyde_Indicator', 'peroxide_Indicator', 'ShapeCompactness', 'FlexibilityRatio', 'VolatilityIndex', 'PolarGroupCount', 'HBondDensity', 'HydrogenBondPotential', 'nitro_Indicator', 'ester_Indicator', 'parentspecies_toluene', 'DegreeOfUnsaturation', 'Hydrophobicity', 'hydroxyl (alkyl)_Indicator', 'ketone_Indicator', 'nitroester_Indicator', 'hydroxyl (alkyl)', 'carbonylperoxyacid', 'NumOfConfUsed', 'aldehyde', 'SymmetryIndex', 'NumOfConf', 'NumOfC', 'nitro', 'C=C (non-aromatic)', 'C=C (non-aromatic)_Indicator', 'nitrate', 'carbonylperoxyacid_Indicator', 'hydroperoxide_Indicator', 'nitroester', 'carboxylic acid_Indicator', 'aromatic hydroxyl_Indicator', 'NumOfO', 'ether (alicyclic)_Indicator']\n",
    "X_train_sel = X_train_gbr[included]\n",
    "X_test_sel = X_test_gbr[included]\n",
    "\n",
    "X_train_sel = apply_approved_transformations(X_train_sel, approved_transformations)\n",
    "X_test_sel = apply_approved_transformations(X_test_sel, approved_transformations)\n",
    "\n",
    "model = RandomForestRegressor(random_state=190)\n",
    "model.fit(X_train_sel, y_train)\n",
    "\n",
    "evaluate_model(model, X_train_sel, y_train)"
   ]
  },
  {
   "cell_type": "markdown",
   "metadata": {},
   "source": [
    "### 4. Gradient Boosting Regressor"
   ]
  },
  {
   "cell_type": "code",
   "execution_count": null,
   "metadata": {},
   "outputs": [
    {
     "name": "stderr",
     "output_type": "stream",
     "text": [
      "[I 2024-11-24 17:55:41,161] Using an existing study with name 'group-190-669' instead of creating a new one.\n"
     ]
    }
   ],
   "source": [
    "# OPTUNA\n",
    "\n",
    "import optuna\n",
    "from sklearn.discriminant_analysis import StandardScaler\n",
    "from sklearn.pipeline import make_pipeline\n",
    "from sklearn.svm import SVR\n",
    "\n",
    "\n",
    "def objective(trial):\n",
    "    gbr_params = {\n",
    "        \"n_estimators\": trial.suggest_int(\"n_estimators\", 50, 150),\n",
    "        \"max_depth\": trial.suggest_int(\"max_depth\", 3, 9),\n",
    "        \"min_samples_split\": trial.suggest_int(\"min_samples_split\", 5, 15),\n",
    "        \"learning_rate\": trial.suggest_float(\"learning_rate\", 0.05, 0.2),\n",
    "        \"loss\": \"squared_error\",\n",
    "        \"random_state\": 190,\n",
    "        \"subsample\": trial.suggest_float(\"subsample\", 0.3, 0.9),\n",
    "    }\n",
    "        \n",
    "    model = GradientBoostingRegressor(**gbr_params)\n",
    "\n",
    "    score = cross_val_score(model, X_train, y_train, cv=5, scoring='r2').mean()\n",
    "    return score\n",
    "\n",
    "study_name = \"group-190-669\"\n",
    "storage = \"sqlite:///optuna_190.sqlite3\"\n",
    "\n",
    "study = optuna.create_study(\n",
    "    direction=\"maximize\",\n",
    "    #sampler=optuna.samplers.TPESampler(seed=190),\n",
    "    study_name=study_name,\n",
    "    storage=storage,\n",
    "    load_if_exists=True\n",
    ")\n",
    "\n",
    "#study.optimize(objective, n_trials=5)\n",
    "\n",
    "#loaded_study = optuna.load_study(study_name=study_name, storage=storage)\n",
    "\n",
    "#print(f\"The best score: {loaded_study.best_value}\")\n",
    "#print(f\"The best hyperparameter combination: {loaded_study.best_params}\")\n",
    "\n"
   ]
  },
  {
   "cell_type": "code",
   "execution_count": null,
   "metadata": {},
   "outputs": [
    {
     "data": {
      "text/plain": [
       "np.float64(0.7393820305668634)"
      ]
     },
     "execution_count": 631,
     "metadata": {},
     "output_type": "execute_result"
    }
   ],
   "source": [
    "gbr_params = {\n",
    "    \"n_estimators\": 100,\n",
    "    \"max_depth\": 6,\n",
    "    \"min_samples_split\": 10,\n",
    "    \"learning_rate\": 0.1,\n",
    "    \"loss\": \"squared_error\",\n",
    "    \"random_state\": 42,\n",
    "    # \"subsample\": 0.6,\n",
    "}\n",
    "\n",
    "approved_transformations = [\n",
    "    ('AtomFraction', 'reciprocal'),\n",
    "    ('FlexibilityRatio', 'log'),\n",
    "    ('Hydrophobicity', 'reciprocal'),\n",
    "    ('PolarGroupCount', 'sqrt'),\n",
    "    ('VolatilityIndex', 'boxcox'),\n",
    "    ('HBondDensity', 'square'),\n",
    "    ('DegreeOfUnsaturation', 'yeojohnson'),\n",
    "    ('GroupDensity_CarboxylicAcid', 'yeojohnson'),\n",
    "    ('carbonylperoxynitrate_Indicator', 'reciprocal'),\n",
    "    ('PolarityIndex', 'yeojohnson'),\n",
    "    ('carbonylperoxyacid', 'log'),\n",
    "    ]\n",
    "included = ['AtomFraction', 'GroupDensity_CarboxylicAcid', 'ConfigurationalComplexity', 'carbonylperoxynitrate_Indicator', 'PolarityIndex', 'parentspecies_apin', 'aldehyde_Indicator', 'peroxide_Indicator', 'ShapeCompactness', 'FlexibilityRatio', 'VolatilityIndex', 'PolarGroupCount', 'HBondDensity', 'HydrogenBondPotential', 'nitro_Indicator', 'ester_Indicator', 'parentspecies_toluene', 'DegreeOfUnsaturation', 'Hydrophobicity', 'hydroxyl (alkyl)_Indicator', 'ketone_Indicator', 'nitroester_Indicator', 'hydroxyl (alkyl)', 'carbonylperoxyacid', 'NumOfConfUsed', 'aldehyde', 'SymmetryIndex', 'NumOfConf', 'NumOfC', 'nitro', 'C=C (non-aromatic)', 'C=C (non-aromatic)_Indicator', 'nitrate', 'carbonylperoxyacid_Indicator', 'hydroperoxide_Indicator', 'nitroester', 'carboxylic acid_Indicator', 'aromatic hydroxyl_Indicator', 'NumOfO', 'ether (alicyclic)_Indicator']\n",
    "X_train_sel = X_train_gbr[included]\n",
    "X_test_sel = X_test_gbr[included]\n",
    "\n",
    "X_train_sel = apply_approved_transformations(X_train_sel, approved_transformations)\n",
    "X_test_sel = apply_approved_transformations(X_test_sel, approved_transformations)\n",
    "\n",
    "    \n",
    "model = GradientBoostingRegressor(**gbr_params)\n",
    "model.fit(X_train_sel, y_train)\n",
    "\n",
    "evaluate_model(model, X_train_sel, y_train)\n",
    "\n"
   ]
  },
  {
   "cell_type": "markdown",
   "metadata": {},
   "source": [
    "# 5. SVR"
   ]
  },
  {
   "cell_type": "code",
   "execution_count": null,
   "metadata": {},
   "outputs": [
    {
     "name": "stderr",
     "output_type": "stream",
     "text": [
      "[I 2024-11-28 11:52:06,903] Using an existing study with name 'group-190-667f' instead of creating a new one.\n",
      "[I 2024-11-28 11:54:58,125] Trial 229 finished with value: 0.7550380842626584 and parameters: {'C': 3.5169525044878216, 'epsilon': 0.41593364547566913, 'degree': 49, 'gamma': 0.017043034574977915, 'coef0': 0.03352070905873489, 'tol': 1.4991888934634567e-05}. Best is trial 214 with value: 0.7550381054851701.\n",
      "[I 2024-11-28 11:57:47,695] Trial 230 finished with value: 0.7550386104917828 and parameters: {'C': 3.525966730359343, 'epsilon': 0.4161806381425711, 'degree': 50, 'gamma': 0.017044909846706827, 'coef0': 0.03355524800380342, 'tol': 1.4992408322713575e-05}. Best is trial 230 with value: 0.7550386104917828.\n",
      "[I 2024-11-28 12:00:41,919] Trial 231 finished with value: 0.7550361393604244 and parameters: {'C': 3.51640460861277, 'epsilon': 0.4160091653583347, 'degree': 50, 'gamma': 0.01705582623969709, 'coef0': 0.03339665548067246, 'tol': 1.4996984906908675e-05}. Best is trial 230 with value: 0.7550386104917828.\n",
      "[I 2024-11-28 12:03:36,814] Trial 232 finished with value: 0.7550363758114415 and parameters: {'C': 3.5171614228077415, 'epsilon': 0.41668067922883345, 'degree': 49, 'gamma': 0.017027619065984354, 'coef0': 0.033527545087001086, 'tol': 1.2328370417942297e-05}. Best is trial 230 with value: 0.7550386104917828.\n",
      "[I 2024-11-28 12:06:36,811] Trial 233 finished with value: 0.7550374539119927 and parameters: {'C': 3.5196744838057743, 'epsilon': 0.4163097627881036, 'degree': 49, 'gamma': 0.017038944373197848, 'coef0': 0.033498802475299724, 'tol': 1.239377743698787e-05}. Best is trial 230 with value: 0.7550386104917828.\n",
      "[I 2024-11-28 12:09:30,634] Trial 234 finished with value: 0.7550367637547382 and parameters: {'C': 3.516090781382489, 'epsilon': 0.41672027490820357, 'degree': 50, 'gamma': 0.01701920412704644, 'coef0': 0.033472662508689126, 'tol': 1.2142672258066983e-05}. Best is trial 230 with value: 0.7550386104917828.\n",
      "[I 2024-11-28 12:12:24,356] Trial 235 finished with value: 0.755039096310564 and parameters: {'C': 3.516935225064819, 'epsilon': 0.41612061382671617, 'degree': 49, 'gamma': 0.017026576154460307, 'coef0': 0.033484522595062516, 'tol': 1.222856493742109e-05}. Best is trial 235 with value: 0.755039096310564.\n",
      "[I 2024-11-28 12:15:15,042] Trial 236 finished with value: 0.7550388361654428 and parameters: {'C': 3.516880899092473, 'epsilon': 0.41661963190587725, 'degree': 49, 'gamma': 0.01700263896129308, 'coef0': 0.03348297942198274, 'tol': 1.2221629606550998e-05}. Best is trial 235 with value: 0.755039096310564.\n",
      "[I 2024-11-28 12:18:00,665] Trial 237 finished with value: 0.7550307735357901 and parameters: {'C': 3.5184136150989844, 'epsilon': 0.41836974467546884, 'degree': 49, 'gamma': 0.01703298753913378, 'coef0': 0.03345730180311989, 'tol': 1.2221582509239668e-05}. Best is trial 235 with value: 0.755039096310564.\n",
      "[I 2024-11-28 12:20:53,604] Trial 238 finished with value: 0.7550335686556506 and parameters: {'C': 3.52597323988427, 'epsilon': 0.41724867392364307, 'degree': 49, 'gamma': 0.017046282869239787, 'coef0': 0.033461787893799416, 'tol': 1.2326085461317226e-05}. Best is trial 235 with value: 0.755039096310564.\n",
      "[I 2024-11-28 12:23:53,459] Trial 239 finished with value: 0.755046700392404 and parameters: {'C': 3.532435243135775, 'epsilon': 0.4171081404703694, 'degree': 49, 'gamma': 0.016940277795030708, 'coef0': 0.03348580094497244, 'tol': 1.2315146496196423e-05}. Best is trial 239 with value: 0.755046700392404.\n",
      "[I 2024-11-28 12:26:48,776] Trial 240 finished with value: 0.7550414761914421 and parameters: {'C': 3.532466397125786, 'epsilon': 0.4171875237492295, 'degree': 49, 'gamma': 0.016992141150296836, 'coef0': 0.0334568694572459, 'tol': 1.228101793849499e-05}. Best is trial 239 with value: 0.755046700392404.\n",
      "[I 2024-11-28 12:29:37,938] Trial 241 finished with value: 0.7550153534322381 and parameters: {'C': 3.5358986986387007, 'epsilon': 0.4253240245962731, 'degree': 49, 'gamma': 0.016979229640371785, 'coef0': 0.03310503845478123, 'tol': 1.2356189306806803e-05}. Best is trial 239 with value: 0.755046700392404.\n",
      "[I 2024-11-28 12:32:26,208] Trial 242 finished with value: 0.7550546340416382 and parameters: {'C': 3.557599316685218, 'epsilon': 0.41525253035737236, 'degree': 49, 'gamma': 0.01699570970645323, 'coef0': 0.03356999157829119, 'tol': 1.2467070762299247e-05}. Best is trial 242 with value: 0.7550546340416382.\n",
      "[I 2024-11-28 12:35:15,516] Trial 243 finished with value: 0.7550575757286809 and parameters: {'C': 3.551467693368321, 'epsilon': 0.4143528355918957, 'degree': 49, 'gamma': 0.01697584613803311, 'coef0': 0.03363071162330383, 'tol': 1.2534134377238883e-05}. Best is trial 243 with value: 0.7550575757286809.\n",
      "[I 2024-11-28 12:38:10,112] Trial 244 finished with value: 0.7550570139580663 and parameters: {'C': 3.5520091951358856, 'epsilon': 0.4147737722735198, 'degree': 50, 'gamma': 0.01697403950308587, 'coef0': 0.033624658570699205, 'tol': 1.2507801260634281e-05}. Best is trial 243 with value: 0.7550575757286809.\n",
      "[I 2024-11-28 12:41:02,826] Trial 245 finished with value: 0.755060795916482 and parameters: {'C': 3.562419636487071, 'epsilon': 0.41491928287107616, 'degree': 49, 'gamma': 0.016956921892014226, 'coef0': 0.033605859008015805, 'tol': 1.2410612671358723e-05}. Best is trial 245 with value: 0.755060795916482.\n",
      "[I 2024-11-28 12:43:52,067] Trial 246 finished with value: 0.7550376593074637 and parameters: {'C': 3.5638750672252075, 'epsilon': 0.42220703831550715, 'degree': 49, 'gamma': 0.01698402093775117, 'coef0': 0.033657250486674825, 'tol': 1.2586484379072538e-05}. Best is trial 245 with value: 0.755060795916482.\n",
      "[I 2024-11-28 12:46:41,525] Trial 247 finished with value: 0.7550332577835966 and parameters: {'C': 3.561231037949196, 'epsilon': 0.42343574211476515, 'degree': 49, 'gamma': 0.016967138694368264, 'coef0': 0.03365171204729601, 'tol': 1.2568641440164417e-05}. Best is trial 245 with value: 0.755060795916482.\n",
      "[I 2024-11-28 12:49:33,054] Trial 248 finished with value: 0.755034814274652 and parameters: {'C': 3.559155042996433, 'epsilon': 0.4229622017562003, 'degree': 49, 'gamma': 0.01696697479394052, 'coef0': 0.03364987679542586, 'tol': 1.2587764981195307e-05}. Best is trial 245 with value: 0.755060795916482.\n",
      "[I 2024-11-28 12:52:25,382] Trial 249 finished with value: 0.7550431967864162 and parameters: {'C': 3.5482663355998842, 'epsilon': 0.41919771019668073, 'degree': 49, 'gamma': 0.016968771177158136, 'coef0': 0.0333558459333372, 'tol': 1.2595295583871866e-05}. Best is trial 245 with value: 0.755060795916482.\n",
      "[I 2024-11-28 12:55:25,570] Trial 250 finished with value: 0.7550444921958885 and parameters: {'C': 3.553334179468857, 'epsilon': 0.4203513813864038, 'degree': 49, 'gamma': 0.016951164137563077, 'coef0': 0.03324817537538397, 'tol': 1.2642597008861233e-05}. Best is trial 245 with value: 0.755060795916482.\n",
      "[I 2024-11-28 12:58:20,319] Trial 251 finished with value: 0.755043291298221 and parameters: {'C': 3.5512379057952557, 'epsilon': 0.4209354724661803, 'degree': 50, 'gamma': 0.01694270305620683, 'coef0': 0.03327617868994699, 'tol': 8.79707246735278e-06}. Best is trial 245 with value: 0.755060795916482.\n",
      "[I 2024-11-28 13:01:07,753] Trial 252 finished with value: 0.7550440396959804 and parameters: {'C': 3.5496612074991623, 'epsilon': 0.4208566608620357, 'degree': 49, 'gamma': 0.01692870816743188, 'coef0': 0.03317212657697062, 'tol': 1.2642523181376831e-05}. Best is trial 245 with value: 0.755060795916482.\n",
      "[I 2024-11-28 13:04:11,894] Trial 253 finished with value: 0.7550181056950841 and parameters: {'C': 3.5443151475104946, 'epsilon': 0.42925598888854594, 'degree': 49, 'gamma': 0.01682967524050804, 'coef0': 0.03323691475293399, 'tol': 8.562713710708508e-06}. Best is trial 245 with value: 0.755060795916482.\n",
      "[I 2024-11-28 13:07:43,160] Trial 254 finished with value: 0.7550588611320315 and parameters: {'C': 3.581903840051457, 'epsilon': 0.4196474162302309, 'degree': 50, 'gamma': 0.016895579670377543, 'coef0': 0.03327812513526195, 'tol': 1.2713184752154742e-05}. Best is trial 245 with value: 0.755060795916482.\n",
      "[I 2024-11-28 13:12:55,438] Trial 255 finished with value: 0.7550583680211996 and parameters: {'C': 3.576843980851284, 'epsilon': 0.41976588418758304, 'degree': 50, 'gamma': 0.01688428373344488, 'coef0': 0.0332969447694484, 'tol': 1.274535580705781e-05}. Best is trial 245 with value: 0.755060795916482.\n",
      "[I 2024-11-28 13:16:33,658] Trial 256 finished with value: 0.7550623422328491 and parameters: {'C': 3.5885738108645433, 'epsilon': 0.41961039857419985, 'degree': 50, 'gamma': 0.016879890238176737, 'coef0': 0.033304997071018, 'tol': 1.2803568771608368e-05}. Best is trial 256 with value: 0.7550623422328491.\n",
      "[I 2024-11-28 13:20:54,231] Trial 257 finished with value: 0.7550555135384578 and parameters: {'C': 3.571970899251956, 'epsilon': 0.41982482780615776, 'degree': 50, 'gamma': 0.016898615225525347, 'coef0': 0.03330915872269728, 'tol': 1.2852036396734396e-05}. Best is trial 256 with value: 0.7550623422328491.\n",
      "[I 2024-11-28 13:25:09,779] Trial 258 finished with value: 0.7550617670005426 and parameters: {'C': 3.58376929300003, 'epsilon': 0.41951548366896163, 'degree': 50, 'gamma': 0.016874558543191757, 'coef0': 0.033309963110717926, 'tol': 1.290602489771855e-05}. Best is trial 256 with value: 0.7550623422328491.\n",
      "[I 2024-11-28 13:29:18,784] Trial 259 finished with value: 0.755060802718828 and parameters: {'C': 3.5891329035909423, 'epsilon': 0.4209490418290138, 'degree': 50, 'gamma': 0.01686179336064831, 'coef0': 0.03326747616508325, 'tol': 1.2937829200126343e-05}. Best is trial 256 with value: 0.7550623422328491.\n",
      "[I 2024-11-28 13:33:12,803] Trial 260 finished with value: 0.7550649744211675 and parameters: {'C': 3.586059587837945, 'epsilon': 0.41944052532728787, 'degree': 50, 'gamma': 0.016848231735049384, 'coef0': 0.033286406943253806, 'tol': 1.2855358898817676e-05}. Best is trial 260 with value: 0.7550649744211675.\n",
      "[I 2024-11-28 13:37:08,686] Trial 261 finished with value: 0.7550631421533123 and parameters: {'C': 3.591081717233301, 'epsilon': 0.4201540892401578, 'degree': 50, 'gamma': 0.016862730148483003, 'coef0': 0.03321045255507645, 'tol': 1.3047472296462131e-05}. Best is trial 260 with value: 0.7550649744211675.\n",
      "[I 2024-11-28 13:41:09,637] Trial 262 finished with value: 0.7550642649594858 and parameters: {'C': 3.590202127682382, 'epsilon': 0.4200687566831211, 'degree': 50, 'gamma': 0.01685001934758838, 'coef0': 0.03327463390779086, 'tol': 1.3039530513283089e-05}. Best is trial 260 with value: 0.7550649744211675.\n",
      "[I 2024-11-28 13:45:01,458] Trial 263 finished with value: 0.7550632937424839 and parameters: {'C': 3.5881739423380004, 'epsilon': 0.4197761254229957, 'degree': 50, 'gamma': 0.016864644836136047, 'coef0': 0.03328479165057883, 'tol': 1.2980584410959266e-05}. Best is trial 260 with value: 0.7550649744211675.\n",
      "[I 2024-11-28 13:48:59,889] Trial 264 finished with value: 0.7550671398586297 and parameters: {'C': 3.590965124021596, 'epsilon': 0.4198526116694697, 'degree': 50, 'gamma': 0.016825808594303063, 'coef0': 0.03325621723086226, 'tol': 1.2985765614555213e-05}. Best is trial 264 with value: 0.7550671398586297.\n",
      "[I 2024-11-28 13:52:48,616] Trial 265 finished with value: 0.7550643696677874 and parameters: {'C': 3.586940834804703, 'epsilon': 0.4201517037492486, 'degree': 51, 'gamma': 0.01683389587537666, 'coef0': 0.03326955740702926, 'tol': 1.3013149053094768e-05}. Best is trial 264 with value: 0.7550671398586297.\n",
      "[I 2024-11-28 13:56:44,871] Trial 266 finished with value: 0.7550800203964114 and parameters: {'C': 3.5932643801855946, 'epsilon': 0.4198403843342681, 'degree': 50, 'gamma': 0.016636022497975342, 'coef0': 0.03323365359851923, 'tol': 1.3296053068995646e-05}. Best is trial 266 with value: 0.7550800203964114.\n",
      "[I 2024-11-28 14:00:30,762] Trial 267 finished with value: 0.7550791372922577 and parameters: {'C': 3.5905122111574364, 'epsilon': 0.4199993965861768, 'degree': 51, 'gamma': 0.01662366106996043, 'coef0': 0.03325983791004803, 'tol': 1.322222897684708e-05}. Best is trial 266 with value: 0.7550800203964114.\n",
      "[I 2024-11-28 14:07:18,021] Trial 268 finished with value: 0.7550790742697504 and parameters: {'C': 3.5890882973939577, 'epsilon': 0.41925040513620515, 'degree': 51, 'gamma': 0.01665100534757257, 'coef0': 0.03328083015917923, 'tol': 1.325393357267368e-05}. Best is trial 266 with value: 0.7550800203964114.\n",
      "[I 2024-11-28 14:17:07,287] Trial 269 finished with value: 0.7550789290556523 and parameters: {'C': 3.5924188975400226, 'epsilon': 0.4201877037248246, 'degree': 53, 'gamma': 0.016634217386443072, 'coef0': 0.03286650510167794, 'tol': 1.3171752452285208e-05}. Best is trial 266 with value: 0.7550800203964114.\n",
      "[I 2024-11-28 14:26:46,616] Trial 270 finished with value: 0.7550767918752612 and parameters: {'C': 3.58638599651822, 'epsilon': 0.4201102052132176, 'degree': 56, 'gamma': 0.016639422623171356, 'coef0': 0.032914029889203035, 'tol': 1.3399564478340877e-05}. Best is trial 266 with value: 0.7550800203964114.\n",
      "[I 2024-11-28 14:35:34,073] Trial 271 finished with value: 0.7550791926606797 and parameters: {'C': 3.5911067300820694, 'epsilon': 0.42025273617456743, 'degree': 57, 'gamma': 0.01661233859904226, 'coef0': 0.03290470549009906, 'tol': 1.3241463105080336e-05}. Best is trial 266 with value: 0.7550800203964114.\n",
      "[I 2024-11-28 14:45:28,061] Trial 272 finished with value: 0.7550612511872634 and parameters: {'C': 3.5903723262188008, 'epsilon': 0.42532448895254943, 'degree': 58, 'gamma': 0.016563334638077586, 'coef0': 0.032775280048642476, 'tol': 1.3219643638442294e-05}. Best is trial 266 with value: 0.7550800203964114.\n",
      "[I 2024-11-28 14:55:23,484] Trial 273 finished with value: 0.7550559956636763 and parameters: {'C': 3.5899491490841506, 'epsilon': 0.42545942780829793, 'degree': 61, 'gamma': 0.01663364463415533, 'coef0': 0.03289689077418263, 'tol': 1.3275331164829714e-05}. Best is trial 266 with value: 0.7550800203964114.\n",
      "[I 2024-11-28 15:30:02,821] Trial 274 finished with value: 0.7550562108985573 and parameters: {'C': 3.5904375024792, 'epsilon': 0.4259533274488828, 'degree': 64, 'gamma': 0.016594166634090732, 'coef0': 0.03286593860452544, 'tol': 1.3272459678132018e-05}. Best is trial 266 with value: 0.7550800203964114.\n",
      "[I 2024-11-28 15:34:07,557] Trial 275 finished with value: 0.7550663303614594 and parameters: {'C': 3.592005724559609, 'epsilon': 0.42624869367246493, 'degree': 61, 'gamma': 0.01640375065149373, 'coef0': 0.03279499055827783, 'tol': 1.3285939900625089e-05}. Best is trial 266 with value: 0.7550800203964114.\n",
      "[I 2024-11-28 15:38:13,627] Trial 276 finished with value: 0.75506750524393 and parameters: {'C': 3.5921148693190883, 'epsilon': 0.4255668729345463, 'degree': 62, 'gamma': 0.01643812414133586, 'coef0': 0.03290548872141718, 'tol': 1.3249727972882404e-05}. Best is trial 266 with value: 0.7550800203964114.\n",
      "[I 2024-11-28 15:42:01,932] Trial 277 finished with value: 0.7550716660954817 and parameters: {'C': 3.5946150225679396, 'epsilon': 0.425283535853647, 'degree': 63, 'gamma': 0.016405986318020385, 'coef0': 0.032874574197563525, 'tol': 1.3273952644714997e-05}. Best is trial 266 with value: 0.7550800203964114.\n",
      "[I 2024-11-28 15:45:04,459] Trial 278 finished with value: 0.7550592303949764 and parameters: {'C': 3.5940065090547004, 'epsilon': 0.4275603616713824, 'degree': 62, 'gamma': 0.01644456094437698, 'coef0': 0.03286366766832982, 'tol': 1.3645964195043716e-05}. Best is trial 266 with value: 0.7550800203964114.\n",
      "[I 2024-11-28 15:47:59,623] Trial 279 finished with value: 0.7550659120452187 and parameters: {'C': 3.6209869934275534, 'epsilon': 0.4286677994395363, 'degree': 60, 'gamma': 0.016418861232167514, 'coef0': 0.03259730972222643, 'tol': 1.3654704530742631e-05}. Best is trial 266 with value: 0.7550800203964114.\n",
      "[I 2024-11-28 15:51:14,050] Trial 280 finished with value: 0.7550629723597841 and parameters: {'C': 3.6160911164747755, 'epsilon': 0.42921034021767496, 'degree': 61, 'gamma': 0.016414554961963826, 'coef0': 0.032679868778350614, 'tol': 1.3720072024045108e-05}. Best is trial 266 with value: 0.7550800203964114.\n",
      "[I 2024-11-28 15:55:02,853] Trial 281 finished with value: 0.7550613215433488 and parameters: {'C': 3.611585473707955, 'epsilon': 0.4293820075530296, 'degree': 61, 'gamma': 0.016406488079541155, 'coef0': 0.03255818677814874, 'tol': 1.3667198396791657e-05}. Best is trial 266 with value: 0.7550800203964114.\n",
      "[I 2024-11-28 15:58:19,880] Trial 282 finished with value: 0.7550550305879752 and parameters: {'C': 3.620420150166789, 'epsilon': 0.4317328044549699, 'degree': 61, 'gamma': 0.01650863829110306, 'coef0': 0.03270446316559068, 'tol': 1.3721117276586721e-05}. Best is trial 266 with value: 0.7550800203964114.\n",
      "[I 2024-11-28 16:01:30,033] Trial 283 finished with value: 0.7550657072811126 and parameters: {'C': 3.614658018009099, 'epsilon': 0.4283334141144588, 'degree': 58, 'gamma': 0.016401255878742978, 'coef0': 0.0325584978406944, 'tol': 1.3618204971045078e-05}. Best is trial 266 with value: 0.7550800203964114.\n",
      "[I 2024-11-28 16:05:06,629] Trial 284 finished with value: 0.7550644256714901 and parameters: {'C': 3.614377588883996, 'epsilon': 0.42844413847173995, 'degree': 58, 'gamma': 0.01641729983128526, 'coef0': 0.0325097398769835, 'tol': 1.3680240468977834e-05}. Best is trial 266 with value: 0.7550800203964114.\n",
      "[I 2024-11-28 16:08:57,298] Trial 285 finished with value: 0.7550565974627695 and parameters: {'C': 3.611702129575574, 'epsilon': 0.43151636047980235, 'degree': 57, 'gamma': 0.016402114483127048, 'coef0': 0.03245107663370427, 'tol': 1.3084815362269291e-05}. Best is trial 266 with value: 0.7550800203964114.\n",
      "[I 2024-11-28 16:12:25,395] Trial 286 finished with value: 0.7550697591912463 and parameters: {'C': 3.6310832809200315, 'epsilon': 0.428784195297969, 'degree': 59, 'gamma': 0.01640359809910554, 'coef0': 0.03248814908047785, 'tol': 1.3479910827086761e-05}. Best is trial 266 with value: 0.7550800203964114.\n",
      "[I 2024-11-28 16:15:32,073] Trial 287 finished with value: 0.7550475004961665 and parameters: {'C': 3.624613716632142, 'epsilon': 0.4374150826770893, 'degree': 57, 'gamma': 0.0163844634778908, 'coef0': 0.03249416411955826, 'tol': 1.3471873153247366e-05}. Best is trial 266 with value: 0.7550800203964114.\n",
      "[I 2024-11-28 16:18:42,925] Trial 288 finished with value: 0.7550468786088603 and parameters: {'C': 3.6024543814997143, 'epsilon': 0.42980065146329216, 'degree': 56, 'gamma': 0.016610079235273686, 'coef0': 0.032700394942933905, 'tol': 1.3894787805668046e-05}. Best is trial 266 with value: 0.7550800203964114.\n",
      "[I 2024-11-28 16:21:53,085] Trial 289 finished with value: 0.755089698484678 and parameters: {'C': 3.639272767074401, 'epsilon': 0.42405529722014795, 'degree': 67, 'gamma': 0.016455752237449398, 'coef0': 0.0330003900902237, 'tol': 1.3072194226916964e-05}. Best is trial 289 with value: 0.755089698484678.\n",
      "[I 2024-11-28 16:25:00,511] Trial 290 finished with value: 0.7550968857718456 and parameters: {'C': 3.6474933191678813, 'epsilon': 0.42379665577947967, 'degree': 69, 'gamma': 0.01640092099217685, 'coef0': 0.032452631060873136, 'tol': 1.3289986189043464e-05}. Best is trial 290 with value: 0.7550968857718456.\n",
      "[I 2024-11-28 16:28:28,064] Trial 291 finished with value: 0.7550701580607415 and parameters: {'C': 3.632047831019645, 'epsilon': 0.42825053617262987, 'degree': 71, 'gamma': 0.01643506605681059, 'coef0': 0.032481157417197565, 'tol': 1.3958816582049198e-05}. Best is trial 290 with value: 0.7550968857718456.\n",
      "[I 2024-11-28 16:31:40,758] Trial 292 finished with value: 0.7550789474783923 and parameters: {'C': 3.644173868550895, 'epsilon': 0.4235321576255138, 'degree': 69, 'gamma': 0.01668225889079352, 'coef0': 0.03303270550899036, 'tol': 1.3448767599014201e-05}. Best is trial 290 with value: 0.7550968857718456.\n",
      "[I 2024-11-28 16:34:52,251] Trial 293 finished with value: 0.7550789821316635 and parameters: {'C': 3.6453331071601847, 'epsilon': 0.4235511059376685, 'degree': 69, 'gamma': 0.016684521654759924, 'coef0': 0.03298317884190929, 'tol': 1.3971783110765297e-05}. Best is trial 290 with value: 0.7550968857718456.\n",
      "[I 2024-11-28 16:38:12,578] Trial 294 finished with value: 0.7550777382461986 and parameters: {'C': 3.6511982446473175, 'epsilon': 0.4239983921802626, 'degree': 67, 'gamma': 0.016688402855814716, 'coef0': 0.03301736856137553, 'tol': 1.3984073444299642e-05}. Best is trial 290 with value: 0.7550968857718456.\n",
      "[I 2024-11-28 16:41:30,349] Trial 295 finished with value: 0.7550758586866485 and parameters: {'C': 3.646344492660891, 'epsilon': 0.42386711689106404, 'degree': 70, 'gamma': 0.016706173927464308, 'coef0': 0.03299316752282334, 'tol': 1.3976389858948313e-05}. Best is trial 290 with value: 0.7550968857718456.\n",
      "[I 2024-11-28 16:44:48,782] Trial 296 finished with value: 0.7550793139132043 and parameters: {'C': 3.6568259065879296, 'epsilon': 0.42434751341768856, 'degree': 70, 'gamma': 0.01666126987997708, 'coef0': 0.032989344900702565, 'tol': 1.3455930585187102e-05}. Best is trial 290 with value: 0.7550968857718456.\n",
      "[I 2024-11-28 16:48:41,839] Trial 297 finished with value: 0.7550797232878785 and parameters: {'C': 3.652864560015916, 'epsilon': 0.42337272992188113, 'degree': 71, 'gamma': 0.016712441025948408, 'coef0': 0.03299329756228211, 'tol': 1.3932501985052465e-05}. Best is trial 290 with value: 0.7550968857718456.\n",
      "[I 2024-11-28 16:53:27,151] Trial 298 finished with value: 0.7550809161984426 and parameters: {'C': 3.6461296181253178, 'epsilon': 0.42343456159522164, 'degree': 71, 'gamma': 0.016668306411431712, 'coef0': 0.03301379115946487, 'tol': 1.3492143828784354e-05}. Best is trial 290 with value: 0.7550968857718456.\n",
      "[I 2024-11-28 16:57:56,592] Trial 299 finished with value: 0.7550803496891817 and parameters: {'C': 3.6555234521541724, 'epsilon': 0.4244153279046984, 'degree': 71, 'gamma': 0.016638750527141057, 'coef0': 0.03299203840853613, 'tol': 1.3438982202128626e-05}. Best is trial 290 with value: 0.7550968857718456.\n",
      "[I 2024-11-28 17:02:17,800] Trial 300 finished with value: 0.7550819246507581 and parameters: {'C': 3.655629077908751, 'epsilon': 0.42356645449373126, 'degree': 71, 'gamma': 0.016681200690917455, 'coef0': 0.0329978374336937, 'tol': 1.4063970108397938e-05}. Best is trial 290 with value: 0.7550968857718456.\n",
      "[I 2024-11-28 17:06:39,634] Trial 301 finished with value: 0.7550831316571538 and parameters: {'C': 3.6465576521893133, 'epsilon': 0.42303913114399966, 'degree': 70, 'gamma': 0.016662447090220318, 'coef0': 0.03297747580580183, 'tol': 1.4110507582214365e-05}. Best is trial 290 with value: 0.7550968857718456.\n",
      "[I 2024-11-28 17:10:58,968] Trial 302 finished with value: 0.755082534538596 and parameters: {'C': 3.6564341773844085, 'epsilon': 0.4237265704451349, 'degree': 69, 'gamma': 0.016665151261205297, 'coef0': 0.03306153433715866, 'tol': 1.4053660190926366e-05}. Best is trial 290 with value: 0.7550968857718456.\n",
      "[I 2024-11-28 17:15:16,808] Trial 303 finished with value: 0.7550742277933407 and parameters: {'C': 3.6483909747152046, 'epsilon': 0.42418937879813295, 'degree': 70, 'gamma': 0.016709318035328807, 'coef0': 0.032978450006378335, 'tol': 1.4042027927390612e-05}. Best is trial 290 with value: 0.7550968857718456.\n",
      "[I 2024-11-28 17:20:15,730] Trial 304 finished with value: 0.755082299769249 and parameters: {'C': 3.6574166991183152, 'epsilon': 0.42369093569189764, 'degree': 70, 'gamma': 0.016673788407488798, 'coef0': 0.03300200740097166, 'tol': 1.4091985959183048e-05}. Best is trial 290 with value: 0.7550968857718456.\n",
      "[I 2024-11-28 17:24:07,945] Trial 305 finished with value: 0.7550859867627782 and parameters: {'C': 3.659813762324045, 'epsilon': 0.4234585551875417, 'degree': 70, 'gamma': 0.01664803698386224, 'coef0': 0.03300316740030339, 'tol': 1.4028530340615226e-05}. Best is trial 290 with value: 0.7550968857718456.\n",
      "[I 2024-11-28 17:27:57,053] Trial 306 finished with value: 0.7550848082729287 and parameters: {'C': 3.656765945857746, 'epsilon': 0.4228959470257348, 'degree': 70, 'gamma': 0.016684978587551184, 'coef0': 0.03301974420450946, 'tol': 1.4116346452933731e-05}. Best is trial 290 with value: 0.7550968857718456.\n",
      "[I 2024-11-28 17:31:49,683] Trial 307 finished with value: 0.7550856303510003 and parameters: {'C': 3.659171156839597, 'epsilon': 0.42310745931328736, 'degree': 70, 'gamma': 0.016668797935540425, 'coef0': 0.0330089724245861, 'tol': 1.3974786889332088e-05}. Best is trial 290 with value: 0.7550968857718456.\n",
      "[I 2024-11-28 17:35:39,161] Trial 308 finished with value: 0.7550840415280888 and parameters: {'C': 3.6602294160370366, 'epsilon': 0.42345470273040486, 'degree': 71, 'gamma': 0.016676639767030127, 'coef0': 0.03299866429595371, 'tol': 1.4116612056206232e-05}. Best is trial 290 with value: 0.7550968857718456.\n",
      "[I 2024-11-28 17:39:39,228] Trial 309 finished with value: 0.7550810102393849 and parameters: {'C': 3.6590123389404954, 'epsilon': 0.4237084397544626, 'degree': 71, 'gamma': 0.01669231530223153, 'coef0': 0.03301210610239584, 'tol': 1.4246807636007121e-05}. Best is trial 290 with value: 0.7550968857718456.\n",
      "[I 2024-11-28 17:43:40,447] Trial 310 finished with value: 0.7550857323848515 and parameters: {'C': 3.657831471111877, 'epsilon': 0.42314914407756155, 'degree': 71, 'gamma': 0.016660468745648, 'coef0': 0.03308934889542094, 'tol': 1.422949137332356e-05}. Best is trial 290 with value: 0.7550968857718456.\n",
      "[I 2024-11-28 17:47:36,947] Trial 311 finished with value: 0.7550884388987431 and parameters: {'C': 3.660623141045368, 'epsilon': 0.42316825195543306, 'degree': 75, 'gamma': 0.016632802435077428, 'coef0': 0.0330674449061366, 'tol': 1.422488531446494e-05}. Best is trial 290 with value: 0.7550968857718456.\n",
      "[I 2024-11-28 17:51:35,989] Trial 312 finished with value: 0.7550907472442142 and parameters: {'C': 3.6720765381528673, 'epsilon': 0.42391155009302034, 'degree': 75, 'gamma': 0.0165914704720577, 'coef0': 0.03307512508014689, 'tol': 1.4221014817128007e-05}. Best is trial 290 with value: 0.7550968857718456.\n",
      "[I 2024-11-28 17:55:24,655] Trial 313 finished with value: 0.755094697360839 and parameters: {'C': 3.6666640711308065, 'epsilon': 0.4228342620141757, 'degree': 75, 'gamma': 0.016588788896546563, 'coef0': 0.03309143614618133, 'tol': 1.4272702007539644e-05}. Best is trial 290 with value: 0.7550968857718456.\n",
      "[I 2024-11-28 17:59:17,103] Trial 314 finished with value: 0.7550960027769095 and parameters: {'C': 3.6613608355980665, 'epsilon': 0.4227797143558043, 'degree': 77, 'gamma': 0.01655820093506621, 'coef0': 0.0331070696168612, 'tol': 1.428999574334146e-05}. Best is trial 290 with value: 0.7550968857718456.\n",
      "[I 2024-11-28 18:03:30,379] Trial 315 finished with value: 0.755095975325744 and parameters: {'C': 3.6639876271899134, 'epsilon': 0.4228348315517288, 'degree': 76, 'gamma': 0.016563781452862962, 'coef0': 0.03310946108675294, 'tol': 1.4245924294816876e-05}. Best is trial 290 with value: 0.7550968857718456.\n",
      "[I 2024-11-28 18:07:18,769] Trial 316 finished with value: 0.7550933478590618 and parameters: {'C': 3.663770869896724, 'epsilon': 0.4229718217619946, 'degree': 76, 'gamma': 0.016587655402741368, 'coef0': 0.03312620331853732, 'tol': 1.4305207695986335e-05}. Best is trial 290 with value: 0.7550968857718456.\n",
      "[I 2024-11-28 18:11:14,823] Trial 317 finished with value: 0.75471338556994 and parameters: {'C': 3.665069800911545, 'epsilon': 0.4225307571166138, 'degree': 76, 'gamma': 0.019710637594352882, 'coef0': 0.03309007799130025, 'tol': 1.434840299479543e-05}. Best is trial 290 with value: 0.7550968857718456.\n",
      "[I 2024-11-28 18:15:08,187] Trial 318 finished with value: 0.755098284522467 and parameters: {'C': 3.672411156947273, 'epsilon': 0.42258819973813005, 'degree': 76, 'gamma': 0.016576537491273954, 'coef0': 0.03307801584982174, 'tol': 1.4295263967018409e-05}. Best is trial 318 with value: 0.755098284522467.\n",
      "[I 2024-11-28 18:18:57,094] Trial 319 finished with value: 0.7551001763539803 and parameters: {'C': 3.6715449497134336, 'epsilon': 0.42237295463534436, 'degree': 76, 'gamma': 0.01656150786264266, 'coef0': 0.03309807462405618, 'tol': 1.4324686858799458e-05}. Best is trial 319 with value: 0.7551001763539803.\n",
      "[I 2024-11-28 18:22:47,897] Trial 320 finished with value: 0.7550843020366361 and parameters: {'C': 3.6694724953029767, 'epsilon': 0.42272847621836973, 'degree': 78, 'gamma': 0.01674228821730601, 'coef0': 0.03309854876070745, 'tol': 1.4420409365274722e-05}. Best is trial 319 with value: 0.7551001763539803.\n",
      "[I 2024-11-28 18:26:56,612] Trial 321 finished with value: 0.7551031627077066 and parameters: {'C': 3.682161654703689, 'epsilon': 0.4226346375539266, 'degree': 77, 'gamma': 0.01654162161889832, 'coef0': 0.03311458162983827, 'tol': 1.4300969525460598e-05}. Best is trial 321 with value: 0.7551031627077066.\n",
      "[I 2024-11-28 18:30:50,247] Trial 322 finished with value: 0.755103143186606 and parameters: {'C': 3.679196010442164, 'epsilon': 0.4227064110976114, 'degree': 78, 'gamma': 0.016526859345269464, 'coef0': 0.033114690923359114, 'tol': 1.4284863906156685e-05}. Best is trial 321 with value: 0.7551031627077066.\n",
      "[I 2024-11-28 18:34:49,085] Trial 323 finished with value: 0.7551042323794229 and parameters: {'C': 3.672757189750335, 'epsilon': 0.4224174364002823, 'degree': 77, 'gamma': 0.016510133975129508, 'coef0': 0.033085487301658174, 'tol': 1.4283364051959289e-05}. Best is trial 323 with value: 0.7551042323794229.\n",
      "[I 2024-11-28 18:38:44,007] Trial 324 finished with value: 0.7551036321419854 and parameters: {'C': 3.6777303884026105, 'epsilon': 0.4224273126207047, 'degree': 78, 'gamma': 0.016534101373144604, 'coef0': 0.03313523056281722, 'tol': 1.4290309291676159e-05}. Best is trial 323 with value: 0.7551042323794229.\n",
      "[I 2024-11-28 18:42:36,491] Trial 325 finished with value: 0.7551044756099635 and parameters: {'C': 3.6799102291229433, 'epsilon': 0.4223672555813418, 'degree': 78, 'gamma': 0.016533970458680023, 'coef0': 0.0331150871485373, 'tol': 1.4266551897047913e-05}. Best is trial 325 with value: 0.7551044756099635.\n",
      "[I 2024-11-28 18:46:34,827] Trial 326 finished with value: 0.7550828105409633 and parameters: {'C': 3.6783428326875125, 'epsilon': 0.42660940447118184, 'degree': 79, 'gamma': 0.016528273415894867, 'coef0': 0.03312665901584671, 'tol': 1.4373251063148028e-05}. Best is trial 325 with value: 0.7551044756099635.\n",
      "[I 2024-11-28 18:50:11,177] Trial 327 finished with value: 0.7550842591271906 and parameters: {'C': 3.679294003384643, 'epsilon': 0.4264554352642083, 'degree': 79, 'gamma': 0.016523194759806983, 'coef0': 0.03313411934516949, 'tol': 1.4448077215864578e-05}. Best is trial 325 with value: 0.7551044756099635.\n"
     ]
    }
   ],
   "source": [
    "# OPTUNA\n",
    "\n",
    "import optuna\n",
    "from sklearn.discriminant_analysis import StandardScaler\n",
    "from sklearn.pipeline import make_pipeline\n",
    "from sklearn.svm import SVR\n",
    "\n",
    "\n",
    "def objective(trial):\n",
    "    # C=1.0, epsilon=0.2, kernel='rbf'\n",
    "    svr_params = {        \n",
    "        \"C\": trial.suggest_float(\"C\", 3.2, 3.8),\n",
    "        \"epsilon\": trial.suggest_float(\"epsilon\", 0.35, 0.45),\n",
    "        \"kernel\": 'rbf',\n",
    "        \"degree\": trial.suggest_int(\"degree\", 45, 160),\n",
    "        \"gamma\": trial.suggest_float(\"gamma\", 0.014, 0.020),\n",
    "        \"coef0\": trial.suggest_float(\"coef0\", 0.032, 0.038),\n",
    "        #\"shrinking\": trial.suggest_categorical(\"shrinking\", [True, False]),\n",
    "        \"tol\": trial.suggest_float(\"tol\", 0.5e-5, 1.5e-5),\n",
    "        #\"cache_size\": 200,\n",
    "        #\"verbose\": False,\n",
    "        #\"max_iter\": -1,\n",
    "    }\n",
    "\n",
    "    approved_transformations = [\n",
    "        ('AtomFraction', 'cube'),\n",
    "        ('GroupDensity_CarboxylicAcid', 'sqrt'),\n",
    "        ('ConfigurationalComplexity', 'yeojohnson'),\n",
    "        ('ShapeCompactness', 'log'),\n",
    "        ('VolatilityIndex', 'reciprocal'),\n",
    "        ('FlexibilityRatio', 'sqrt'),\n",
    "        ('PolarityIndex', 'sqrt'),\n",
    "        ('NumOfConfUsed', 'boxcox'),\n",
    "        ('DegreeOfUnsaturation', 'yeojohnson'),\n",
    "        ('Hydrophobicity', 'yeojohnson'),\n",
    "        ('HydrogenBondPotential', 'none'),\n",
    "        ('HBondDensity', 'none'),\n",
    "        ('SymmetryIndex', 'sqrt'),\n",
    "        ('NumOfConf', 'sqrt'),\n",
    "        ('NumOfC', 'cube'),\n",
    "        ('NumOfO', 'sqrt'),\n",
    "\n",
    "    ]\n",
    "    included = ['AtomFraction', 'GroupDensity_CarboxylicAcid', 'ConfigurationalComplexity', 'carbonylperoxynitrate_Indicator', 'PolarityIndex', 'parentspecies_apin', 'aldehyde_Indicator', 'peroxide_Indicator', 'ShapeCompactness', 'FlexibilityRatio', 'VolatilityIndex', 'PolarGroupCount', 'HBondDensity', 'HydrogenBondPotential', 'nitro_Indicator', 'ester_Indicator', 'parentspecies_toluene', 'DegreeOfUnsaturation', 'Hydrophobicity', 'ketone_Indicator', 'nitroester_Indicator', 'hydroxyl (alkyl)', 'carbonylperoxyacid', 'NumOfConfUsed', 'aldehyde', 'SymmetryIndex', 'NumOfConf', 'NumOfC', 'nitro', 'C=C (non-aromatic)', 'C=C (non-aromatic)_Indicator', 'nitrate', 'carbonylperoxyacid_Indicator', 'hydroperoxide_Indicator', 'nitroester', 'carboxylic acid_Indicator', 'aromatic hydroxyl_Indicator', 'NumOfO', 'ether (alicyclic)_Indicator']\n",
    "    X_train_sel = X_train_gbr[included]\n",
    "    X_test_sel = X_test_gbr[included]\n",
    "\n",
    "    X_train_sel = apply_approved_transformations(X_train_sel, approved_transformations)\n",
    "    X_test_sel = apply_approved_transformations(X_test_sel, approved_transformations)\n",
    "\n",
    "    model = make_pipeline(StandardScaler(), SVR(**svr_params))\n",
    "    score = cross_val_score(model, X_train_sel, y_train, cv=5, scoring='r2').mean()\n",
    "    return score\n",
    "\n",
    "study_name = \"group-190-667f\"\n",
    "storage = \"sqlite:///optuna_190.sqlite3\"\n",
    "\n",
    "study = optuna.create_study(\n",
    "    direction=\"maximize\",\n",
    "    #sampler=optuna.samplers.TPESampler(seed=190),\n",
    "    study_name=study_name,\n",
    "    storage=storage,\n",
    "    load_if_exists=True\n",
    ")\n",
    "\n",
    "study.optimize(objective, n_trials=100)\n",
    "\n",
    "loaded_study = optuna.load_study(study_name=study_name, storage=storage)\n",
    "\n",
    "print(f\"The best score: {loaded_study.best_value}\")\n",
    "print(f\"The best hyperparameter combination: {loaded_study.best_params}\")\n",
    "\n",
    "# [I 2024-11-28 03:56:55,052] Trial 162 finished with value: 0.7550233244230112 and parameters: {'C': 3.3889499180212046, 'epsilon': 0.3949724292326939, 'gamma': 0.01629368746690572, 'coef0': 0.035253379505719544}. Best is trial 162 with value: 0.7550233244230112.\n",
    "# [I 2024-11-28 10:28:52,385] Trial 211 finished with value: 0.7550375967452467 and parameters: {'C': 3.495788287556519, 'epsilon': 0.4100394880570758, 'gamma': 0.017128803431606398, 'coef0': 0.033820308817272056, 'tol': 1.5237910149381403e-05}. Best is trial 211 with value: 0.7550375967452467.\n",
    "# [I 2024-11-28 10:51:24,245] Trial 214 finished with value: 0.7550381054851701 and parameters: {'C': 3.5008365564570987, 'epsilon': 0.4102253260252876, 'gamma': 0.017129461016578463, 'coef0': 0.03382417774707513, 'tol': 1.2799003456300463e-05}. Best is trial 214 with value: 0.7550381054851701.\n",
    "# [I 2024-11-28 11:57:47,695] Trial 230 finished with value: 0.7550386104917828 and parameters: {'C': 3.525966730359343, 'epsilon': 0.4161806381425711, 'degree': 50, 'gamma': 0.017044909846706827, 'coef0': 0.03355524800380342, 'tol': 1.4992408322713575e-05}. Best is trial 230 with value: 0.7550386104917828.\n",
    "# Trial 245 finished with value: 0.755060795916482 and parameters: {'C': 3.562419636487071, 'epsilon': 0.41491928287107616, 'degree': 49, 'gamma': 0.016956921892014226, 'coef0': 0.033605859008015805, 'tol': 1.2410612671358723e-05}. Best is trial 245 with value: 0.755060795916482.\n",
    "# Trial 266 finished with value: 0.7550800203964114 and parameters: {'C': 3.5932643801855946, 'epsilon': 0.4198403843342681, 'degree': 50, 'gamma': 0.016636022497975342, 'coef0': 0.03323365359851923, 'tol': 1.3296053068995646e-05}. Best is trial 266 with value: 0.7550800203964114.\n",
    "#Trial 325 finished with value: 0.7551044756099635 and parameters: {'C': 3.6799102291229433, 'epsilon': 0.4223672555813418, 'degree': 78, 'gamma': 0.016533970458680023, 'coef0': 0.0331150871485373, 'tol': 1.4266551897047913e-05}. Best is trial 325 with value: 0.7551044756099635."
   ]
  },
  {
   "cell_type": "code",
   "execution_count": null,
   "metadata": {},
   "outputs": [
    {
     "data": {
      "text/plain": [
       "np.float64(0.7494715461746723)"
      ]
     },
     "execution_count": 630,
     "metadata": {},
     "output_type": "execute_result"
    }
   ],
   "source": [
    "from sklearn.discriminant_analysis import StandardScaler\n",
    "from sklearn.pipeline import make_pipeline\n",
    "from sklearn.svm import SVR\n",
    "\n",
    "#C': 5268845153126, 'epsilon': 0.16816582344166467, 'degree': 33, 'coef0': 0.03616869628689967\n",
    "# 'C': , 'epsilon': 0.20653558438803182, 'degree': 60, 'coef0': 0.03747367910141413}. Best is trial 15 with value: 0.7499176794994977.\n",
    "# use apply_approved_transformations to apply transformations\n",
    "approved_transformations = [\n",
    "    ('AtomFraction', 'reciprocal'),\n",
    "    ('FlexibilityRatio', 'log'),\n",
    "    ('Hydrophobicity', 'reciprocal'),\n",
    "    ('PolarGroupCount', 'sqrt'),\n",
    "    ('VolatilityIndex', 'boxcox'),\n",
    "    ('HBondDensity', 'square'),\n",
    "    ('DegreeOfUnsaturation', 'yeojohnson'),\n",
    "    ('GroupDensity_CarboxylicAcid', 'yeojohnson'),\n",
    "    ('carbonylperoxynitrate_Indicator', 'reciprocal'),\n",
    "    ('PolarityIndex', 'yeojohnson'),\n",
    "    ('carbonylperoxyacid', 'log'),\n",
    "    ]\n",
    "included = ['AtomFraction', 'GroupDensity_CarboxylicAcid', 'ConfigurationalComplexity', 'carbonylperoxynitrate_Indicator', 'PolarityIndex', 'parentspecies_apin', 'aldehyde_Indicator', 'peroxide_Indicator', 'ShapeCompactness', 'FlexibilityRatio', 'VolatilityIndex', 'PolarGroupCount', 'HBondDensity', 'HydrogenBondPotential', 'nitro_Indicator', 'ester_Indicator', 'parentspecies_toluene', 'DegreeOfUnsaturation', 'Hydrophobicity', 'hydroxyl (alkyl)_Indicator', 'ketone_Indicator', 'nitroester_Indicator', 'hydroxyl (alkyl)', 'carbonylperoxyacid', 'NumOfConfUsed', 'aldehyde', 'SymmetryIndex', 'NumOfConf', 'NumOfC', 'nitro', 'C=C (non-aromatic)', 'C=C (non-aromatic)_Indicator', 'nitrate', 'carbonylperoxyacid_Indicator', 'hydroperoxide_Indicator', 'nitroester', 'carboxylic acid_Indicator', 'aromatic hydroxyl_Indicator', 'NumOfO', 'ether (alicyclic)_Indicator']\n",
    "X_train_sel = X_train_gbr[included]\n",
    "X_test_sel = X_test_gbr[included]\n",
    "\n",
    "X_train_sel = apply_approved_transformations(X_train_sel, approved_transformations)\n",
    "X_test_sel = apply_approved_transformations(X_test_sel, approved_transformations)\n",
    "model = make_pipeline(StandardScaler(), SVR(C=3.3, epsilon=0.205, kernel='rbf'))\n",
    "model.fit(X_train_sel, y_train)\n",
    "\n",
    "evaluate_model(model, X_train_sel, y_train)\n",
    "# degree=100 np.float64(0.7505216318650372)\n",
    "# np.float64(0.7505328719492336)\n",
    "#model = make_pipeline(StandardScaler(), SVR(C=3.30, epsilon=0.20653558438803182, kernel='rbf', degree=100, coef0=0.03747367910141413))\n",
    "# np.float64(0.7505287163472338)\n",
    "# model = make_pipeline(StandardScaler(), SVR(C=3, epsilon=0.205, kernel='rbf'))\n",
    "\n"
   ]
  },
  {
   "cell_type": "markdown",
   "metadata": {
    "nteract": {
     "transient": {
      "deleting": false
     }
    }
   },
   "source": [
    "## Ennustuksen tallentaminen"
   ]
  },
  {
   "cell_type": "code",
   "execution_count": null,
   "metadata": {
    "gather": {
     "logged": 1732046039632
    },
    "jupyter": {
     "outputs_hidden": false,
     "source_hidden": false
    },
    "nteract": {
     "transient": {
      "deleting": false
     }
    }
   },
   "outputs": [],
   "source": [
    "df_test['log_pSat_Pa'] = model.predict(X_test_gbr.drop(columns=['log_pSat_Pa'], axis=1))\n",
    "df_test[['ID', 'log_pSat_Pa']].to_csv('../submission/submission.csv', index=False)"
   ]
  }
 ],
 "metadata": {
  "kernel_info": {
   "name": "python310-sdkv2"
  },
  "kernelspec": {
   "display_name": "Python 3",
   "language": "python",
   "name": "python3"
  },
  "language_info": {
   "codemirror_mode": {
    "name": "ipython",
    "version": 3
   },
   "file_extension": ".py",
   "mimetype": "text/x-python",
   "name": "python",
   "nbconvert_exporter": "python",
   "pygments_lexer": "ipython3",
   "version": "3.12.7"
  },
  "microsoft": {
   "host": {
    "AzureML": {
     "notebookHasBeenCompleted": true
    }
   },
   "ms_spell_check": {
    "ms_spell_check_language": "en"
   }
  },
  "nteract": {
   "version": "nteract-front-end@1.0.0"
  }
 },
 "nbformat": 4,
 "nbformat_minor": 2
}
