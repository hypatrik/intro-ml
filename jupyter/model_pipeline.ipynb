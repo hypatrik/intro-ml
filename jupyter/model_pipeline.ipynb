{
 "cells": [
  {
   "cell_type": "markdown",
   "metadata": {
    "nteract": {
     "transient": {
      "deleting": false
     }
    }
   },
   "source": [
    "# Ryhmä-190"
   ]
  },
  {
   "cell_type": "markdown",
   "metadata": {
    "nteract": {
     "transient": {
      "deleting": false
     }
    }
   },
   "source": [
    "## Python-paketit"
   ]
  },
  {
   "cell_type": "code",
   "execution_count": 37,
   "metadata": {
    "editable": false,
    "gather": {
     "logged": 1732048704411
    },
    "jupyter": {
     "outputs_hidden": true,
     "source_hidden": false
    },
    "nteract": {
     "transient": {
      "deleting": false
     }
    },
    "run_control": {
     "frozen": true
    }
   },
   "outputs": [],
   "source": [
    "# Jupyter-notebookissa voi asentaa paketit samaan tapaan kuin komentoriviltä.\n",
    "# Tähän käytetään \"magic commandeja\", jotka alkavat %-merkillä.\n",
    "# Näiden asentamisessa voi mennä muutama minuutti, mutta sen jälkeen niitä ei tarvitse asentaa uudestaan. \n",
    "#%pip install seaborn\n",
    "#%pip install mlflow azureml azureml-core azureml-mlflow azure-identity"
   ]
  },
  {
   "cell_type": "code",
   "execution_count": null,
   "metadata": {
    "gather": {
     "logged": 1732052063268
    },
    "jupyter": {
     "outputs_hidden": false,
     "source_hidden": false
    },
    "nteract": {
     "transient": {
      "deleting": false
     }
    }
   },
   "outputs": [],
   "source": [
    "import os\n",
    "import pandas as pd\n",
    "import numpy as np\n",
    "import seaborn as sns\n",
    "import matplotlib.pyplot as plt\n",
    "from sklearn.dummy import DummyRegressor\n",
    "from sklearn.linear_model import LinearRegression\n",
    "from sklearn.ensemble import RandomForestRegressor\n",
    "from sklearn.ensemble import GradientBoostingRegressor\n",
    "from sklearn.metrics import mean_squared_error, make_scorer, r2_score\n",
    "from sklearn.model_selection import KFold, cross_val_score\n",
    "#from azureml.core import Workspace\n",
    "#from azure.identity import InteractiveBrowserCredential\n",
    "#import mlflow"
   ]
  },
  {
   "cell_type": "markdown",
   "metadata": {
    "nteract": {
     "transient": {
      "deleting": false
     }
    }
   },
   "source": [
    "## MLFlow-seuranta (ei tällä hetkellä käytössä)\n",
    "\n",
    "Tarkistetaan ajoympäristö (Azure vai oma kone) ja autentikoidutaan sen mukaan."
   ]
  },
  {
   "cell_type": "code",
   "execution_count": 39,
   "metadata": {},
   "outputs": [],
   "source": [
    "def is_running_in_azure():\n",
    "    return 'AZUREML_RUN_ID' in os.environ\n",
    "\n",
    "def get_workspace():\n",
    "    if is_running_in_azure():\n",
    "        return Workspace.from_config()\n",
    "    else:\n",
    "        return Workspace(subscription_id='1c0e26b6-0fcb-4b6d-911c-2a0836275ea4',\n",
    "                         resource_group='rg-AML',\n",
    "                         workspace_name='aml-data_science_masters')\n",
    "#ws = get_workspace()"
   ]
  },
  {
   "cell_type": "code",
   "execution_count": 40,
   "metadata": {
    "gather": {
     "logged": 1732052187541
    },
    "jupyter": {
     "outputs_hidden": false,
     "source_hidden": false
    },
    "nteract": {
     "transient": {
      "deleting": false
     }
    }
   },
   "outputs": [],
   "source": [
    "#mlflow.set_tracking_uri(ws.get_mlflow_tracking_uri())\n",
    "#experiment_name = 'group-190-tracking'\n",
    "#mlflow.set_experiment(experiment_name)\n",
    "#mlflow.autolog()"
   ]
  },
  {
   "cell_type": "code",
   "execution_count": 73,
   "metadata": {},
   "outputs": [],
   "source": [
    "def evaluate_model(model, X_train, y_train, random_state=42):\n",
    "    ### Train loss\n",
    "    y_train_pred = model.predict(X_train)\n",
    "    train_loss = mean_squared_error(y_train, y_train_pred)\n",
    "\n",
    "    ### 5-fold cross-validation\n",
    "    kf = KFold(n_splits=5, shuffle=True, random_state=random_state)\n",
    "    mse_scorer = make_scorer(mean_squared_error)\n",
    "    cv_scores = cross_val_score(model, X_train, y_train, cv=kf, scoring=mse_scorer)\n",
    "    cv_loss_mean = cv_scores.mean()\n",
    "\n",
    "    r2_train = r2_score(y_train, y_train_pred)\n",
    "    r2_cv = cross_val_score(model, X_train, y_train, cv=kf, scoring='r2').mean()\n",
    "\n",
    "    print('Train loss:', train_loss)\n",
    "    print('CV loss mean:', cv_loss_mean)\n",
    "    print('Train R^2:', r2_train)\n",
    "    print('CV R^2:', r2_cv)\n",
    "\n",
    "def transform_gbr(df):\n",
    "    X_train_gbr = df.copy()\n",
    "    df = df.replace([np.inf, -np.inf], np.nan).fillna(0)\n",
    "\n",
    "    # Add meaningful features\n",
    "    X_train_gbr['AtomFraction'] = (X_train_gbr['NumOfC'] + X_train_gbr['NumOfO'] + X_train_gbr['NumOfN']) / X_train_gbr['NumOfAtoms']\n",
    "    X_train_gbr['Polarity'] = X_train_gbr['NumHBondDonors'] / X_train_gbr['MW']\n",
    "    X_train_gbr['HBondDensity'] = df['NumHBondDonors'] / X_train_gbr['NumOfAtoms']\n",
    "    X_train_gbr['GroupDensity_CarboxylicAcid'] = X_train_gbr['carboxylic acid'] / X_train_gbr['MW']\n",
    "    X_train_gbr['Unsaturation'] = X_train_gbr['C=C (non-aromatic)'] + X_train_gbr['C=C-C=O in non-aromatic ring']\n",
    "    X_train_gbr['ConfigurationalComplexity'] = X_train_gbr['NumOfConf'] / X_train_gbr['MW']\n",
    "    # X_train_gbr['NumOfConf'] = np.log(X_train_gbr['NumOfConf'])\n",
    "    # X_train_gbr['NumOfConfUsed'] = (X_train_gbr['NumOfConfUsed'] == 40).astype(int)\n",
    "    drop_cols = [\n",
    "        'NumOfC',\n",
    "        'NumOfO',\n",
    "        'NumOfN',\n",
    "        'NumOfAtoms',\n",
    "        'NumHBondDonors',\n",
    "        'carboxylic',\n",
    "        'MW',\n",
    "        'C=C-C=O in non-aromatic ring',\n",
    "        'C=C (non-aromatic)',\n",
    "        'NumOfConf',\n",
    "        'NumOfConfUsed',\n",
    "    ]\n",
    "    X_train_gbr.drop(columns=drop_cols, axis=1)\n",
    "\n",
    "    return X_train_gbr"
   ]
  },
  {
   "cell_type": "markdown",
   "metadata": {
    "nteract": {
     "transient": {
      "deleting": false
     }
    }
   },
   "source": [
    "## Tietoaineistojen lataaminen"
   ]
  },
  {
   "cell_type": "code",
   "execution_count": 67,
   "metadata": {
    "gather": {
     "logged": 1732052424041
    },
    "jupyter": {
     "outputs_hidden": false,
     "source_hidden": false
    },
    "nteract": {
     "transient": {
      "deleting": false
     }
    }
   },
   "outputs": [],
   "source": [
    "df_train = pd.read_csv('../data/train.csv', encoding='utf-8', header=0)\n",
    "df_test = pd.read_csv('../data/test.csv', encoding='utf-8', header=0)"
   ]
  },
  {
   "cell_type": "markdown",
   "metadata": {
    "nteract": {
     "transient": {
      "deleting": false
     }
    }
   },
   "source": [
    "## Esiprosessointi"
   ]
  },
  {
   "cell_type": "code",
   "execution_count": 69,
   "metadata": {
    "gather": {
     "logged": 1732052442780
    },
    "jupyter": {
     "outputs_hidden": false,
     "source_hidden": false
    },
    "nteract": {
     "transient": {
      "deleting": false
     }
    }
   },
   "outputs": [],
   "source": [
    "df_train['parentspecies'] = df_train['parentspecies'].astype('category')\n",
    "df_train['parentspecies'] = df_train['parentspecies'].cat.codes\n",
    "df_test['parentspecies'] = df_test['parentspecies'].astype('category')\n",
    "df_test['parentspecies'] = df_test['parentspecies'].cat.codes"
   ]
  },
  {
   "cell_type": "markdown",
   "metadata": {
    "nteract": {
     "transient": {
      "deleting": false
     }
    }
   },
   "source": [
    "## Mallien kouluttaminen"
   ]
  },
  {
   "cell_type": "code",
   "execution_count": 59,
   "metadata": {
    "gather": {
     "logged": 1732052445215
    },
    "jupyter": {
     "outputs_hidden": false,
     "source_hidden": false
    },
    "nteract": {
     "transient": {
      "deleting": false
     }
    }
   },
   "outputs": [
    {
     "data": {
      "text/html": [
       "<div>\n",
       "<style scoped>\n",
       "    .dataframe tbody tr th:only-of-type {\n",
       "        vertical-align: middle;\n",
       "    }\n",
       "\n",
       "    .dataframe tbody tr th {\n",
       "        vertical-align: top;\n",
       "    }\n",
       "\n",
       "    .dataframe thead th {\n",
       "        text-align: right;\n",
       "    }\n",
       "</style>\n",
       "<table border=\"1\" class=\"dataframe\">\n",
       "  <thead>\n",
       "    <tr style=\"text-align: right;\">\n",
       "      <th></th>\n",
       "      <th>MW</th>\n",
       "      <th>NumOfAtoms</th>\n",
       "      <th>NumOfC</th>\n",
       "      <th>NumOfO</th>\n",
       "      <th>NumOfN</th>\n",
       "      <th>NumHBondDonors</th>\n",
       "      <th>NumOfConf</th>\n",
       "      <th>NumOfConfUsed</th>\n",
       "      <th>parentspecies</th>\n",
       "      <th>C=C (non-aromatic)</th>\n",
       "      <th>...</th>\n",
       "      <th>hydroperoxide</th>\n",
       "      <th>carbonylperoxyacid</th>\n",
       "      <th>nitroester</th>\n",
       "      <th>log_pSat_Pa</th>\n",
       "      <th>AtomFraction</th>\n",
       "      <th>Polarity</th>\n",
       "      <th>HBondDensity</th>\n",
       "      <th>GroupDensity_CarboxylicAcid</th>\n",
       "      <th>Unsaturation</th>\n",
       "      <th>ConfigurationalComplexity</th>\n",
       "    </tr>\n",
       "  </thead>\n",
       "  <tbody>\n",
       "    <tr>\n",
       "      <th>0</th>\n",
       "      <td>327.966253</td>\n",
       "      <td>26</td>\n",
       "      <td>6</td>\n",
       "      <td>14</td>\n",
       "      <td>2</td>\n",
       "      <td>2</td>\n",
       "      <td>5.579730</td>\n",
       "      <td>39.0</td>\n",
       "      <td>5</td>\n",
       "      <td>0</td>\n",
       "      <td>...</td>\n",
       "      <td>0</td>\n",
       "      <td>1</td>\n",
       "      <td>0</td>\n",
       "      <td>-5.747870</td>\n",
       "      <td>0.846154</td>\n",
       "      <td>0.006098</td>\n",
       "      <td>0.076923</td>\n",
       "      <td>0.003049</td>\n",
       "      <td>0</td>\n",
       "      <td>0.808010</td>\n",
       "    </tr>\n",
       "    <tr>\n",
       "      <th>1</th>\n",
       "      <td>361.971732</td>\n",
       "      <td>30</td>\n",
       "      <td>6</td>\n",
       "      <td>16</td>\n",
       "      <td>2</td>\n",
       "      <td>2</td>\n",
       "      <td>5.683580</td>\n",
       "      <td>40.0</td>\n",
       "      <td>5</td>\n",
       "      <td>0</td>\n",
       "      <td>...</td>\n",
       "      <td>2</td>\n",
       "      <td>0</td>\n",
       "      <td>0</td>\n",
       "      <td>-3.922929</td>\n",
       "      <td>0.800000</td>\n",
       "      <td>0.005525</td>\n",
       "      <td>0.066667</td>\n",
       "      <td>0.000000</td>\n",
       "      <td>0</td>\n",
       "      <td>0.812218</td>\n",
       "    </tr>\n",
       "    <tr>\n",
       "      <th>2</th>\n",
       "      <td>237.012081</td>\n",
       "      <td>23</td>\n",
       "      <td>6</td>\n",
       "      <td>9</td>\n",
       "      <td>1</td>\n",
       "      <td>2</td>\n",
       "      <td>4.234107</td>\n",
       "      <td>12.0</td>\n",
       "      <td>5</td>\n",
       "      <td>0</td>\n",
       "      <td>...</td>\n",
       "      <td>0</td>\n",
       "      <td>1</td>\n",
       "      <td>0</td>\n",
       "      <td>-3.958431</td>\n",
       "      <td>0.695652</td>\n",
       "      <td>0.008438</td>\n",
       "      <td>0.086957</td>\n",
       "      <td>0.000000</td>\n",
       "      <td>0</td>\n",
       "      <td>0.291124</td>\n",
       "    </tr>\n",
       "    <tr>\n",
       "      <th>3</th>\n",
       "      <td>342.054674</td>\n",
       "      <td>37</td>\n",
       "      <td>9</td>\n",
       "      <td>12</td>\n",
       "      <td>2</td>\n",
       "      <td>2</td>\n",
       "      <td>5.605802</td>\n",
       "      <td>16.0</td>\n",
       "      <td>0</td>\n",
       "      <td>0</td>\n",
       "      <td>...</td>\n",
       "      <td>1</td>\n",
       "      <td>1</td>\n",
       "      <td>0</td>\n",
       "      <td>-6.245400</td>\n",
       "      <td>0.621622</td>\n",
       "      <td>0.005847</td>\n",
       "      <td>0.054054</td>\n",
       "      <td>0.000000</td>\n",
       "      <td>0</td>\n",
       "      <td>0.795195</td>\n",
       "    </tr>\n",
       "    <tr>\n",
       "      <th>4</th>\n",
       "      <td>311.971338</td>\n",
       "      <td>25</td>\n",
       "      <td>6</td>\n",
       "      <td>13</td>\n",
       "      <td>2</td>\n",
       "      <td>1</td>\n",
       "      <td>4.369448</td>\n",
       "      <td>34.0</td>\n",
       "      <td>5</td>\n",
       "      <td>0</td>\n",
       "      <td>...</td>\n",
       "      <td>0</td>\n",
       "      <td>0</td>\n",
       "      <td>0</td>\n",
       "      <td>-1.041082</td>\n",
       "      <td>0.840000</td>\n",
       "      <td>0.003205</td>\n",
       "      <td>0.040000</td>\n",
       "      <td>0.000000</td>\n",
       "      <td>0</td>\n",
       "      <td>0.253228</td>\n",
       "    </tr>\n",
       "  </tbody>\n",
       "</table>\n",
       "<p>5 rows × 32 columns</p>\n",
       "</div>"
      ],
      "text/plain": [
       "           MW  NumOfAtoms  NumOfC  NumOfO  NumOfN  NumHBondDonors  NumOfConf  \\\n",
       "0  327.966253          26       6      14       2               2   5.579730   \n",
       "1  361.971732          30       6      16       2               2   5.683580   \n",
       "2  237.012081          23       6       9       1               2   4.234107   \n",
       "3  342.054674          37       9      12       2               2   5.605802   \n",
       "4  311.971338          25       6      13       2               1   4.369448   \n",
       "\n",
       "   NumOfConfUsed  parentspecies  C=C (non-aromatic)  ...  hydroperoxide  \\\n",
       "0           39.0              5                   0  ...              0   \n",
       "1           40.0              5                   0  ...              2   \n",
       "2           12.0              5                   0  ...              0   \n",
       "3           16.0              0                   0  ...              1   \n",
       "4           34.0              5                   0  ...              0   \n",
       "\n",
       "   carbonylperoxyacid  nitroester  log_pSat_Pa  AtomFraction  Polarity  \\\n",
       "0                   1           0    -5.747870      0.846154  0.006098   \n",
       "1                   0           0    -3.922929      0.800000  0.005525   \n",
       "2                   1           0    -3.958431      0.695652  0.008438   \n",
       "3                   1           0    -6.245400      0.621622  0.005847   \n",
       "4                   0           0    -1.041082      0.840000  0.003205   \n",
       "\n",
       "   HBondDensity  GroupDensity_CarboxylicAcid  Unsaturation  \\\n",
       "0      0.076923                     0.003049             0   \n",
       "1      0.066667                     0.000000             0   \n",
       "2      0.086957                     0.000000             0   \n",
       "3      0.054054                     0.000000             0   \n",
       "4      0.040000                     0.000000             0   \n",
       "\n",
       "   ConfigurationalComplexity  \n",
       "0                   0.808010  \n",
       "1                   0.812218  \n",
       "2                   0.291124  \n",
       "3                   0.795195  \n",
       "4                   0.253228  \n",
       "\n",
       "[5 rows x 32 columns]"
      ]
     },
     "execution_count": 59,
     "metadata": {},
     "output_type": "execute_result"
    }
   ],
   "source": [
    "X_train, y_train = df_train.drop(columns=['log_pSat_Pa', 'ID']), df_train['log_pSat_Pa']\n",
    "X_test = df_test.drop(columns=['ID'])\n",
    "X_train_gbr = transform_gbr(X_train)\n",
    "X_test_gbr = transform_gbr(X_test)\n",
    "X_test_gbr.head()"
   ]
  },
  {
   "cell_type": "markdown",
   "metadata": {
    "nteract": {
     "transient": {
      "deleting": false
     }
    }
   },
   "source": [
    "Erilaisia malleja alla. Kaikki mallit käyttävät samaa nimeä `model`, eli vain viimeisenä koulutettu menee testeihin ja tallentuu.\n",
    "\n",
    "### 1. Dummy"
   ]
  },
  {
   "cell_type": "code",
   "execution_count": 45,
   "metadata": {
    "editable": true,
    "gather": {
     "logged": 1732052459650
    },
    "jupyter": {
     "outputs_hidden": false,
     "source_hidden": false
    },
    "nteract": {
     "transient": {
      "deleting": false
     }
    },
    "run_control": {
     "frozen": false
    }
   },
   "outputs": [],
   "source": [
    "model = DummyRegressor(strategy='mean')\n",
    "model.fit(X_train, y_train)\n",
    "\n",
    "df_test['log_pSat_Pa'] = model.predict(X_test)"
   ]
  },
  {
   "cell_type": "markdown",
   "metadata": {
    "nteract": {
     "transient": {
      "deleting": false
     }
    }
   },
   "source": [
    "### 2. Yksinkertainen regressio"
   ]
  },
  {
   "cell_type": "code",
   "execution_count": null,
   "metadata": {
    "gather": {
     "logged": 1732052467120
    },
    "jupyter": {
     "outputs_hidden": false,
     "source_hidden": false
    },
    "nteract": {
     "transient": {
      "deleting": false
     }
    }
   },
   "outputs": [
    {
     "name": "stdout",
     "output_type": "stream",
     "text": [
      "Train loss: 2.800073513771292\n",
      "CV loss mean: 2.807719632298041\n",
      "Train R^2: 0.7123772224846023\n",
      "CV R^2: 0.7114160415718718\n"
     ]
    }
   ],
   "source": [
    "model = LinearRegression()\n",
    "model.fit(X_train_gbr, y_train)\n",
    "\n",
    "evaluate_model(model, X_train_gbr, y_train)"
   ]
  },
  {
   "cell_type": "markdown",
   "metadata": {
    "nteract": {
     "transient": {
      "deleting": false
     }
    }
   },
   "source": [
    "### 3. Random Forest"
   ]
  },
  {
   "cell_type": "code",
   "execution_count": 61,
   "metadata": {
    "gather": {
     "logged": 1732052550516
    },
    "jupyter": {
     "outputs_hidden": false,
     "source_hidden": false
    },
    "nteract": {
     "transient": {
      "deleting": false
     }
    }
   },
   "outputs": [
    {
     "name": "stdout",
     "output_type": "stream",
     "text": [
      "Train loss: 0.3863467117691719\n",
      "CV loss mean: 2.7737210268490045\n",
      "Train R^2: 0.9603145725365886\n",
      "CV R^2: 0.714920252540877\n"
     ]
    }
   ],
   "source": [
    "model = RandomForestRegressor(random_state=190)\n",
    "model.fit(X_train_gbr, y_train)\n",
    "\n",
    "evaluate_model(model, X_train_gbr, y_train)"
   ]
  },
  {
   "cell_type": "markdown",
   "metadata": {},
   "source": [
    "### 4. Gradient Boosting Regressor"
   ]
  },
  {
   "cell_type": "code",
   "execution_count": null,
   "metadata": {},
   "outputs": [
    {
     "name": "stdout",
     "output_type": "stream",
     "text": [
      "Train loss: 1.4859814893458567\n",
      "CV loss mean: 2.5368206932965776\n",
      "Train R^2: 0.8473603920753945\n",
      "CV R^2: 0.7392494907504896\n"
     ]
    }
   ],
   "source": [
    "gbr_params = {\n",
    "    \"n_estimators\": 100,\n",
    "    \"max_depth\": 6,\n",
    "    \"min_samples_split\": 10,\n",
    "    \"learning_rate\": 0.1,\n",
    "    \"loss\": \"squared_error\",\n",
    "    \"random_state\": 42,\n",
    "    # \"subsample\": 0.6,\n",
    "}\n",
    "    \n",
    "model = GradientBoostingRegressor(**gbr_params)\n",
    "model.fit(X_train_gbr, y_train)\n",
    "\n",
    "evaluate_model(model, X_train_gbr, y_train)\n",
    "\n"
   ]
  },
  {
   "cell_type": "code",
   "execution_count": null,
   "metadata": {},
   "outputs": [
    {
     "ename": "AttributeError",
     "evalue": "'tuple' object has no attribute 'fit'",
     "output_type": "error",
     "traceback": [
      "\u001b[0;31m---------------------------------------------------------------------------\u001b[0m",
      "\u001b[0;31mAttributeError\u001b[0m                            Traceback (most recent call last)",
      "Cell \u001b[0;32mIn[78], line 5\u001b[0m\n\u001b[1;32m      2\u001b[0m \u001b[38;5;28;01mfrom\u001b[39;00m \u001b[38;5;21;01msklearn\u001b[39;00m\u001b[38;5;21;01m.\u001b[39;00m\u001b[38;5;21;01mpipeline\u001b[39;00m \u001b[38;5;28;01mimport\u001b[39;00m make_pipeline\n\u001b[1;32m      4\u001b[0m model \u001b[38;5;241m=\u001b[39m make_pipeline(StandardScaler(), SVR(C\u001b[38;5;241m=\u001b[39m\u001b[38;5;241m1.0\u001b[39m, epsilon\u001b[38;5;241m=\u001b[39m\u001b[38;5;241m0.2\u001b[39m, kernel\u001b[38;5;241m=\u001b[39m\u001b[38;5;124m'\u001b[39m\u001b[38;5;124mrbf\u001b[39m\u001b[38;5;124m'\u001b[39m)),\n\u001b[0;32m----> 5\u001b[0m \u001b[43mmodel\u001b[49m\u001b[38;5;241;43m.\u001b[39;49m\u001b[43mfit\u001b[49m(X_train_gbr, y_train)\n\u001b[1;32m      7\u001b[0m evaluate_model(model, X_train_gbr, y_train)\n",
      "\u001b[0;31mAttributeError\u001b[0m: 'tuple' object has no attribute 'fit'"
     ]
    }
   ],
   "source": [
    "from sklearn.discriminant_analysis import StandardScaler\n",
    "from sklearn.pipeline import make_pipeline\n",
    "from sklearn.svm import SVR\n",
    "\n",
    "model = make_pipeline(StandardScaler(), SVR(C=1.0, epsilon=0.2, kernel='rbf')),\n",
    "model.fit(X_train_gbr, y_train)\n",
    "\n",
    "evaluate_model(model, X_train_gbr, y_train)"
   ]
  },
  {
   "cell_type": "markdown",
   "metadata": {
    "nteract": {
     "transient": {
      "deleting": false
     }
    }
   },
   "source": [
    "## Mallien arviointi"
   ]
  },
  {
   "cell_type": "code",
   "execution_count": 50,
   "metadata": {
    "gather": {
     "logged": 1732045866694
    },
    "jupyter": {
     "outputs_hidden": false,
     "source_hidden": false
    },
    "nteract": {
     "transient": {
      "deleting": false
     }
    }
   },
   "outputs": [
    {
     "ename": "ValueError",
     "evalue": "The feature names should match those that were passed during fit.\nFeature names seen at fit time, yet now missing:\n- AtomFraction\n- ConfigurationalComplexity\n- GroupDensity_CarboxylicAcid\n- HBondDensity\n- Polarity\n- ...\n",
     "output_type": "error",
     "traceback": [
      "\u001b[0;31m---------------------------------------------------------------------------\u001b[0m",
      "\u001b[0;31mValueError\u001b[0m                                Traceback (most recent call last)",
      "Cell \u001b[0;32mIn[50], line 2\u001b[0m\n\u001b[1;32m      1\u001b[0m \u001b[38;5;66;03m### Train loss\u001b[39;00m\n\u001b[0;32m----> 2\u001b[0m y_train_pred \u001b[38;5;241m=\u001b[39m \u001b[43mmodel\u001b[49m\u001b[38;5;241;43m.\u001b[39;49m\u001b[43mpredict\u001b[49m\u001b[43m(\u001b[49m\u001b[43mX_train\u001b[49m\u001b[43m)\u001b[49m\n\u001b[1;32m      3\u001b[0m train_loss \u001b[38;5;241m=\u001b[39m mean_squared_error(y_train, y_train_pred)\n\u001b[1;32m      5\u001b[0m \u001b[38;5;66;03m### 5-fold cross-validation\u001b[39;00m\n",
      "File \u001b[0;32m~/miniforge3/envs/intro_ml/lib/python3.10/site-packages/sklearn/ensemble/_gb.py:2127\u001b[0m, in \u001b[0;36mGradientBoostingRegressor.predict\u001b[0;34m(self, X)\u001b[0m\n\u001b[1;32m   2112\u001b[0m \u001b[38;5;28;01mdef\u001b[39;00m \u001b[38;5;21mpredict\u001b[39m(\u001b[38;5;28mself\u001b[39m, X):\n\u001b[1;32m   2113\u001b[0m \u001b[38;5;250m    \u001b[39m\u001b[38;5;124;03m\"\"\"Predict regression target for X.\u001b[39;00m\n\u001b[1;32m   2114\u001b[0m \n\u001b[1;32m   2115\u001b[0m \u001b[38;5;124;03m    Parameters\u001b[39;00m\n\u001b[0;32m   (...)\u001b[0m\n\u001b[1;32m   2125\u001b[0m \u001b[38;5;124;03m        The predicted values.\u001b[39;00m\n\u001b[1;32m   2126\u001b[0m \u001b[38;5;124;03m    \"\"\"\u001b[39;00m\n\u001b[0;32m-> 2127\u001b[0m     X \u001b[38;5;241m=\u001b[39m \u001b[38;5;28;43mself\u001b[39;49m\u001b[38;5;241;43m.\u001b[39;49m\u001b[43m_validate_data\u001b[49m\u001b[43m(\u001b[49m\n\u001b[1;32m   2128\u001b[0m \u001b[43m        \u001b[49m\u001b[43mX\u001b[49m\u001b[43m,\u001b[49m\u001b[43m \u001b[49m\u001b[43mdtype\u001b[49m\u001b[38;5;241;43m=\u001b[39;49m\u001b[43mDTYPE\u001b[49m\u001b[43m,\u001b[49m\u001b[43m \u001b[49m\u001b[43morder\u001b[49m\u001b[38;5;241;43m=\u001b[39;49m\u001b[38;5;124;43m\"\u001b[39;49m\u001b[38;5;124;43mC\u001b[39;49m\u001b[38;5;124;43m\"\u001b[39;49m\u001b[43m,\u001b[49m\u001b[43m \u001b[49m\u001b[43maccept_sparse\u001b[49m\u001b[38;5;241;43m=\u001b[39;49m\u001b[38;5;124;43m\"\u001b[39;49m\u001b[38;5;124;43mcsr\u001b[39;49m\u001b[38;5;124;43m\"\u001b[39;49m\u001b[43m,\u001b[49m\u001b[43m \u001b[49m\u001b[43mreset\u001b[49m\u001b[38;5;241;43m=\u001b[39;49m\u001b[38;5;28;43;01mFalse\u001b[39;49;00m\n\u001b[1;32m   2129\u001b[0m \u001b[43m    \u001b[49m\u001b[43m)\u001b[49m\n\u001b[1;32m   2130\u001b[0m     \u001b[38;5;66;03m# In regression we can directly return the raw value from the trees.\u001b[39;00m\n\u001b[1;32m   2131\u001b[0m     \u001b[38;5;28;01mreturn\u001b[39;00m \u001b[38;5;28mself\u001b[39m\u001b[38;5;241m.\u001b[39m_raw_predict(X)\u001b[38;5;241m.\u001b[39mravel()\n",
      "File \u001b[0;32m~/miniforge3/envs/intro_ml/lib/python3.10/site-packages/sklearn/base.py:608\u001b[0m, in \u001b[0;36mBaseEstimator._validate_data\u001b[0;34m(self, X, y, reset, validate_separately, cast_to_ndarray, **check_params)\u001b[0m\n\u001b[1;32m    537\u001b[0m \u001b[38;5;28;01mdef\u001b[39;00m \u001b[38;5;21m_validate_data\u001b[39m(\n\u001b[1;32m    538\u001b[0m     \u001b[38;5;28mself\u001b[39m,\n\u001b[1;32m    539\u001b[0m     X\u001b[38;5;241m=\u001b[39m\u001b[38;5;124m\"\u001b[39m\u001b[38;5;124mno_validation\u001b[39m\u001b[38;5;124m\"\u001b[39m,\n\u001b[0;32m   (...)\u001b[0m\n\u001b[1;32m    544\u001b[0m     \u001b[38;5;241m*\u001b[39m\u001b[38;5;241m*\u001b[39mcheck_params,\n\u001b[1;32m    545\u001b[0m ):\n\u001b[1;32m    546\u001b[0m \u001b[38;5;250m    \u001b[39m\u001b[38;5;124;03m\"\"\"Validate input data and set or check the `n_features_in_` attribute.\u001b[39;00m\n\u001b[1;32m    547\u001b[0m \n\u001b[1;32m    548\u001b[0m \u001b[38;5;124;03m    Parameters\u001b[39;00m\n\u001b[0;32m   (...)\u001b[0m\n\u001b[1;32m    606\u001b[0m \u001b[38;5;124;03m        validated.\u001b[39;00m\n\u001b[1;32m    607\u001b[0m \u001b[38;5;124;03m    \"\"\"\u001b[39;00m\n\u001b[0;32m--> 608\u001b[0m     \u001b[38;5;28;43mself\u001b[39;49m\u001b[38;5;241;43m.\u001b[39;49m\u001b[43m_check_feature_names\u001b[49m\u001b[43m(\u001b[49m\u001b[43mX\u001b[49m\u001b[43m,\u001b[49m\u001b[43m \u001b[49m\u001b[43mreset\u001b[49m\u001b[38;5;241;43m=\u001b[39;49m\u001b[43mreset\u001b[49m\u001b[43m)\u001b[49m\n\u001b[1;32m    610\u001b[0m     \u001b[38;5;28;01mif\u001b[39;00m y \u001b[38;5;129;01mis\u001b[39;00m \u001b[38;5;28;01mNone\u001b[39;00m \u001b[38;5;129;01mand\u001b[39;00m \u001b[38;5;28mself\u001b[39m\u001b[38;5;241m.\u001b[39m_get_tags()[\u001b[38;5;124m\"\u001b[39m\u001b[38;5;124mrequires_y\u001b[39m\u001b[38;5;124m\"\u001b[39m]:\n\u001b[1;32m    611\u001b[0m         \u001b[38;5;28;01mraise\u001b[39;00m \u001b[38;5;167;01mValueError\u001b[39;00m(\n\u001b[1;32m    612\u001b[0m             \u001b[38;5;124mf\u001b[39m\u001b[38;5;124m\"\u001b[39m\u001b[38;5;124mThis \u001b[39m\u001b[38;5;132;01m{\u001b[39;00m\u001b[38;5;28mself\u001b[39m\u001b[38;5;241m.\u001b[39m\u001b[38;5;18m__class__\u001b[39m\u001b[38;5;241m.\u001b[39m\u001b[38;5;18m__name__\u001b[39m\u001b[38;5;132;01m}\u001b[39;00m\u001b[38;5;124m estimator \u001b[39m\u001b[38;5;124m\"\u001b[39m\n\u001b[1;32m    613\u001b[0m             \u001b[38;5;124m\"\u001b[39m\u001b[38;5;124mrequires y to be passed, but the target y is None.\u001b[39m\u001b[38;5;124m\"\u001b[39m\n\u001b[1;32m    614\u001b[0m         )\n",
      "File \u001b[0;32m~/miniforge3/envs/intro_ml/lib/python3.10/site-packages/sklearn/base.py:535\u001b[0m, in \u001b[0;36mBaseEstimator._check_feature_names\u001b[0;34m(self, X, reset)\u001b[0m\n\u001b[1;32m    530\u001b[0m \u001b[38;5;28;01mif\u001b[39;00m \u001b[38;5;129;01mnot\u001b[39;00m missing_names \u001b[38;5;129;01mand\u001b[39;00m \u001b[38;5;129;01mnot\u001b[39;00m unexpected_names:\n\u001b[1;32m    531\u001b[0m     message \u001b[38;5;241m+\u001b[39m\u001b[38;5;241m=\u001b[39m (\n\u001b[1;32m    532\u001b[0m         \u001b[38;5;124m\"\u001b[39m\u001b[38;5;124mFeature names must be in the same order as they were in fit.\u001b[39m\u001b[38;5;130;01m\\n\u001b[39;00m\u001b[38;5;124m\"\u001b[39m\n\u001b[1;32m    533\u001b[0m     )\n\u001b[0;32m--> 535\u001b[0m \u001b[38;5;28;01mraise\u001b[39;00m \u001b[38;5;167;01mValueError\u001b[39;00m(message)\n",
      "\u001b[0;31mValueError\u001b[0m: The feature names should match those that were passed during fit.\nFeature names seen at fit time, yet now missing:\n- AtomFraction\n- ConfigurationalComplexity\n- GroupDensity_CarboxylicAcid\n- HBondDensity\n- Polarity\n- ...\n"
     ]
    }
   ],
   "source": [
    "### Train loss\n",
    "y_train_pred = model.predict(X_train)\n",
    "train_loss = mean_squared_error(y_train, y_train_pred)\n",
    "\n",
    "### 5-fold cross-validation\n",
    "results = []\n",
    "kf = KFold(n_splits=5, shuffle=True, random_state=190)\n",
    "mse_scorer = make_scorer(mean_squared_error)\n",
    "cv_scores = cross_val_score(model, X_train, y_train, cv=kf, scoring=mse_scorer)\n",
    "cv_loss_mean = cv_scores.mean()\n",
    "\n",
    "r2_train = r2_score(y_train, y_train_pred)\n",
    "r2_cv = cross_val_score(model, X_train, y_train, cv=kf, scoring='r2').mean()\n",
    "\n",
    "print('Train loss:', train_loss)\n",
    "print('CV loss mean:', cv_loss_mean)\n",
    "print('Train R^2:', r2_train)\n",
    "print('CV R^2:', r2_cv)"
   ]
  },
  {
   "cell_type": "markdown",
   "metadata": {
    "nteract": {
     "transient": {
      "deleting": false
     }
    }
   },
   "source": [
    "## Ennustuksen tallentaminen"
   ]
  },
  {
   "cell_type": "code",
   "execution_count": 75,
   "metadata": {
    "gather": {
     "logged": 1732046039632
    },
    "jupyter": {
     "outputs_hidden": false,
     "source_hidden": false
    },
    "nteract": {
     "transient": {
      "deleting": false
     }
    }
   },
   "outputs": [],
   "source": [
    "df_test['log_pSat_Pa'] = model.predict(X_test_gbr.drop(columns=['log_pSat_Pa'], axis=1))\n",
    "df_test[['ID', 'log_pSat_Pa']].to_csv('../submission/submission.csv', index=False)"
   ]
  }
 ],
 "metadata": {
  "kernel_info": {
   "name": "python310-sdkv2"
  },
  "kernelspec": {
   "display_name": "intro_ml",
   "language": "python",
   "name": "python3"
  },
  "language_info": {
   "codemirror_mode": {
    "name": "ipython",
    "version": 3
   },
   "file_extension": ".py",
   "mimetype": "text/x-python",
   "name": "python",
   "nbconvert_exporter": "python",
   "pygments_lexer": "ipython3",
   "version": "3.10.15"
  },
  "microsoft": {
   "host": {
    "AzureML": {
     "notebookHasBeenCompleted": true
    }
   },
   "ms_spell_check": {
    "ms_spell_check_language": "en"
   }
  },
  "nteract": {
   "version": "nteract-front-end@1.0.0"
  }
 },
 "nbformat": 4,
 "nbformat_minor": 2
}
