{
 "cells": [
  {
   "cell_type": "markdown",
   "metadata": {
    "nteract": {
     "transient": {
      "deleting": false
     }
    }
   },
   "source": [
    "# Ryhmä-190"
   ]
  },
  {
   "cell_type": "markdown",
   "metadata": {
    "nteract": {
     "transient": {
      "deleting": false
     }
    }
   },
   "source": [
    "## Python-paketit"
   ]
  },
  {
   "cell_type": "code",
   "execution_count": 69,
   "metadata": {
    "editable": false,
    "gather": {
     "logged": 1732048704411
    },
    "jupyter": {
     "outputs_hidden": true,
     "source_hidden": false
    },
    "nteract": {
     "transient": {
      "deleting": false
     }
    },
    "run_control": {
     "frozen": true
    }
   },
   "outputs": [],
   "source": [
    "# Jupyter-notebookissa voi asentaa paketit samaan tapaan kuin komentoriviltä.\n",
    "# Tähän käytetään \"magic commandeja\", jotka alkavat %-merkillä.\n",
    "# Näiden asentamisessa voi mennä muutama minuutti, mutta sen jälkeen niitä ei tarvitse asentaa uudestaan. \n",
    "#%pip install seaborn\n",
    "#%pip install mlflow azureml azureml-core azureml-mlflow azure-identity"
   ]
  },
  {
   "cell_type": "code",
   "execution_count": 70,
   "metadata": {
    "gather": {
     "logged": 1732052063268
    },
    "jupyter": {
     "outputs_hidden": false,
     "source_hidden": false
    },
    "nteract": {
     "transient": {
      "deleting": false
     }
    }
   },
   "outputs": [],
   "source": [
    "import os\n",
    "import pandas as pd\n",
    "import numpy as np\n",
    "import seaborn as sns\n",
    "import matplotlib.pyplot as plt\n",
    "from sklearn.dummy import DummyRegressor\n",
    "from sklearn.linear_model import LinearRegression\n",
    "from sklearn.ensemble import RandomForestRegressor\n",
    "from sklearn.ensemble import GradientBoostingRegressor\n",
    "from sklearn.metrics import mean_squared_error, make_scorer, r2_score\n",
    "from sklearn.model_selection import KFold, cross_val_score\n",
    "#from azureml.core import Workspace\n",
    "#from azure.identity import InteractiveBrowserCredential\n",
    "#import mlflow"
   ]
  },
  {
   "cell_type": "markdown",
   "metadata": {
    "nteract": {
     "transient": {
      "deleting": false
     }
    }
   },
   "source": [
    "## MLFlow-seuranta (ei tällä hetkellä käytössä)\n",
    "\n",
    "Tarkistetaan ajoympäristö (Azure vai oma kone) ja autentikoidutaan sen mukaan."
   ]
  },
  {
   "cell_type": "code",
   "execution_count": 71,
   "metadata": {},
   "outputs": [],
   "source": [
    "def is_running_in_azure():\n",
    "    return 'AZUREML_RUN_ID' in os.environ\n",
    "\n",
    "def get_workspace():\n",
    "    if is_running_in_azure():\n",
    "        return Workspace.from_config()\n",
    "    else:\n",
    "        return Workspace(subscription_id='1c0e26b6-0fcb-4b6d-911c-2a0836275ea4',\n",
    "                         resource_group='rg-AML',\n",
    "                         workspace_name='aml-data_science_masters')\n",
    "#ws = get_workspace()"
   ]
  },
  {
   "cell_type": "code",
   "execution_count": 72,
   "metadata": {
    "gather": {
     "logged": 1732052187541
    },
    "jupyter": {
     "outputs_hidden": false,
     "source_hidden": false
    },
    "nteract": {
     "transient": {
      "deleting": false
     }
    }
   },
   "outputs": [],
   "source": [
    "#mlflow.set_tracking_uri(ws.get_mlflow_tracking_uri())\n",
    "#experiment_name = 'group-190-tracking'\n",
    "#mlflow.set_experiment(experiment_name)\n",
    "#mlflow.autolog()"
   ]
  },
  {
   "cell_type": "code",
   "execution_count": 73,
   "metadata": {},
   "outputs": [],
   "source": [
    "def evaluate_model(model, X_train, y_train, random_state=42):\n",
    "    ### Train loss\n",
    "    y_train_pred = model.predict(X_train)\n",
    "    train_loss = mean_squared_error(y_train, y_train_pred)\n",
    "\n",
    "    ### 5-fold cross-validation\n",
    "    kf = KFold(n_splits=5, shuffle=True, random_state=random_state)\n",
    "    mse_scorer = make_scorer(mean_squared_error)\n",
    "    cv_scores = cross_val_score(model, X_train, y_train, cv=kf, scoring=mse_scorer)\n",
    "    cv_loss_mean = cv_scores.mean()\n",
    "\n",
    "    r2_train = r2_score(y_train, y_train_pred)\n",
    "    r2_cv = cross_val_score(model, X_train, y_train, cv=kf, scoring='r2').mean()\n",
    "\n",
    "    print('Train loss:', train_loss)\n",
    "    print('CV loss mean:', cv_loss_mean)\n",
    "    print('Train R^2:', r2_train)\n",
    "    print('CV R^2:', r2_cv)\n"
   ]
  },
  {
   "cell_type": "markdown",
   "metadata": {
    "nteract": {
     "transient": {
      "deleting": false
     }
    }
   },
   "source": [
    "## Tietoaineistojen lataaminen"
   ]
  },
  {
   "cell_type": "code",
   "execution_count": 74,
   "metadata": {
    "gather": {
     "logged": 1732052424041
    },
    "jupyter": {
     "outputs_hidden": false,
     "source_hidden": false
    },
    "nteract": {
     "transient": {
      "deleting": false
     }
    }
   },
   "outputs": [],
   "source": [
    "df_train = pd.read_csv('../data/train.csv', encoding='utf-8', header=0)\n",
    "df_test = pd.read_csv('../data/test.csv', encoding='utf-8', header=0)"
   ]
  },
  {
   "cell_type": "markdown",
   "metadata": {
    "nteract": {
     "transient": {
      "deleting": false
     }
    }
   },
   "source": [
    "## Esiprosessointi"
   ]
  },
  {
   "cell_type": "code",
   "execution_count": 75,
   "metadata": {
    "gather": {
     "logged": 1732052442780
    },
    "jupyter": {
     "outputs_hidden": false,
     "source_hidden": false
    },
    "nteract": {
     "transient": {
      "deleting": false
     }
    }
   },
   "outputs": [
    {
     "name": "stdout",
     "output_type": "stream",
     "text": [
      "<class 'pandas.core.frame.DataFrame'>\n",
      "RangeIndex: 26637 entries, 0 to 26636\n",
      "Data columns (total 27 columns):\n",
      " #   Column                        Non-Null Count  Dtype  \n",
      "---  ------                        --------------  -----  \n",
      " 0   ID                            26637 non-null  int64  \n",
      " 1   log_pSat_Pa                   26637 non-null  float64\n",
      " 2   MW                            26637 non-null  float64\n",
      " 3   NumOfAtoms                    26637 non-null  int64  \n",
      " 4   NumOfC                        26637 non-null  int64  \n",
      " 5   NumOfO                        26637 non-null  int64  \n",
      " 6   NumOfN                        26637 non-null  int64  \n",
      " 7   NumHBondDonors                26637 non-null  int64  \n",
      " 8   NumOfConf                     26637 non-null  float64\n",
      " 9   NumOfConfUsed                 26637 non-null  float64\n",
      " 10  parentspecies                 26637 non-null  int8   \n",
      " 11  C=C (non-aromatic)            26637 non-null  int64  \n",
      " 12  C=C-C=O in non-aromatic ring  26637 non-null  int64  \n",
      " 13  hydroxyl (alkyl)              26637 non-null  int64  \n",
      " 14  aldehyde                      26637 non-null  int64  \n",
      " 15  ketone                        26637 non-null  int64  \n",
      " 16  carboxylic acid               26637 non-null  int64  \n",
      " 17  ester                         26637 non-null  int64  \n",
      " 18  ether (alicyclic)             26637 non-null  int64  \n",
      " 19  nitrate                       26637 non-null  int64  \n",
      " 20  nitro                         26637 non-null  int64  \n",
      " 21  aromatic hydroxyl             26637 non-null  int64  \n",
      " 22  carbonylperoxynitrate         26637 non-null  int64  \n",
      " 23  peroxide                      26637 non-null  int64  \n",
      " 24  hydroperoxide                 26637 non-null  int64  \n",
      " 25  carbonylperoxyacid            26637 non-null  int64  \n",
      " 26  nitroester                    26637 non-null  int64  \n",
      "dtypes: float64(4), int64(22), int8(1)\n",
      "memory usage: 5.3 MB\n"
     ]
    }
   ],
   "source": [
    "df_train['parentspecies'] = df_train['parentspecies'].astype('category')\n",
    "df_train['parentspecies'] = df_train['parentspecies'].cat.codes\n",
    "df_test['parentspecies'] = df_test['parentspecies'].astype('category')\n",
    "df_test['parentspecies'] = df_test['parentspecies'].cat.codes\n",
    "df_train.info()"
   ]
  },
  {
   "cell_type": "markdown",
   "metadata": {},
   "source": [
    "# Feature engineering\n",
    "\n",
    "Seuraavassa taustaa. Ajatuksena on luoda \"meaningful features\". Bayesian Data Analysis kurssilla puhuttiin Generalized Linear Regression yhteydessä, että on kannattavaa olla tarkkana datasetin kanssa. Esimerkissä käytettiin puun lehtien painon arviointia. Siinä yksittäiset mitat kuten puun korkeus leveys yms ei antanut kovin hyvää mallia. Näistä kuitenkin pystyttiin luomaan uusia predictoreita, kuten puun muoto, lehtiosan volyymi jne.\n",
    "\n",
    "Koska me emme ole alan asiantuntijoita, tulkitsen tekoälyn [käyttösääntöjä](https://studies.helsinki.fi/kurssit/toteutus/hy-opt-cur-2425-b5ccfa1b-ac12-4a9a-bef8-b46c0e808555/DATA11002) kurssilla, että voidaan kysyä mitä näistä voidaan laskea. Joten näin tehtiin ja saatiin seuraavia kaavoja.\n",
    "\n",
    "BDA kurssilla myös poistettiin tämän jälkeen alkuperäiset arvot sotkemasta!"
   ]
  },
  {
   "cell_type": "code",
   "execution_count": 76,
   "metadata": {},
   "outputs": [],
   "source": [
    "def transform_gbr(orig_df):\n",
    "    df = orig_df.copy()\n",
    "    df = df.replace([np.inf, -np.inf], np.nan).fillna(0)\n",
    "\n",
    "    # Add meaningful features\n",
    "    df['AtomFraction'] = (df['NumOfC'] + df['NumOfO'] + df['NumOfN']) / df['NumOfAtoms']\n",
    "    df['Polarity'] = df['NumHBondDonors'] / df['MW']\n",
    "    df['HBondDensity'] = df['NumHBondDonors'] / df['NumOfAtoms']\n",
    "    df['GroupDensity_CarboxylicAcid'] = df['carboxylic acid'] / df['MW']\n",
    "    df['Unsaturation'] = df['C=C (non-aromatic)'] + df['C=C-C=O in non-aromatic ring']\n",
    "    df['ConfigurationalComplexity'] = df['NumOfConf'] / df['MW']\n",
    "\n",
    "    # df['C:O_ratio'] = df['NumOfC'] / df['NumOfO']\n",
    "    # df['C:N_ratio'] = df['NumOfC'] / df['NumOfN']\n",
    "    # df['Percent_C'] = (df['NumOfC'] / df['NumOfAtoms'])\n",
    "    # df['Percent_O'] = (df['NumOfO'] / df['NumOfAtoms'])\n",
    "    # df['Percent_N'] = (df['NumOfN'] / df['NumOfAtoms'])\n",
    "    # df['HBD_fraction'] = df['NumHBondDonors'] / df['NumOfAtoms']\n",
    "    # df['FractionOfConfsUsed'] = df['NumOfConfUsed'] / df['NumOfConf']\n",
    "    # df['Has_Conjugated_System'] = np.where((df['C=C-C=O in non-aromatic ring'] > 0) | (df['C=C (non-aromatic)'] > 0), 1, 0)\n",
    "\n",
    "    # X_train_gbr['NumOfConf'] = np.log(X_train_gbr['NumOfConf'])\n",
    "    # X_train_gbr['NumOfConfUsed'] = (X_train_gbr['NumOfConfUsed'] == 40).astype(int)\n",
    "    drop_cols = [\n",
    "        # 'NumOfC',\n",
    "        # 'NumOfO',\n",
    "        # 'NumOfN',\n",
    "        # 'NumOfAtoms',\n",
    "        # 'NumHBondDonors',\n",
    "        # 'carboxylic acid',\n",
    "        # 'MW',\n",
    "        # 'C=C-C=O in non-aromatic ring',\n",
    "        # 'C=C (non-aromatic)',\n",
    "        # 'NumOfConf',\n",
    "        # 'NumOfConfUsed',\n",
    "        'parentspecies',\n",
    "    ]\n",
    "    df = df.drop(columns=drop_cols, axis=1)\n",
    "\n",
    "    return df"
   ]
  },
  {
   "cell_type": "markdown",
   "metadata": {
    "nteract": {
     "transient": {
      "deleting": false
     }
    }
   },
   "source": [
    "## Mallien kouluttaminen"
   ]
  },
  {
   "cell_type": "code",
   "execution_count": 77,
   "metadata": {
    "gather": {
     "logged": 1732052445215
    },
    "jupyter": {
     "outputs_hidden": false,
     "source_hidden": false
    },
    "nteract": {
     "transient": {
      "deleting": false
     }
    }
   },
   "outputs": [
    {
     "name": "stdout",
     "output_type": "stream",
     "text": [
      "<class 'pandas.core.frame.DataFrame'>\n",
      "RangeIndex: 26637 entries, 0 to 26636\n",
      "Data columns (total 30 columns):\n",
      " #   Column                        Non-Null Count  Dtype  \n",
      "---  ------                        --------------  -----  \n",
      " 0   MW                            26637 non-null  float64\n",
      " 1   NumOfAtoms                    26637 non-null  int64  \n",
      " 2   NumOfC                        26637 non-null  int64  \n",
      " 3   NumOfO                        26637 non-null  int64  \n",
      " 4   NumOfN                        26637 non-null  int64  \n",
      " 5   NumHBondDonors                26637 non-null  int64  \n",
      " 6   NumOfConf                     26637 non-null  float64\n",
      " 7   NumOfConfUsed                 26637 non-null  float64\n",
      " 8   C=C (non-aromatic)            26637 non-null  int64  \n",
      " 9   C=C-C=O in non-aromatic ring  26637 non-null  int64  \n",
      " 10  hydroxyl (alkyl)              26637 non-null  int64  \n",
      " 11  aldehyde                      26637 non-null  int64  \n",
      " 12  ketone                        26637 non-null  int64  \n",
      " 13  carboxylic acid               26637 non-null  int64  \n",
      " 14  ester                         26637 non-null  int64  \n",
      " 15  ether (alicyclic)             26637 non-null  int64  \n",
      " 16  nitrate                       26637 non-null  int64  \n",
      " 17  nitro                         26637 non-null  int64  \n",
      " 18  aromatic hydroxyl             26637 non-null  int64  \n",
      " 19  carbonylperoxynitrate         26637 non-null  int64  \n",
      " 20  peroxide                      26637 non-null  int64  \n",
      " 21  hydroperoxide                 26637 non-null  int64  \n",
      " 22  carbonylperoxyacid            26637 non-null  int64  \n",
      " 23  nitroester                    26637 non-null  int64  \n",
      " 24  AtomFraction                  26637 non-null  float64\n",
      " 25  Polarity                      26637 non-null  float64\n",
      " 26  HBondDensity                  26637 non-null  float64\n",
      " 27  GroupDensity_CarboxylicAcid   26637 non-null  float64\n",
      " 28  Unsaturation                  26637 non-null  int64  \n",
      " 29  ConfigurationalComplexity     26637 non-null  float64\n",
      "dtypes: float64(8), int64(22)\n",
      "memory usage: 6.1 MB\n"
     ]
    }
   ],
   "source": [
    "X_train, y_train = df_train.drop(columns=['log_pSat_Pa', 'ID']), df_train['log_pSat_Pa']\n",
    "X_test = df_test.drop(columns=['ID'])\n",
    "X_train_gbr = transform_gbr(X_train)\n",
    "X_test_gbr = transform_gbr(X_test)\n",
    "X_train_gbr.info()"
   ]
  },
  {
   "cell_type": "markdown",
   "metadata": {
    "nteract": {
     "transient": {
      "deleting": false
     }
    }
   },
   "source": [
    "Erilaisia malleja alla. Kaikki mallit käyttävät samaa nimeä `model`, eli vain viimeisenä koulutettu menee testeihin ja tallentuu.\n",
    "\n",
    "### 1. Dummy"
   ]
  },
  {
   "cell_type": "code",
   "execution_count": 78,
   "metadata": {
    "editable": true,
    "gather": {
     "logged": 1732052459650
    },
    "jupyter": {
     "outputs_hidden": false,
     "source_hidden": false
    },
    "nteract": {
     "transient": {
      "deleting": false
     }
    },
    "run_control": {
     "frozen": false
    }
   },
   "outputs": [],
   "source": [
    "model = DummyRegressor(strategy='mean')\n",
    "model.fit(X_train, y_train)\n",
    "\n",
    "df_test['log_pSat_Pa'] = model.predict(X_test)"
   ]
  },
  {
   "cell_type": "markdown",
   "metadata": {
    "nteract": {
     "transient": {
      "deleting": false
     }
    }
   },
   "source": [
    "### 2. Yksinkertainen regressio"
   ]
  },
  {
   "cell_type": "code",
   "execution_count": 79,
   "metadata": {
    "gather": {
     "logged": 1732052467120
    },
    "jupyter": {
     "outputs_hidden": false,
     "source_hidden": false
    },
    "nteract": {
     "transient": {
      "deleting": false
     }
    }
   },
   "outputs": [
    {
     "name": "stdout",
     "output_type": "stream",
     "text": [
      "Train loss: 2.842328865969468\n",
      "CV loss mean: 2.849511778366428\n",
      "Train R^2: 0.708036764384357\n",
      "CV R^2: 0.707127071706114\n"
     ]
    }
   ],
   "source": [
    "model = LinearRegression()\n",
    "model.fit(X_train_gbr, y_train)\n",
    "\n",
    "evaluate_model(model, X_train_gbr, y_train)"
   ]
  },
  {
   "cell_type": "markdown",
   "metadata": {
    "nteract": {
     "transient": {
      "deleting": false
     }
    }
   },
   "source": [
    "### 3. Random Forest"
   ]
  },
  {
   "cell_type": "code",
   "execution_count": null,
   "metadata": {
    "gather": {
     "logged": 1732052550516
    },
    "jupyter": {
     "outputs_hidden": false,
     "source_hidden": false
    },
    "nteract": {
     "transient": {
      "deleting": false
     }
    }
   },
   "outputs": [],
   "source": [
    "model = RandomForestRegressor(random_state=190)\n",
    "model.fit(X_train_gbr, y_train)\n",
    "\n",
    "evaluate_model(model, X_train_gbr, y_train)"
   ]
  },
  {
   "cell_type": "markdown",
   "metadata": {},
   "source": [
    "### 4. Gradient Boosting Regressor"
   ]
  },
  {
   "cell_type": "code",
   "execution_count": null,
   "metadata": {},
   "outputs": [
    {
     "name": "stdout",
     "output_type": "stream",
     "text": [
      "Train loss: 2.0323132250606983\n",
      "CV loss mean: 2.506041208220943\n",
      "Train R^2: 0.7912413471652237\n",
      "CV R^2: 0.7424163443507199\n"
     ]
    }
   ],
   "source": [
    "gbr_params = {\n",
    "    \"n_estimators\": 100,\n",
    "    \"max_depth\": 6,\n",
    "    \"min_samples_split\": 10,\n",
    "    \"learning_rate\": 0.1,\n",
    "    \"loss\": \"squared_error\",\n",
    "    \"random_state\": 42,\n",
    "    # \"subsample\": 0.6,\n",
    "}\n",
    "    \n",
    "model = GradientBoostingRegressor(**gbr_params)\n",
    "model.fit(X_train_gbr, y_train)\n",
    "\n",
    "evaluate_model(model, X_train_gbr, y_train)\n",
    "\n"
   ]
  },
  {
   "cell_type": "markdown",
   "metadata": {},
   "source": [
    "# 5. SVR"
   ]
  },
  {
   "cell_type": "code",
   "execution_count": null,
   "metadata": {},
   "outputs": [
    {
     "name": "stderr",
     "output_type": "stream",
     "text": [
      "[I 2024-11-22 19:31:59,422] A new study created in RDB with name: group-190-667\n",
      "[I 2024-11-22 19:35:02,314] Trial 0 finished with value: 0.7457164705853575 and parameters: {'n_estimators': 130, 'max_depth': 6, 'min_samples_split': 10, 'learning_rate': 0.17504999486418088, 'subsample': 0.44973238669558613, 'C': 1.1881234857217742, 'epsilon': 0.1623558985519675}. Best is trial 0 with value: 0.7457164705853575.\n",
      "[I 2024-11-22 19:37:46,744] Trial 1 finished with value: 0.7467980922617024 and parameters: {'n_estimators': 129, 'max_depth': 6, 'min_samples_split': 9, 'learning_rate': 0.18374581703895337, 'subsample': 0.3178657360730103, 'C': 1.4450752607641968, 'epsilon': 0.4399911429992751}. Best is trial 1 with value: 0.7467980922617024.\n",
      "[I 2024-11-22 19:40:28,281] Trial 2 finished with value: 0.7469854282530618 and parameters: {'n_estimators': 60, 'max_depth': 5, 'min_samples_split': 5, 'learning_rate': 0.06958692126135857, 'subsample': 0.3372638728531775, 'C': 1.4949283574498131, 'epsilon': 0.33644990784856366}. Best is trial 2 with value: 0.7469854282530618.\n",
      "[I 2024-11-22 19:42:59,553] Trial 3 finished with value: 0.7460793707297679 and parameters: {'n_estimators': 74, 'max_depth': 6, 'min_samples_split': 8, 'learning_rate': 0.1609059990831184, 'subsample': 0.7589525169148825, 'C': 1.2376749031340815, 'epsilon': 0.445608086084757}. Best is trial 2 with value: 0.7469854282530618.\n",
      "[I 2024-11-22 19:45:34,959] Trial 4 finished with value: 0.7404946438971184 and parameters: {'n_estimators': 135, 'max_depth': 9, 'min_samples_split': 15, 'learning_rate': 0.1519709674052297, 'subsample': 0.8345679656236387, 'C': 0.5583432904310809, 'epsilon': 0.27777473645330686}. Best is trial 2 with value: 0.7469854282530618.\n"
     ]
    },
    {
     "name": "stdout",
     "output_type": "stream",
     "text": [
      "The best score: 0.7469854282530618\n",
      "The best hyperparameter combination: {'n_estimators': 60, 'max_depth': 5, 'min_samples_split': 5, 'learning_rate': 0.06958692126135857, 'subsample': 0.3372638728531775, 'C': 1.4949283574498131, 'epsilon': 0.33644990784856366}\n"
     ]
    }
   ],
   "source": [
    "# OPTUNA\n",
    "\n",
    "import optuna\n",
    "from sklearn.discriminant_analysis import StandardScaler\n",
    "from sklearn.pipeline import make_pipeline\n",
    "from sklearn.svm import SVR\n",
    "\n",
    "\n",
    "def objective(trial):\n",
    "    gbr_params = {\n",
    "        \"n_estimators\": trial.suggest_int(\"n_estimators\", 50, 150),\n",
    "        \"max_depth\": trial.suggest_int(\"max_depth\", 3, 9),\n",
    "        \"min_samples_split\": trial.suggest_int(\"min_samples_split\", 5, 15),\n",
    "        \"learning_rate\": trial.suggest_float(\"learning_rate\", 0.05, 0.2),\n",
    "        \"loss\": \"squared_error\",\n",
    "        \"random_state\": 190,\n",
    "        \"subsample\": trial.suggest_float(\"subsample\", 0.3, 0.9),\n",
    "    }\n",
    "    # C=1.0, epsilon=0.2, kernel='rbf'\n",
    "    svr_params = {\n",
    "        \"n_estimators\": trial.suggest_int(\"n_estimators\", 120, 140),\n",
    "        \"max_depth\": trial.suggest_int(\"max_depth\", 5, 7),\n",
    "        \"min_samples_split\": trial.suggest_int(\"min_samples_split\", 8, 12),\n",
    "        \"learning_rate\": trial.suggest_float(\"learning_rate\", 0.15, 0.25),\n",
    "        \"subsample\": trial.suggest_float(\"subsample\", 0.4, 0.5),\n",
    "        \"C\": trial.suggest_float(\"C\", 0.5, 1.5),\n",
    "        \n",
    "        \"epsilon\": trial.suggest_float(\"epsilon\", 0.1, 0.5),\n",
    "        \"kernel\": 'rbf',\n",
    "        #\"degree\": trial.suggest_int(\"degree\", 2, 5),\n",
    "        #\"gamma\": trial.suggest_float(\"gamma\", 0.1, 1),\n",
    "        #\"coef0\": trial.suggest_float(\"coef0\", 0.1, 1),\n",
    "        #\"shrinking\": trial.suggest_categorical(\"shrinking\", [True, False]),\n",
    "        #\"tol\": trial.suggest_float(\"tol\", 1e-5, 1e-3),\n",
    "        #\"cache_size\": 200,\n",
    "        #\"verbose\": False,\n",
    "        #\"max_iter\": -1,\n",
    "    }\n",
    "        \n",
    "    model = make_pipeline(StandardScaler(), SVR(**svr_params))\n",
    "\n",
    "    #model = GradientBoostingRegressor(**gbr_params)\n",
    "\n",
    "    score = cross_val_score(model, X_train, y_train, cv=5, scoring='r2').mean()\n",
    "    return score\n",
    "#evaluate_model(model, X_train_gbr, y_train)\n",
    "\n",
    "study_name = \"group-190-667\"\n",
    "storage = \"sqlite:///optuna_190.sqlite3\"\n",
    "\n",
    "study = optuna.create_study(\n",
    "    direction=\"maximize\",\n",
    "    #sampler=optuna.samplers.TPESampler(seed=190),\n",
    "    study_name=study_name,\n",
    "    storage=storage,\n",
    "    load_if_exists=True\n",
    ")\n",
    "\n",
    "study.optimize(objective, n_trials=5)\n",
    "\n",
    "loaded_study = optuna.load_study(study_name=study_name, storage=storage)\n",
    "\n",
    "print(f\"The best score: {loaded_study.best_value}\")\n",
    "print(f\"The best hyperparameter combination: {loaded_study.best_params}\")\n",
    "\n"
   ]
  },
  {
   "cell_type": "code",
   "execution_count": null,
   "metadata": {},
   "outputs": [],
   "source": [
    "from sklearn.discriminant_analysis import StandardScaler\n",
    "from sklearn.pipeline import make_pipeline\n",
    "from sklearn.svm import SVR\n",
    "\n",
    "model = make_pipeline(StandardScaler(), SVR(C=1.0, epsilon=0.2, kernel='rbf',))\n",
    "model.fit(X_train_gbr, y_train)\n",
    "\n",
    "evaluate_model(model, X_train_gbr, y_train)"
   ]
  },
  {
   "cell_type": "markdown",
   "metadata": {
    "nteract": {
     "transient": {
      "deleting": false
     }
    }
   },
   "source": [
    "## Ennustuksen tallentaminen"
   ]
  },
  {
   "cell_type": "code",
   "execution_count": null,
   "metadata": {
    "gather": {
     "logged": 1732046039632
    },
    "jupyter": {
     "outputs_hidden": false,
     "source_hidden": false
    },
    "nteract": {
     "transient": {
      "deleting": false
     }
    }
   },
   "outputs": [],
   "source": [
    "df_test['log_pSat_Pa'] = model.predict(X_test_gbr.drop(columns=['log_pSat_Pa'], axis=1))\n",
    "df_test[['ID', 'log_pSat_Pa']].to_csv('../submission/submission.csv', index=False)"
   ]
  }
 ],
 "metadata": {
  "kernel_info": {
   "name": "python310-sdkv2"
  },
  "kernelspec": {
   "display_name": "intro_ml",
   "language": "python",
   "name": "python3"
  },
  "language_info": {
   "codemirror_mode": {
    "name": "ipython",
    "version": 3
   },
   "file_extension": ".py",
   "mimetype": "text/x-python",
   "name": "python",
   "nbconvert_exporter": "python",
   "pygments_lexer": "ipython3",
   "version": "3.10.15"
  },
  "microsoft": {
   "host": {
    "AzureML": {
     "notebookHasBeenCompleted": true
    }
   },
   "ms_spell_check": {
    "ms_spell_check_language": "en"
   }
  },
  "nteract": {
   "version": "nteract-front-end@1.0.0"
  }
 },
 "nbformat": 4,
 "nbformat_minor": 2
}
