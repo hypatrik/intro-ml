{
 "cells": [
  {
   "cell_type": "markdown",
   "metadata": {
    "nteract": {
     "transient": {
      "deleting": false
     }
    }
   },
   "source": [
    "# Ryhmä-190"
   ]
  },
  {
   "cell_type": "markdown",
   "metadata": {
    "nteract": {
     "transient": {
      "deleting": false
     }
    }
   },
   "source": [
    "## Python-paketit"
   ]
  },
  {
   "cell_type": "code",
   "execution_count": 1,
   "metadata": {
    "editable": false,
    "gather": {
     "logged": 1732048704411
    },
    "jupyter": {
     "outputs_hidden": true,
     "source_hidden": false
    },
    "nteract": {
     "transient": {
      "deleting": false
     }
    },
    "run_control": {
     "frozen": true
    }
   },
   "outputs": [],
   "source": [
    "# Jupyter-notebookissa voi asentaa paketit samaan tapaan kuin komentoriviltä.\n",
    "# Tähän käytetään \"magic commandeja\", jotka alkavat %-merkillä.\n",
    "# Näiden asentamisessa voi mennä muutama minuutti, mutta sen jälkeen niitä ei tarvitse asentaa uudestaan. \n",
    "#%pip install seaborn\n",
    "#%pip install mlflow azureml azureml-core azureml-mlflow azure-identity"
   ]
  },
  {
   "cell_type": "code",
   "execution_count": 2,
   "metadata": {
    "gather": {
     "logged": 1732052063268
    },
    "jupyter": {
     "outputs_hidden": false,
     "source_hidden": false
    },
    "nteract": {
     "transient": {
      "deleting": false
     }
    }
   },
   "outputs": [],
   "source": [
    "import os\n",
    "import pandas as pd\n",
    "import numpy as np\n",
    "import seaborn as sns\n",
    "import matplotlib.pyplot as plt\n",
    "from sklearn.dummy import DummyRegressor\n",
    "from sklearn.linear_model import LinearRegression\n",
    "from sklearn.ensemble import RandomForestRegressor\n",
    "from sklearn.svm import SVR\n",
    "from sklearn.ensemble import GradientBoostingRegressor\n",
    "from sklearn.metrics import mean_squared_error, make_scorer, r2_score\n",
    "from sklearn.model_selection import KFold, cross_val_score\n",
    "#from azureml.core import Workspace\n",
    "#from azure.identity import InteractiveBrowserCredential\n",
    "#import mlflow"
   ]
  },
  {
   "cell_type": "markdown",
   "metadata": {
    "nteract": {
     "transient": {
      "deleting": false
     }
    }
   },
   "source": [
    "## MLFlow-seuranta (ei tällä hetkellä käytössä)\n",
    "\n",
    "Tarkistetaan ajoympäristö (Azure vai oma kone) ja autentikoidutaan sen mukaan."
   ]
  },
  {
   "cell_type": "code",
   "execution_count": 3,
   "metadata": {},
   "outputs": [],
   "source": [
    "def is_running_in_azure():\n",
    "    return 'AZUREML_RUN_ID' in os.environ\n",
    "\n",
    "def get_workspace():\n",
    "    if is_running_in_azure():\n",
    "        return Workspace.from_config()\n",
    "    else:\n",
    "        return Workspace(subscription_id='1c0e26b6-0fcb-4b6d-911c-2a0836275ea4',\n",
    "                         resource_group='rg-AML',\n",
    "                         workspace_name='aml-data_science_masters')\n",
    "#ws = get_workspace()"
   ]
  },
  {
   "cell_type": "code",
   "execution_count": 79,
   "metadata": {
    "gather": {
     "logged": 1732052187541
    },
    "jupyter": {
     "outputs_hidden": false,
     "source_hidden": false
    },
    "nteract": {
     "transient": {
      "deleting": false
     }
    }
   },
   "outputs": [],
   "source": [
    "#mlflow.set_tracking_uri(ws.get_mlflow_tracking_uri())\n",
    "#experiment_name = 'group-190-tracking'\n",
    "#mlflow.set_experiment(experiment_name)\n",
    "#mlflow.autolog()"
   ]
  },
  {
   "cell_type": "markdown",
   "metadata": {
    "nteract": {
     "transient": {
      "deleting": false
     }
    }
   },
   "source": [
    "## Tietoaineistojen lataaminen"
   ]
  },
  {
   "cell_type": "code",
   "execution_count": 80,
   "metadata": {
    "gather": {
     "logged": 1732052424041
    },
    "jupyter": {
     "outputs_hidden": false,
     "source_hidden": false
    },
    "nteract": {
     "transient": {
      "deleting": false
     }
    }
   },
   "outputs": [],
   "source": [
    "df_train = pd.read_csv('../data/train.csv', encoding='utf-8', header=0)\n",
    "df_test = pd.read_csv('../data/test.csv', encoding='utf-8', header=0)"
   ]
  },
  {
   "cell_type": "markdown",
   "metadata": {
    "nteract": {
     "transient": {
      "deleting": false
     }
    }
   },
   "source": [
    "## Esiprosessointi"
   ]
  },
  {
   "cell_type": "code",
   "execution_count": 81,
   "metadata": {
    "gather": {
     "logged": 1732052442780
    },
    "jupyter": {
     "outputs_hidden": false,
     "source_hidden": false
    },
    "nteract": {
     "transient": {
      "deleting": false
     }
    }
   },
   "outputs": [],
   "source": [
    "df_train['parentspecies'] = df_train['parentspecies'].astype('category')\n",
    "df_train['parentspecies'] = df_train['parentspecies'].cat.codes\n",
    "df_test['parentspecies'] = df_test['parentspecies'].astype('category')\n",
    "df_test['parentspecies'] = df_test['parentspecies'].cat.codes"
   ]
  },
  {
   "cell_type": "markdown",
   "metadata": {
    "nteract": {
     "transient": {
      "deleting": false
     }
    }
   },
   "source": [
    "## Mallien kouluttaminen"
   ]
  },
  {
   "cell_type": "code",
   "execution_count": 82,
   "metadata": {
    "gather": {
     "logged": 1732052445215
    },
    "jupyter": {
     "outputs_hidden": false,
     "source_hidden": false
    },
    "nteract": {
     "transient": {
      "deleting": false
     }
    }
   },
   "outputs": [],
   "source": [
    "X_train, y_train = df_train.drop(columns=['log_pSat_Pa', 'ID']), df_train['log_pSat_Pa']\n",
    "X_test = df_test.drop(columns=['ID'])"
   ]
  },
  {
   "cell_type": "markdown",
   "metadata": {},
   "source": [
    "# Feature Selection\n",
    "Tässä voi kokeilla, miten vaikuttaa, jos jättää joitain featureita pois.  \n",
    "Strongest correlation between the target:\n",
    "| Feature | correlation with target |\n",
    "|---------|:-----------------------:|\n",
    "| NumHBondDonors|           0.689196|\n",
    "|NumOfConf|                0.513653\n",
    "|hydroperoxide |           0.314053\n",
    "|hydroxyl (alkyl)   |      0.310452\n",
    "|NumOfAtoms          |     0.307337\n",
    "|carboxylic acid      |    0.304259\n",
    "|NumOfC                |   0.262769\n",
    "|carbonylperoxynitrate  |  0.223739\n",
    "|MW                    |   0.199574\n",
    "|NumOfN                |   0.183152\n",
    "\n",
    "---------------------\n",
    "Strongest correlation pairs: \n",
    "| Feature | Feature | Correlation |\n",
    "|---------|---------|-------------|\n",
    "|NumOfO       |          MW          |      0.880358 |\n",
    "|NumOfC       |          NumOfAtoms   |     0.838402\n",
    "|NumOfN        |         MW           |     0.772575\n",
    "|NumOfAtoms    |         MW           |     0.707009\n",
    "|nitrate       |         NumOfN       |     0.687224\n",
    "|NumOfN        |         NumOfO       |     0.656750\n",
    "|hydroxyl (alkyl)|       NumHBondDonors |   0.632023\n",
    "|carbonylperoxynitrate|  NumOfO         |   0.510409\n",
    "|nitrate              |  NumOfAtoms     |   0.492108\n",
    "|NumOfN                | NumOfAtoms     |   0.491902"
   ]
  },
  {
   "cell_type": "code",
   "execution_count": null,
   "metadata": {},
   "outputs": [],
   "source": [
    "X_train = X_train.drop(columns=['MW', 'aromatic hydroxyl', 'C=C-C=O in non-aromatic ring', 'nitro', 'peroxide', 'C=C (non-aromatic)', 'NumOfC'])\n",
    "X_test = X_test.drop(columns=['MW', 'aromatic hydroxyl', 'C=C-C=O in non-aromatic ring', 'nitro', 'peroxide', 'C=C (non-aromatic)', 'NumOfC'])"
   ]
  },
  {
   "cell_type": "markdown",
   "metadata": {
    "nteract": {
     "transient": {
      "deleting": false
     }
    }
   },
   "source": [
    "Erilaisia malleja alla. Kaikki mallit käyttävät samaa nimeä `model`, eli vain viimeisenä koulutettu menee testeihin ja tallentuu.\n",
    "\n",
    "### 1. Dummy"
   ]
  },
  {
   "cell_type": "code",
   "execution_count": 83,
   "metadata": {
    "editable": true,
    "gather": {
     "logged": 1732052459650
    },
    "jupyter": {
     "outputs_hidden": false,
     "source_hidden": false
    },
    "nteract": {
     "transient": {
      "deleting": false
     }
    },
    "run_control": {
     "frozen": false
    }
   },
   "outputs": [
    {
     "name": "stderr",
     "output_type": "stream",
     "text": [
      "2024/11/21 16:18:35 INFO mlflow.utils.autologging_utils: Created MLflow autologging run with ID '9aaabb6b-85b1-4567-ad8a-c085e5cdd601', which will track hyperparameters, performance metrics, model artifacts, and lineage information for the current sklearn workflow\n",
      "2024/11/21 16:18:35 WARNING mlflow.utils.autologging_utils: MLflow autologging encountered a warning: \"c:\\Users\\mikkokallio\\AppData\\Local\\Programs\\Python\\Python312\\Lib\\site-packages\\mlflow\\types\\utils.py:407: UserWarning: Hint: Inferred schema contains integer column(s). Integer columns in Python cannot represent missing values. If your input data contains missing values at inference time, it will be encoded as floats and will cause a schema enforcement error. The best way to avoid this problem is to infer the model schema based on a realistic data sample (training dataset) that includes missing values. Alternatively, you can declare integer columns as doubles (float64) whenever these columns may have missing values. See `Handling Integers With Missing Values <https://www.mlflow.org/docs/latest/models.html#handling-integers-with-missing-values>`_ for more details.\"\n",
      "2024/11/21 16:18:37 WARNING mlflow.utils.autologging_utils: MLflow autologging encountered a warning: \"c:\\Users\\mikkokallio\\AppData\\Local\\Programs\\Python\\Python312\\Lib\\site-packages\\mlflow\\types\\utils.py:407: UserWarning: Hint: Inferred schema contains integer column(s). Integer columns in Python cannot represent missing values. If your input data contains missing values at inference time, it will be encoded as floats and will cause a schema enforcement error. The best way to avoid this problem is to infer the model schema based on a realistic data sample (training dataset) that includes missing values. Alternatively, you can declare integer columns as doubles (float64) whenever these columns may have missing values. See `Handling Integers With Missing Values <https://www.mlflow.org/docs/latest/models.html#handling-integers-with-missing-values>`_ for more details.\"\n"
     ]
    },
    {
     "name": "stdout",
     "output_type": "stream",
     "text": [
      "🏃 View run sad_kitchen_pc72hd6y at: https://swedencentral.api.azureml.ms/mlflow/v2.0/subscriptions/1c0e26b6-0fcb-4b6d-911c-2a0836275ea4/resourceGroups/rg-AML/providers/Microsoft.MachineLearningServices/workspaces/aml-data_science_masters/#/experiments/e59c04c4-74a6-4c62-86e6-370ea69518dd/runs/9aaabb6b-85b1-4567-ad8a-c085e5cdd601\n",
      "🧪 View experiment at: https://swedencentral.api.azureml.ms/mlflow/v2.0/subscriptions/1c0e26b6-0fcb-4b6d-911c-2a0836275ea4/resourceGroups/rg-AML/providers/Microsoft.MachineLearningServices/workspaces/aml-data_science_masters/#/experiments/e59c04c4-74a6-4c62-86e6-370ea69518dd\n"
     ]
    },
    {
     "name": "stderr",
     "output_type": "stream",
     "text": [
      "2024/11/21 16:18:54 WARNING mlflow.utils.autologging_utils: Encountered unexpected error during sklearn autologging: The following failures occurred while performing one or more logging operations: [MlflowException('Failed to perform one or more operations on the run with ID 9aaabb6b-85b1-4567-ad8a-c085e5cdd601. Failed operations: [RestException(\\'BAD_REQUEST: Response: {\\\\\\'Error\\\\\\': {\\\\\\'Code\\\\\\': \\\\\\'UserError\\\\\\', \\\\\\'Severity\\\\\\': None, \\\\\\'Message\\\\\\': \"Could not log all inputs as datasets:\\\\\\\\nCREATE can\\\\\\'t modify existing entity, please use UPDATE.\", \\\\\\'MessageFormat\\\\\\': None, \\\\\\'MessageParameters\\\\\\': None, \\\\\\'ReferenceCode\\\\\\': None, \\\\\\'DetailsUri\\\\\\': None, \\\\\\'Target\\\\\\': None, \\\\\\'Details\\\\\\': [], \\\\\\'InnerError\\\\\\': None, \\\\\\'DebugInfo\\\\\\': None, \\\\\\'AdditionalInfo\\\\\\': None}, \\\\\\'Correlation\\\\\\': {\\\\\\'operation\\\\\\': \\\\\\'9a427ceb853959bb0e098d3b0db531a1\\\\\\', \\\\\\'request\\\\\\': \\\\\\'62d8ac1009c697c7\\\\\\'}, \\\\\\'Environment\\\\\\': \\\\\\'swedencentral\\\\\\', \\\\\\'Location\\\\\\': \\\\\\'swedencentral\\\\\\', \\\\\\'Time\\\\\\': \\\\\\'2024-11-21T14:18:37.2494492+00:00\\\\\\', \\\\\\'ComponentName\\\\\\': \\\\\\'mlflow\\\\\\', \\\\\\'statusCode\\\\\\': 400, \\\\\\'error_code\\\\\\': \\\\\\'BAD_REQUEST\\\\\\'}\\')]')]\n"
     ]
    }
   ],
   "source": [
    "model = DummyRegressor(strategy='mean')\n",
    "model.fit(X_train, y_train)\n",
    "\n",
    "df_test['log_pSat_Pa'] = model.predict(X_test)"
   ]
  },
  {
   "cell_type": "markdown",
   "metadata": {
    "nteract": {
     "transient": {
      "deleting": false
     }
    }
   },
   "source": [
    "### 2. Yksinkertainen regressio"
   ]
  },
  {
   "cell_type": "code",
   "execution_count": 84,
   "metadata": {
    "gather": {
     "logged": 1732052467120
    },
    "jupyter": {
     "outputs_hidden": false,
     "source_hidden": false
    },
    "nteract": {
     "transient": {
      "deleting": false
     }
    }
   },
   "outputs": [
    {
     "name": "stderr",
     "output_type": "stream",
     "text": [
      "2024/11/21 16:18:55 INFO mlflow.utils.autologging_utils: Created MLflow autologging run with ID '747030c3-d398-4ed6-a0c5-2eb4e6a5a6f6', which will track hyperparameters, performance metrics, model artifacts, and lineage information for the current sklearn workflow\n",
      "2024/11/21 16:18:55 WARNING mlflow.utils.autologging_utils: MLflow autologging encountered a warning: \"c:\\Users\\mikkokallio\\AppData\\Local\\Programs\\Python\\Python312\\Lib\\site-packages\\mlflow\\types\\utils.py:407: UserWarning: Hint: Inferred schema contains integer column(s). Integer columns in Python cannot represent missing values. If your input data contains missing values at inference time, it will be encoded as floats and will cause a schema enforcement error. The best way to avoid this problem is to infer the model schema based on a realistic data sample (training dataset) that includes missing values. Alternatively, you can declare integer columns as doubles (float64) whenever these columns may have missing values. See `Handling Integers With Missing Values <https://www.mlflow.org/docs/latest/models.html#handling-integers-with-missing-values>`_ for more details.\"\n",
      "2024/11/21 16:18:57 WARNING mlflow.utils.autologging_utils: MLflow autologging encountered a warning: \"c:\\Users\\mikkokallio\\AppData\\Local\\Programs\\Python\\Python312\\Lib\\site-packages\\mlflow\\types\\utils.py:407: UserWarning: Hint: Inferred schema contains integer column(s). Integer columns in Python cannot represent missing values. If your input data contains missing values at inference time, it will be encoded as floats and will cause a schema enforcement error. The best way to avoid this problem is to infer the model schema based on a realistic data sample (training dataset) that includes missing values. Alternatively, you can declare integer columns as doubles (float64) whenever these columns may have missing values. See `Handling Integers With Missing Values <https://www.mlflow.org/docs/latest/models.html#handling-integers-with-missing-values>`_ for more details.\"\n"
     ]
    },
    {
     "name": "stdout",
     "output_type": "stream",
     "text": [
      "🏃 View run clever_stone_g5hxwq6c at: https://swedencentral.api.azureml.ms/mlflow/v2.0/subscriptions/1c0e26b6-0fcb-4b6d-911c-2a0836275ea4/resourceGroups/rg-AML/providers/Microsoft.MachineLearningServices/workspaces/aml-data_science_masters/#/experiments/e59c04c4-74a6-4c62-86e6-370ea69518dd/runs/747030c3-d398-4ed6-a0c5-2eb4e6a5a6f6\n",
      "🧪 View experiment at: https://swedencentral.api.azureml.ms/mlflow/v2.0/subscriptions/1c0e26b6-0fcb-4b6d-911c-2a0836275ea4/resourceGroups/rg-AML/providers/Microsoft.MachineLearningServices/workspaces/aml-data_science_masters/#/experiments/e59c04c4-74a6-4c62-86e6-370ea69518dd\n"
     ]
    },
    {
     "name": "stderr",
     "output_type": "stream",
     "text": [
      "2024/11/21 16:19:07 WARNING mlflow.utils.autologging_utils: Encountered unexpected error during sklearn autologging: The following failures occurred while performing one or more logging operations: [MlflowException('Failed to perform one or more operations on the run with ID 747030c3-d398-4ed6-a0c5-2eb4e6a5a6f6. Failed operations: [RestException(\\'BAD_REQUEST: Response: {\\\\\\'Error\\\\\\': {\\\\\\'Code\\\\\\': \\\\\\'UserError\\\\\\', \\\\\\'Severity\\\\\\': None, \\\\\\'Message\\\\\\': \"Could not log all inputs as datasets:\\\\\\\\nCREATE can\\\\\\'t modify existing entity, please use UPDATE.\", \\\\\\'MessageFormat\\\\\\': None, \\\\\\'MessageParameters\\\\\\': None, \\\\\\'ReferenceCode\\\\\\': None, \\\\\\'DetailsUri\\\\\\': None, \\\\\\'Target\\\\\\': None, \\\\\\'Details\\\\\\': [], \\\\\\'InnerError\\\\\\': None, \\\\\\'DebugInfo\\\\\\': None, \\\\\\'AdditionalInfo\\\\\\': None}, \\\\\\'Correlation\\\\\\': {\\\\\\'operation\\\\\\': \\\\\\'07a3841385123d18238ed69005e6a755\\\\\\', \\\\\\'request\\\\\\': \\\\\\'a36fb0fd9f885023\\\\\\'}, \\\\\\'Environment\\\\\\': \\\\\\'swedencentral\\\\\\', \\\\\\'Location\\\\\\': \\\\\\'swedencentral\\\\\\', \\\\\\'Time\\\\\\': \\\\\\'2024-11-21T14:18:56.7346524+00:00\\\\\\', \\\\\\'ComponentName\\\\\\': \\\\\\'mlflow\\\\\\', \\\\\\'statusCode\\\\\\': 400, \\\\\\'error_code\\\\\\': \\\\\\'BAD_REQUEST\\\\\\'}\\')]')]\n"
     ]
    }
   ],
   "source": [
    "model = LinearRegression()\n",
    "model.fit(X_train, y_train)\n",
    "\n",
    "df_test['log_pSat_Pa'] = model.predict(X_test)"
   ]
  },
  {
   "cell_type": "markdown",
   "metadata": {
    "nteract": {
     "transient": {
      "deleting": false
     }
    }
   },
   "source": [
    "### 3. Random Forest"
   ]
  },
  {
   "cell_type": "code",
   "execution_count": 85,
   "metadata": {
    "gather": {
     "logged": 1732052550516
    },
    "jupyter": {
     "outputs_hidden": false,
     "source_hidden": false
    },
    "nteract": {
     "transient": {
      "deleting": false
     }
    }
   },
   "outputs": [
    {
     "name": "stderr",
     "output_type": "stream",
     "text": [
      "2024/11/21 16:19:07 INFO mlflow.utils.autologging_utils: Created MLflow autologging run with ID '90a1ec9c-88d9-4c82-9f00-4ff8be0ddd00', which will track hyperparameters, performance metrics, model artifacts, and lineage information for the current sklearn workflow\n",
      "2024/11/21 16:19:08 WARNING mlflow.utils.autologging_utils: MLflow autologging encountered a warning: \"c:\\Users\\mikkokallio\\AppData\\Local\\Programs\\Python\\Python312\\Lib\\site-packages\\mlflow\\types\\utils.py:407: UserWarning: Hint: Inferred schema contains integer column(s). Integer columns in Python cannot represent missing values. If your input data contains missing values at inference time, it will be encoded as floats and will cause a schema enforcement error. The best way to avoid this problem is to infer the model schema based on a realistic data sample (training dataset) that includes missing values. Alternatively, you can declare integer columns as doubles (float64) whenever these columns may have missing values. See `Handling Integers With Missing Values <https://www.mlflow.org/docs/latest/models.html#handling-integers-with-missing-values>`_ for more details.\"\n",
      "2024/11/21 16:19:24 WARNING mlflow.utils.autologging_utils: MLflow autologging encountered a warning: \"c:\\Users\\mikkokallio\\AppData\\Local\\Programs\\Python\\Python312\\Lib\\site-packages\\mlflow\\types\\utils.py:407: UserWarning: Hint: Inferred schema contains integer column(s). Integer columns in Python cannot represent missing values. If your input data contains missing values at inference time, it will be encoded as floats and will cause a schema enforcement error. The best way to avoid this problem is to infer the model schema based on a realistic data sample (training dataset) that includes missing values. Alternatively, you can declare integer columns as doubles (float64) whenever these columns may have missing values. See `Handling Integers With Missing Values <https://www.mlflow.org/docs/latest/models.html#handling-integers-with-missing-values>`_ for more details.\"\n"
     ]
    },
    {
     "name": "stdout",
     "output_type": "stream",
     "text": [
      "🏃 View run jovial_crowd_9tccpyfm at: https://swedencentral.api.azureml.ms/mlflow/v2.0/subscriptions/1c0e26b6-0fcb-4b6d-911c-2a0836275ea4/resourceGroups/rg-AML/providers/Microsoft.MachineLearningServices/workspaces/aml-data_science_masters/#/experiments/e59c04c4-74a6-4c62-86e6-370ea69518dd/runs/90a1ec9c-88d9-4c82-9f00-4ff8be0ddd00\n",
      "🧪 View experiment at: https://swedencentral.api.azureml.ms/mlflow/v2.0/subscriptions/1c0e26b6-0fcb-4b6d-911c-2a0836275ea4/resourceGroups/rg-AML/providers/Microsoft.MachineLearningServices/workspaces/aml-data_science_masters/#/experiments/e59c04c4-74a6-4c62-86e6-370ea69518dd\n"
     ]
    },
    {
     "name": "stderr",
     "output_type": "stream",
     "text": [
      "2024/11/21 16:20:05 WARNING mlflow.utils.autologging_utils: Encountered unexpected error during sklearn autologging: The following failures occurred while performing one or more logging operations: [MlflowException('Failed to perform one or more operations on the run with ID 90a1ec9c-88d9-4c82-9f00-4ff8be0ddd00. Failed operations: [RestException(\\'BAD_REQUEST: Response: {\\\\\\'Error\\\\\\': {\\\\\\'Code\\\\\\': \\\\\\'UserError\\\\\\', \\\\\\'Severity\\\\\\': None, \\\\\\'Message\\\\\\': \"Could not log all inputs as datasets:\\\\\\\\nCREATE can\\\\\\'t modify existing entity, please use UPDATE.\", \\\\\\'MessageFormat\\\\\\': None, \\\\\\'MessageParameters\\\\\\': None, \\\\\\'ReferenceCode\\\\\\': None, \\\\\\'DetailsUri\\\\\\': None, \\\\\\'Target\\\\\\': None, \\\\\\'Details\\\\\\': [], \\\\\\'InnerError\\\\\\': None, \\\\\\'DebugInfo\\\\\\': None, \\\\\\'AdditionalInfo\\\\\\': None}, \\\\\\'Correlation\\\\\\': {\\\\\\'operation\\\\\\': \\\\\\'c185a95272dbd1df145f9cd6338a5260\\\\\\', \\\\\\'request\\\\\\': \\\\\\'e23a1c7374a2966f\\\\\\'}, \\\\\\'Environment\\\\\\': \\\\\\'swedencentral\\\\\\', \\\\\\'Location\\\\\\': \\\\\\'swedencentral\\\\\\', \\\\\\'Time\\\\\\': \\\\\\'2024-11-21T14:19:09.0466053+00:00\\\\\\', \\\\\\'ComponentName\\\\\\': \\\\\\'mlflow\\\\\\', \\\\\\'statusCode\\\\\\': 400, \\\\\\'error_code\\\\\\': \\\\\\'BAD_REQUEST\\\\\\'}\\')]')]\n"
     ]
    }
   ],
   "source": [
    "model = RandomForestRegressor(random_state=190)\n",
    "model.fit(X_train, y_train)\n",
    "\n",
    "df_test['log_pSat_Pa'] = model.predict(X_test)"
   ]
  },
  {
   "cell_type": "markdown",
   "metadata": {},
   "source": [
    "### 4. Gradient Boosting Regressor"
   ]
  },
  {
   "cell_type": "code",
   "execution_count": 86,
   "metadata": {},
   "outputs": [
    {
     "name": "stderr",
     "output_type": "stream",
     "text": [
      "2024/11/21 16:20:05 INFO mlflow.utils.autologging_utils: Created MLflow autologging run with ID 'fa8ad584-0749-4e84-bcfa-dc26f2381b59', which will track hyperparameters, performance metrics, model artifacts, and lineage information for the current sklearn workflow\n",
      "2024/11/21 16:20:05 WARNING mlflow.utils.autologging_utils: MLflow autologging encountered a warning: \"c:\\Users\\mikkokallio\\AppData\\Local\\Programs\\Python\\Python312\\Lib\\site-packages\\mlflow\\types\\utils.py:407: UserWarning: Hint: Inferred schema contains integer column(s). Integer columns in Python cannot represent missing values. If your input data contains missing values at inference time, it will be encoded as floats and will cause a schema enforcement error. The best way to avoid this problem is to infer the model schema based on a realistic data sample (training dataset) that includes missing values. Alternatively, you can declare integer columns as doubles (float64) whenever these columns may have missing values. See `Handling Integers With Missing Values <https://www.mlflow.org/docs/latest/models.html#handling-integers-with-missing-values>`_ for more details.\"\n",
      "2024/11/21 16:20:10 WARNING mlflow.utils.autologging_utils: MLflow autologging encountered a warning: \"c:\\Users\\mikkokallio\\AppData\\Local\\Programs\\Python\\Python312\\Lib\\site-packages\\mlflow\\types\\utils.py:407: UserWarning: Hint: Inferred schema contains integer column(s). Integer columns in Python cannot represent missing values. If your input data contains missing values at inference time, it will be encoded as floats and will cause a schema enforcement error. The best way to avoid this problem is to infer the model schema based on a realistic data sample (training dataset) that includes missing values. Alternatively, you can declare integer columns as doubles (float64) whenever these columns may have missing values. See `Handling Integers With Missing Values <https://www.mlflow.org/docs/latest/models.html#handling-integers-with-missing-values>`_ for more details.\"\n"
     ]
    },
    {
     "name": "stdout",
     "output_type": "stream",
     "text": [
      "🏃 View run blue_garlic_qdqyhgjn at: https://swedencentral.api.azureml.ms/mlflow/v2.0/subscriptions/1c0e26b6-0fcb-4b6d-911c-2a0836275ea4/resourceGroups/rg-AML/providers/Microsoft.MachineLearningServices/workspaces/aml-data_science_masters/#/experiments/e59c04c4-74a6-4c62-86e6-370ea69518dd/runs/fa8ad584-0749-4e84-bcfa-dc26f2381b59\n",
      "🧪 View experiment at: https://swedencentral.api.azureml.ms/mlflow/v2.0/subscriptions/1c0e26b6-0fcb-4b6d-911c-2a0836275ea4/resourceGroups/rg-AML/providers/Microsoft.MachineLearningServices/workspaces/aml-data_science_masters/#/experiments/e59c04c4-74a6-4c62-86e6-370ea69518dd\n"
     ]
    },
    {
     "name": "stderr",
     "output_type": "stream",
     "text": [
      "2024/11/21 16:20:19 WARNING mlflow.utils.autologging_utils: Encountered unexpected error during sklearn autologging: The following failures occurred while performing one or more logging operations: [MlflowException('Failed to perform one or more operations on the run with ID fa8ad584-0749-4e84-bcfa-dc26f2381b59. Failed operations: [RestException(\\'BAD_REQUEST: Response: {\\\\\\'Error\\\\\\': {\\\\\\'Code\\\\\\': \\\\\\'UserError\\\\\\', \\\\\\'Severity\\\\\\': None, \\\\\\'Message\\\\\\': \"Could not log all inputs as datasets:\\\\\\\\nCREATE can\\\\\\'t modify existing entity, please use UPDATE.\", \\\\\\'MessageFormat\\\\\\': None, \\\\\\'MessageParameters\\\\\\': None, \\\\\\'ReferenceCode\\\\\\': None, \\\\\\'DetailsUri\\\\\\': None, \\\\\\'Target\\\\\\': None, \\\\\\'Details\\\\\\': [], \\\\\\'InnerError\\\\\\': None, \\\\\\'DebugInfo\\\\\\': None, \\\\\\'AdditionalInfo\\\\\\': None}, \\\\\\'Correlation\\\\\\': {\\\\\\'operation\\\\\\': \\\\\\'5d821410f42f0aa3be85f9836396eb24\\\\\\', \\\\\\'request\\\\\\': \\\\\\'d0f04a6f6e790333\\\\\\'}, \\\\\\'Environment\\\\\\': \\\\\\'swedencentral\\\\\\', \\\\\\'Location\\\\\\': \\\\\\'swedencentral\\\\\\', \\\\\\'Time\\\\\\': \\\\\\'2024-11-21T14:20:06.959245+00:00\\\\\\', \\\\\\'ComponentName\\\\\\': \\\\\\'mlflow\\\\\\', \\\\\\'statusCode\\\\\\': 400, \\\\\\'error_code\\\\\\': \\\\\\'BAD_REQUEST\\\\\\'}\\')]')]\n"
     ]
    }
   ],
   "source": [
    "model = GradientBoostingRegressor(random_state=190)\n",
    "model.fit(X_train, y_train)\n",
    "\n",
    "df_test['log_pSat_Pa'] = model.predict(X_test)"
   ]
  },
  {
   "cell_type": "markdown",
   "metadata": {
    "nteract": {
     "transient": {
      "deleting": false
     }
    }
   },
   "source": [
    "## Mallien arviointi"
   ]
  },
  {
   "cell_type": "code",
   "execution_count": 87,
   "metadata": {
    "gather": {
     "logged": 1732045866694
    },
    "jupyter": {
     "outputs_hidden": false,
     "source_hidden": false
    },
    "nteract": {
     "transient": {
      "deleting": false
     }
    }
   },
   "outputs": [
    {
     "name": "stdout",
     "output_type": "stream",
     "text": [
      "Train loss: 2.6116312914299806\n",
      "CV loss mean: 2.6794213727758844\n",
      "Train R^2: 0.7317339554862234\n",
      "CV R^2: 0.7246891200107113\n"
     ]
    }
   ],
   "source": [
    "### Train loss\n",
    "y_train_pred = model.predict(X_train)\n",
    "train_loss = mean_squared_error(y_train, y_train_pred)\n",
    "\n",
    "### 5-fold cross-validation\n",
    "results = []\n",
    "kf = KFold(n_splits=5, shuffle=True, random_state=190)\n",
    "mse_scorer = make_scorer(mean_squared_error)\n",
    "cv_scores = cross_val_score(model, X_train, y_train, cv=kf, scoring=mse_scorer)\n",
    "cv_loss_mean = cv_scores.mean()\n",
    "\n",
    "r2_train = r2_score(y_train, y_train_pred)\n",
    "r2_cv = cross_val_score(model, X_train, y_train, cv=kf, scoring='r2').mean()\n",
    "\n",
    "print('Train loss:', train_loss)\n",
    "print('CV loss mean:', cv_loss_mean)\n",
    "print('Train R^2:', r2_train)\n",
    "print('CV R^2:', r2_cv)"
   ]
  },
  {
   "cell_type": "markdown",
   "metadata": {
    "nteract": {
     "transient": {
      "deleting": false
     }
    }
   },
   "source": [
    "## Ennustuksen tallentaminen"
   ]
  },
  {
   "cell_type": "code",
   "execution_count": 88,
   "metadata": {
    "gather": {
     "logged": 1732046039632
    },
    "jupyter": {
     "outputs_hidden": false,
     "source_hidden": false
    },
    "nteract": {
     "transient": {
      "deleting": false
     }
    }
   },
   "outputs": [],
   "source": [
    "df_test[['ID', 'log_pSat_Pa']].to_csv('../submission/submission.csv', index=False)"
   ]
  }
 ],
 "metadata": {
  "kernel_info": {
   "name": "python310-sdkv2"
  },
  "kernelspec": {
   "display_name": "base",
   "language": "python",
   "name": "python3"
  },
  "language_info": {
   "codemirror_mode": {
    "name": "ipython",
    "version": 3
   },
   "file_extension": ".py",
   "mimetype": "text/x-python",
   "name": "python",
   "nbconvert_exporter": "python",
   "pygments_lexer": "ipython3",
   "version": "3.12.7"
  },
  "microsoft": {
   "host": {
    "AzureML": {
     "notebookHasBeenCompleted": true
    }
   },
   "ms_spell_check": {
    "ms_spell_check_language": "en"
   }
  },
  "nteract": {
   "version": "nteract-front-end@1.0.0"
  }
 },
 "nbformat": 4,
 "nbformat_minor": 2
}
