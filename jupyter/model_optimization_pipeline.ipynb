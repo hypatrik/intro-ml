{
 "cells": [
  {
   "cell_type": "markdown",
   "metadata": {
    "nteract": {
     "transient": {
      "deleting": false
     }
    }
   },
   "source": [
    "# Ryhmä-190"
   ]
  },
  {
   "cell_type": "markdown",
   "metadata": {
    "nteract": {
     "transient": {
      "deleting": false
     }
    }
   },
   "source": [
    "## Python-paketit"
   ]
  },
  {
   "cell_type": "code",
   "execution_count": 12,
   "metadata": {
    "gather": {
     "logged": 1732052063268
    },
    "jupyter": {
     "outputs_hidden": false,
     "source_hidden": false
    },
    "nteract": {
     "transient": {
      "deleting": false
     }
    }
   },
   "outputs": [],
   "source": [
    "import pandas as pd\n",
    "import numpy as np\n",
    "from scipy.stats import boxcox, yeojohnson\n",
    "from sklearn.metrics import mean_squared_error, make_scorer, r2_score\n",
    "from sklearn.model_selection import KFold, cross_val_score"
   ]
  },
  {
   "cell_type": "markdown",
   "metadata": {},
   "source": [
    "# Hyödylliset funktiot"
   ]
  },
  {
   "cell_type": "code",
   "execution_count": 13,
   "metadata": {},
   "outputs": [],
   "source": [
    "def add_meaningful_features(orig_df):\n",
    "    df = orig_df.copy()\n",
    "    df = df.replace([np.inf, -np.inf], np.nan).fillna(0)\n",
    "\n",
    "    df['AtomFraction'] = (df['NumOfC'] + df['NumOfO'] + df['NumOfN']) / df['NumOfAtoms']\n",
    "    df['Polarity'] = df['NumHBondDonors'] / df['MW']\n",
    "    df['HBondDensity'] = df['NumHBondDonors'] / df['NumOfAtoms']\n",
    "    df['GroupDensity_CarboxylicAcid'] = df['carboxylic acid'] / df['MW']\n",
    "    df['Unsaturation'] = df['C=C (non-aromatic)'] + df['C=C-C=O in non-aromatic ring']\n",
    "    df['ConfigurationalComplexity'] = df['NumOfConf'] / df['MW']\n",
    "\n",
    "    df = pd.get_dummies(df, columns=['parentspecies'], drop_first=True)\n",
    "    df['HydrogenBondPotential'] = df['NumHBondDonors'] + (df['NumOfO'] + df['NumOfN'])\n",
    "    polar_groups = ['hydroxyl (alkyl)', 'aldehyde', 'ketone', 'carboxylic acid', 'ester', 'nitro']\n",
    "    df['PolarGroupCount'] = df[polar_groups].sum(axis=1)\n",
    "    df['AromaticGroupFraction'] = df['aromatic hydroxyl'] / (df[polar_groups + ['aromatic hydroxyl']].sum(axis=1) + 1e-9)\n",
    "    df['MolecularSize'] = df['MW'] + df['NumOfAtoms']\n",
    "    df['DegreeOfUnsaturation'] = df['NumOfC'] + 1 - (df['NumOfAtoms'] - df['NumOfC']) / 2\n",
    "    df['FlexibilityRatio'] = df['NumOfConfUsed'] / (df['NumOfConf'] + 1e-9)\n",
    "    df['PolarityIndex'] = (df['NumOfO'] + df['NumOfN'] + df[polar_groups].sum(axis=1)) / (df['NumOfC'] + df['C=C (non-aromatic)'] + 1e-9)\n",
    "    df['Hydrophobicity'] = df['NumOfC'] / (df['NumOfAtoms'] + 1e-9)\n",
    "    functional_groups = [\n",
    "        'C=C (non-aromatic)', 'hydroxyl (alkyl)', 'aldehyde', 'ketone',\n",
    "        'carboxylic acid', 'ester', 'ether (alicyclic)', 'nitrate',\n",
    "        'nitro', 'aromatic hydroxyl', 'carbonylperoxynitrate', 'peroxide',\n",
    "        'hydroperoxide', 'carbonylperoxyacid', 'nitroester'\n",
    "    ]\n",
    "    for group in functional_groups:\n",
    "        df[f'{group}_Indicator'] = (df[group] > 0).astype(int)\n",
    "\n",
    "    symmetric_groups = ['ester', 'ether (alicyclic)', 'ketone']\n",
    "    asymmetric_groups = ['aldehyde', 'carboxylic acid']\n",
    "    df['SymmetryIndex'] = df[symmetric_groups].sum(axis=1) / (df[symmetric_groups + asymmetric_groups].sum(axis=1) + 1e-9)\n",
    "    df['ShapeCompactness'] = df['NumOfAtoms'] / (df['NumOfConfUsed'] + 1e-9)\n",
    "    df['HydrogenBondDensity'] = df['NumHBondDonors'] / (df['MW'] + 1e-9)\n",
    "    df['VolatilityIndex'] = (\n",
    "        df['NumOfC'] / (df[polar_groups].sum(axis=1) + 1e-9) *\n",
    "        1 / (df['MW'] + 1e-9)\n",
    "    )\n",
    "    df['OxygenToCarbonRatio'] = df['NumOfO'] / (df['NumOfC'] + 1e-9)\n",
    "\n",
    "    return df"
   ]
  },
  {
   "cell_type": "code",
   "execution_count": 14,
   "metadata": {},
   "outputs": [],
   "source": [
    "def apply_transformations(df, selected_transformations):\n",
    "    trans_functions = {\n",
    "        'none': lambda x: x,\n",
    "        'log': lambda x: np.log(x + 1e-9),\n",
    "        'sqrt': lambda x: np.sqrt(x),\n",
    "        'square': lambda x: x**2,\n",
    "        'cube': lambda x: x**3,\n",
    "        'exp': lambda x: np.exp(x),\n",
    "        'reciprocal': lambda x: 1 / (x + 1e-9),\n",
    "        'boxcox': lambda x: boxcox(x + 1e-9)[0] if (x > 0).all() else x,\n",
    "        'yeojohnson': lambda x: yeojohnson(x)[0]\n",
    "    }\n",
    "    \n",
    "    df_transformed = df.copy()\n",
    "    for col, func in selected_transformations:\n",
    "        if func in trans_functions:\n",
    "            df_transformed[col] = trans_functions[func](df_transformed[col].astype(float))\n",
    "    \n",
    "    return df_transformed"
   ]
  },
  {
   "cell_type": "code",
   "execution_count": 15,
   "metadata": {},
   "outputs": [],
   "source": [
    "def evaluate_model(model, X_train, y_train, random_state=42):\n",
    "    ### Train loss\n",
    "    y_train_pred = model.predict(X_train)\n",
    "    train_loss = mean_squared_error(y_train, y_train_pred)\n",
    "\n",
    "    ### 5-fold cross-validation\n",
    "    kf = KFold(n_splits=5, shuffle=True, random_state=random_state)\n",
    "    mse_scorer = make_scorer(mean_squared_error)\n",
    "    cv_scores = cross_val_score(model, X_train, y_train, cv=kf, scoring=mse_scorer)\n",
    "    cv_loss_mean = cv_scores.mean()\n",
    "\n",
    "    r2_train = r2_score(y_train, y_train_pred)\n",
    "    r2_cv = cross_val_score(model, X_train, y_train, cv=kf, scoring='r2').mean()\n",
    "    \n",
    "    return train_loss, cv_loss_mean, r2_train, r2_cv"
   ]
  },
  {
   "cell_type": "code",
   "execution_count": 16,
   "metadata": {},
   "outputs": [],
   "source": [
    "best_transformations = [\n",
    "    ('AtomFraction', 'cube'),\n",
    "    ('GroupDensity_CarboxylicAcid', 'sqrt'),\n",
    "    ('ConfigurationalComplexity', 'yeojohnson'),\n",
    "    ('ShapeCompactness', 'log'),\n",
    "    ('VolatilityIndex', 'reciprocal'),\n",
    "    ('FlexibilityRatio', 'sqrt'),\n",
    "    ('PolarityIndex', 'sqrt'),\n",
    "    ('NumOfConfUsed', 'boxcox'),\n",
    "    ('DegreeOfUnsaturation', 'yeojohnson'),\n",
    "    ('Hydrophobicity', 'yeojohnson'),\n",
    "    ('HydrogenBondPotential', 'none'),\n",
    "    ('HBondDensity', 'none'),\n",
    "    ('SymmetryIndex', 'sqrt'),\n",
    "    ('NumOfConf', 'sqrt'),\n",
    "    ('NumOfC', 'cube'),\n",
    "    ('NumOfO', 'sqrt'),\n",
    "]\n",
    "best_features = ['AtomFraction', 'GroupDensity_CarboxylicAcid', 'ConfigurationalComplexity', 'carbonylperoxynitrate_Indicator', 'PolarityIndex', 'parentspecies_apin', 'aldehyde_Indicator', 'peroxide_Indicator', 'ShapeCompactness', 'FlexibilityRatio', 'VolatilityIndex', 'PolarGroupCount', 'HBondDensity', 'HydrogenBondPotential', 'nitro_Indicator', 'ester_Indicator', 'parentspecies_toluene', 'DegreeOfUnsaturation', 'Hydrophobicity', 'ketone_Indicator', 'nitroester_Indicator', 'hydroxyl (alkyl)', 'carbonylperoxyacid', 'NumOfConfUsed', 'aldehyde', 'SymmetryIndex', 'NumOfConf', 'NumOfC', 'nitro', 'C=C (non-aromatic)', 'C=C (non-aromatic)_Indicator', 'nitrate', 'carbonylperoxyacid_Indicator', 'hydroperoxide_Indicator', 'nitroester', 'carboxylic acid_Indicator', 'aromatic hydroxyl_Indicator', 'NumOfO', 'ether (alicyclic)_Indicator']"
   ]
  },
  {
   "cell_type": "markdown",
   "metadata": {
    "nteract": {
     "transient": {
      "deleting": false
     }
    }
   },
   "source": [
    "## Tietoaineistojen lataaminen"
   ]
  },
  {
   "cell_type": "code",
   "execution_count": 17,
   "metadata": {
    "gather": {
     "logged": 1732052424041
    },
    "jupyter": {
     "outputs_hidden": false,
     "source_hidden": false
    },
    "nteract": {
     "transient": {
      "deleting": false
     }
    }
   },
   "outputs": [],
   "source": [
    "df_train = pd.read_csv('../data/train.csv', encoding='utf-8', header=0)\n",
    "df_test = pd.read_csv('../data/test.csv', encoding='utf-8', header=0)"
   ]
  },
  {
   "cell_type": "markdown",
   "metadata": {
    "nteract": {
     "transient": {
      "deleting": false
     }
    }
   },
   "source": [
    "## Datan myllääminen"
   ]
  },
  {
   "cell_type": "code",
   "execution_count": 18,
   "metadata": {
    "gather": {
     "logged": 1732052445215
    },
    "jupyter": {
     "outputs_hidden": false,
     "source_hidden": false
    },
    "nteract": {
     "transient": {
      "deleting": false
     }
    }
   },
   "outputs": [],
   "source": [
    "# Erotetaan X ja y\n",
    "X_train, y_train = df_train.drop(columns=['log_pSat_Pa', 'ID']), df_train['log_pSat_Pa']\n",
    "X_test = df_test.drop(columns=['ID'])\n",
    "\n",
    "# Lisätään uusia featureita\n",
    "X_train_trans = add_meaningful_features(X_train)\n",
    "X_test_trans = add_meaningful_features(X_test)\n",
    "\n",
    "# Käytetään vain parhaita featureita\n",
    "X_train_trans = X_train_trans[best_features]\n",
    "X_test_trans = X_test_trans[best_features]\n",
    "\n",
    "# Käytetään vain parhaita transformaatioita\n",
    "X_train_trans = apply_transformations(X_train_trans, selected_transformations=best_transformations)\n",
    "X_test_trans = apply_transformations(X_test_trans, selected_transformations=best_transformations)\n"
   ]
  },
  {
   "cell_type": "markdown",
   "metadata": {},
   "source": [
    "# Hyperparametrien optimointi"
   ]
  },
  {
   "cell_type": "code",
   "execution_count": null,
   "metadata": {},
   "outputs": [
    {
     "name": "stderr",
     "output_type": "stream",
     "text": [
      "[I 2024-11-28 21:52:54,943] Using an existing study with name 'group-190-667f' instead of creating a new one.\n",
      "[I 2024-11-28 21:55:53,944] Trial 365 finished with value: 0.7551616528174083 and parameters: {'C': 3.743714072771044, 'epsilon': 0.4181396083593376, 'degree': 109, 'gamma': 0.016054894026586383, 'coef0': 0.03224675604183521, 'tol': 1.488194100684841e-05}. Best is trial 363 with value: 0.7551643425213456.\n",
      "[I 2024-11-28 21:59:39,434] Trial 366 finished with value: 0.7551647012847951 and parameters: {'C': 3.7440393529083638, 'epsilon': 0.4180445845887296, 'degree': 109, 'gamma': 0.015934893436197604, 'coef0': 0.03225762864511606, 'tol': 1.486922198548235e-05}. Best is trial 366 with value: 0.7551647012847951.\n",
      "[I 2024-11-28 22:03:05,391] Trial 367 finished with value: 0.7551662254972231 and parameters: {'C': 3.746384763392366, 'epsilon': 0.4178386759465985, 'degree': 109, 'gamma': 0.015928184517496148, 'coef0': 0.03219101131725596, 'tol': 1.4843329842875477e-05}. Best is trial 367 with value: 0.7551662254972231.\n",
      "[I 2024-11-28 22:06:27,477] Trial 368 finished with value: 0.755164382840814 and parameters: {'C': 3.742191618770949, 'epsilon': 0.4178900194943394, 'degree': 109, 'gamma': 0.01592184898484313, 'coef0': 0.032192390110477045, 'tol': 1.4892218626670343e-05}. Best is trial 367 with value: 0.7551662254972231.\n",
      "[I 2024-11-28 22:10:08,148] Trial 369 finished with value: 0.7551654958702763 and parameters: {'C': 3.745209695266524, 'epsilon': 0.41792883834486205, 'degree': 109, 'gamma': 0.015930888648668207, 'coef0': 0.0321650362738701, 'tol': 1.4898690798301371e-05}. Best is trial 367 with value: 0.7551662254972231.\n"
     ]
    }
   ],
   "source": [
    "import optuna\n",
    "from sklearn.discriminant_analysis import StandardScaler\n",
    "from sklearn.pipeline import make_pipeline\n",
    "from sklearn.svm import SVR\n",
    "\n",
    "def objective(trial):\n",
    "    svr_params = {        \n",
    "        \"C\": trial.suggest_float(\"C\", 3.2, 3.8),\n",
    "        \"epsilon\": trial.suggest_float(\"epsilon\", 0.35, 0.45),\n",
    "        \"kernel\": 'rbf',\n",
    "        \"degree\": trial.suggest_int(\"degree\", 100, 160),\n",
    "        \"gamma\": trial.suggest_float(\"gamma\", 0.014, 0.020),\n",
    "        \"coef0\": trial.suggest_float(\"coef0\", 0.032, 0.038),\n",
    "        #\"shrinking\": trial.suggest_categorical(\"shrinking\", [True, False]),\n",
    "        \"tol\": trial.suggest_float(\"tol\", 0.5e-5, 1.5e-5),\n",
    "        #\"cache_size\": 200,\n",
    "        #\"verbose\": False,\n",
    "        #\"max_iter\": -1,\n",
    "    }\n",
    "\n",
    "    model = make_pipeline(StandardScaler(), SVR(**svr_params))\n",
    "    #score = evaluate_model(model, X_train_trans, y_train)[3]\n",
    "    score = cross_val_score(model, X_train_trans, y_train, cv=5, scoring='r2').mean()\n",
    "    return score\n",
    "\n",
    "study_name = \"group-190-667f\"\n",
    "storage = \"sqlite:///optuna_190.sqlite3\"\n",
    "\n",
    "study = optuna.create_study(\n",
    "    direction=\"maximize\",\n",
    "    #sampler=optuna.samplers.TPESampler(seed=190),\n",
    "    study_name=study_name,\n",
    "    storage=storage,\n",
    "    load_if_exists=True\n",
    ")\n",
    "\n",
    "study.optimize(objective, n_trials=100)\n",
    "\n",
    "loaded_study = optuna.load_study(study_name=study_name, storage=storage)\n",
    "\n",
    "print(f\"The best score: {loaded_study.best_value}\")\n",
    "print(f\"The best hyperparameter combination: {loaded_study.best_params}\")\n",
    "\n",
    "# Trial 367 finished with value: 0.7551662254972231 and parameters: {'C': 3.746384763392366, 'epsilon': 0.4178386759465985, 'degree': 109, 'gamma': 0.015928184517496148, 'coef0': 0.03219101131725596, 'tol': 1.4843329842875477e-05}. Best is trial 367 with value: 0.7551662254972231."
   ]
  },
  {
   "cell_type": "code",
   "execution_count": null,
   "metadata": {},
   "outputs": [
    {
     "data": {
      "text/plain": [
       "np.float64(0.7494715461746723)"
      ]
     },
     "execution_count": 630,
     "metadata": {},
     "output_type": "execute_result"
    }
   ],
   "source": [
    "model = make_pipeline(StandardScaler(), SVR(C=3.3, epsilon=0.205, kernel='rbf'))\n",
    "model.fit(X_train_trans, y_train)\n",
    "score = evaluate_model(model, X_train_trans, y_train)\n",
    "print(score)"
   ]
  },
  {
   "cell_type": "markdown",
   "metadata": {
    "nteract": {
     "transient": {
      "deleting": false
     }
    }
   },
   "source": [
    "## Ennustuksen tallentaminen"
   ]
  },
  {
   "cell_type": "code",
   "execution_count": null,
   "metadata": {
    "gather": {
     "logged": 1732046039632
    },
    "jupyter": {
     "outputs_hidden": false,
     "source_hidden": false
    },
    "nteract": {
     "transient": {
      "deleting": false
     }
    }
   },
   "outputs": [],
   "source": [
    "df_test_trans['log_pSat_Pa'] = model.predict(X_test_trans.drop(columns=['log_pSat_Pa'], axis=1))\n",
    "df_test_trans[['ID', 'log_pSat_Pa']].to_csv('../submission/submission.csv', index=False)"
   ]
  },
  {
   "cell_type": "markdown",
   "metadata": {},
   "source": [
    "# Lisää työkaluja"
   ]
  },
  {
   "cell_type": "code",
   "execution_count": null,
   "metadata": {},
   "outputs": [],
   "source": [
    "import itertools\n",
    "from sklearn.model_selection import cross_val_score\n",
    "from sklearn.discriminant_analysis import StandardScaler\n",
    "from sklearn.pipeline import make_pipeline\n",
    "from sklearn.svm import SVR\n",
    "import sys\n",
    "\n",
    "sys.exit()\n",
    "\n",
    "def evaluate_model(model, X, y):\n",
    "    scores = cross_val_score(model, X, y, cv=5, scoring='r2')\n",
    "    return scores.mean()\n",
    "\n",
    "always_include = ['AtomFraction', 'GroupDensity_CarboxylicAcid', 'ConfigurationalComplexity', 'carbonylperoxynitrate_Indicator', 'PolarityIndex', 'parentspecies_apin', 'aldehyde_Indicator', 'peroxide_Indicator', 'ShapeCompactness', 'FlexibilityRatio', 'VolatilityIndex', 'PolarGroupCount', 'HBondDensity', 'HydrogenBondPotential', 'nitro_Indicator', 'ester_Indicator', 'parentspecies_toluene', 'DegreeOfUnsaturation', 'Hydrophobicity', 'ketone_Indicator', 'nitroester_Indicator', 'hydroxyl (alkyl)', 'carbonylperoxyacid', 'NumOfConfUsed', 'aldehyde', 'SymmetryIndex', 'NumOfConf', 'NumOfC', 'nitro', 'C=C (non-aromatic)', 'C=C (non-aromatic)_Indicator', 'nitrate', 'carbonylperoxyacid_Indicator', 'hydroperoxide_Indicator', 'nitroester', 'carboxylic acid_Indicator', 'aromatic hydroxyl_Indicator', 'NumOfO', 'ether (alicyclic)_Indicator']\n",
    "\n",
    "remaining_cols = [col for col in X_train_gbr.columns if col not in always_include]\n",
    "print(remaining_cols)\n",
    "#X_train_gbr = auto_transform(X_train_gbr, y_train)\n",
    "#X_train_gbr['DegreeOfUnsaturation'] = X_train_gbr['DegreeOfUnsaturation'].fillna(0)\n",
    "\n",
    "model = make_pipeline(StandardScaler(), SVR(C=3.3, epsilon=0.205, kernel='rbf'))\n",
    "\n",
    "best_score = -np.inf\n",
    "best_combination = None\n",
    "\n",
    "mode = 'none'\n",
    "\n",
    "if mode == 'add':\n",
    "    for L in range(0, len(remaining_cols) + 1):\n",
    "        for subset in itertools.combinations(remaining_cols, L):\n",
    "            current_combination = list(always_include) + list(subset)\n",
    "            X_subset = X_train_gbr[current_combination]\n",
    "            model.fit(X_subset, y_train)\n",
    "            score = evaluate_model(model, X_subset, y_train)\n",
    "            \n",
    "            if score > best_score:\n",
    "                best_score = score\n",
    "                best_combination = current_combination\n",
    "                print(f'New best combination: {best_combination} with score: {best_score:.10f}')\n",
    "elif mode == 'remove':\n",
    "    X_transformed = X_train_gbr.copy()\n",
    "    for col, trans_name in approved_transformations:\n",
    "        if trans_name in transformations:\n",
    "            X_transformed[col] = transformations[trans_name](X_transformed[col].astype(float))\n",
    "    for L in range(0, len(always_include) + 1):\n",
    "        for subset in itertools.combinations(always_include, L):\n",
    "            current_combination = [col for col in always_include if col not in subset]\n",
    "            X_subset = X_transformed[current_combination]\n",
    "            model.fit(X_subset, y_train)\n",
    "            score = evaluate_model(model, X_subset, y_train)\n",
    "            \n",
    "            if score > best_score:\n",
    "                best_score = score\n",
    "                best_combination = current_combination\n",
    "                print(f'New best combination: {best_combination} with score: {best_score:.10f}')\n",
    "elif mode == \"replace\":\n",
    "    for included_col in always_include:\n",
    "        for excluded_col in remaining_cols:\n",
    "            current_combination = [col for col in always_include if col != included_col] + [excluded_col]\n",
    "            X_subset = X_train_gbr[current_combination]\n",
    "            model.fit(X_subset, y_train)\n",
    "            score = evaluate_model(model, X_subset, y_train)\n",
    "            \n",
    "            if score > best_score:\n",
    "                best_score = score\n",
    "                best_combination = current_combination\n",
    "                print(f'New best combination: {best_combination} with score: {best_score:.10f}')\n",
    "elif mode == \"transform\":\n",
    "    X_transformed = X_train_gbr.copy()\n",
    "    for col, trans_name in approved_transformations:\n",
    "        if trans_name in transformations:\n",
    "            X_transformed[col] = transformations[trans_name](X_transformed[col].astype(float))\n",
    "    \n",
    "    ### Otetaan baseline ilman muunnoksia ensin\n",
    "    X_subset = X_transformed[always_include]\n",
    "    model.fit(X_subset, y_train)\n",
    "    baseline_score = evaluate_model(model, X_subset, y_train)\n",
    "    print(f'Baseline score with no transformation: {baseline_score:.10f}')\n",
    "    \n",
    "    ### Käydään kaikki transformaatiot läpi\n",
    "    for col in always_include:\n",
    "        if any(col == approved_col for approved_col, _ in approved_transformations):\n",
    "            continue  # Skip columns with approved transformations\n",
    "        if X_train_gbr[col].nunique() < 10:\n",
    "            continue\n",
    "        for name, transform in transformations.items():\n",
    "            try:\n",
    "                X_temp = X_transformed.copy()\n",
    "                X_temp[col] = transform(X_temp[col].astype(float))\n",
    "                \n",
    "                if np.any(np.isinf(X_temp[col])) or np.any(np.abs(X_temp[col]) > 1e10):\n",
    "                    raise ValueError(f\"Transformation {name} for {col} resulted in infinities or excessively large values.\")\n",
    "                \n",
    "                X_subset = X_temp[always_include]\n",
    "                model.fit(X_subset, y_train)\n",
    "                score = evaluate_model(model, X_subset, y_train)\n",
    "                print(f'Transformation: {col} with {name} transformation, score: {score:.10f}')\n",
    "                if score > best_score:\n",
    "                    best_score = score\n",
    "                    best_combination = (col, name)\n",
    "                    #print(f'New best transformation: {col} with {name} transformation, score: {best_score:.10f}')\n",
    "            except Exception as e:\n",
    "                print(f\"Skipping transformation {name} for {col} due to error: {e}\")\n",
    "elif mode == \"transform_replace\":\n",
    "    for included_col in always_include:\n",
    "        for excluded_col in remaining_cols:\n",
    "            for name, transform in transformations.items():\n",
    "                try:\n",
    "                    X_temp = X_train_gbr.copy()\n",
    "                    X_temp[excluded_col] = transform(X_temp[excluded_col].astype(float))\n",
    "                    \n",
    "                    # Check for infinities or excessively large values\n",
    "                    if np.any(np.isinf(X_temp[excluded_col])) or np.any(np.abs(X_temp[excluded_col]) > 1e10):\n",
    "                        raise ValueError(f\"Transformation {name} for {excluded_col} resulted in infinities or excessively large values.\")\n",
    "                    \n",
    "                    current_combination = [col for col in always_include if col != included_col] + [excluded_col]\n",
    "                    X_subset = X_temp[current_combination]\n",
    "                    model.fit(X_subset, y_train)\n",
    "                    score = evaluate_model(model, X_subset, y_train)\n",
    "                    \n",
    "                    if score > best_score:\n",
    "                        best_score = score\n",
    "                        best_combination = (included_col, excluded_col, name)\n",
    "                        print(f'New best transformation and replacement: Replace {included_col} with {excluded_col} using {name} transformation, score: {best_score:.10f}')\n",
    "                except Exception as e:\n",
    "                    print(f\"Skipping transformation {name} for {excluded_col} due to error: {e}\")\n",
    "elif mode == \"transform_add\":\n",
    "    for excluded_col in remaining_cols:\n",
    "        for name, transform in transformations.items():\n",
    "            try:\n",
    "                X_temp = X_train_gbr.copy()\n",
    "                X_temp[excluded_col] = transform(X_temp[excluded_col].astype(float))\n",
    "                \n",
    "                # Check for infinities or excessively large values\n",
    "                if np.any(np.isinf(X_temp[excluded_col])) or np.any(np.abs(X_temp[excluded_col]) > 1e10):\n",
    "                    raise ValueError(f\"Transformation {name} for {excluded_col} resulted in infinities or excessively large values.\")\n",
    "                \n",
    "                current_combination = list(always_include) + [excluded_col]\n",
    "                X_subset = X_temp[current_combination]\n",
    "                model.fit(X_subset, y_train)\n",
    "                score = evaluate_model(model, X_subset, y_train)\n",
    "                \n",
    "                if score > best_score:\n",
    "                    best_score = score\n",
    "                    best_combination = (excluded_col, name)\n",
    "                    print(f'New best transformation and addition: Add {excluded_col} using {name} transformation, score: {best_score:.10f}')\n",
    "            except Exception as e:\n",
    "                print(f\"Skipping transformation {name} for {excluded_col} due to error: {e}\")\n",
    "\n",
    "print(f'Best combination: {best_combination} with score: {best_score:.10f}')\n"
   ]
  }
 ],
 "metadata": {
  "kernel_info": {
   "name": "python310-sdkv2"
  },
  "kernelspec": {
   "display_name": "Python 3",
   "language": "python",
   "name": "python3"
  },
  "language_info": {
   "codemirror_mode": {
    "name": "ipython",
    "version": 3
   },
   "file_extension": ".py",
   "mimetype": "text/x-python",
   "name": "python",
   "nbconvert_exporter": "python",
   "pygments_lexer": "ipython3",
   "version": "3.12.7"
  },
  "microsoft": {
   "host": {
    "AzureML": {
     "notebookHasBeenCompleted": true
    }
   },
   "ms_spell_check": {
    "ms_spell_check_language": "en"
   }
  },
  "nteract": {
   "version": "nteract-front-end@1.0.0"
  }
 },
 "nbformat": 4,
 "nbformat_minor": 2
}
