{
 "cells": [
  {
   "cell_type": "markdown",
   "metadata": {
    "nteract": {
     "transient": {
      "deleting": false
     }
    }
   },
   "source": [
    "# Ryhmä-190"
   ]
  },
  {
   "cell_type": "markdown",
   "metadata": {
    "nteract": {
     "transient": {
      "deleting": false
     }
    }
   },
   "source": [
    "## Python-paketit"
   ]
  },
  {
   "cell_type": "code",
   "execution_count": 154,
   "metadata": {
    "gather": {
     "logged": 1732052063268
    },
    "jupyter": {
     "outputs_hidden": false,
     "source_hidden": false
    },
    "nteract": {
     "transient": {
      "deleting": false
     }
    }
   },
   "outputs": [],
   "source": [
    "import pandas as pd\n",
    "import numpy as np\n",
    "from scipy.stats import boxcox, yeojohnson\n",
    "from sklearn.metrics import mean_squared_error, make_scorer, r2_score\n",
    "from sklearn.model_selection import KFold, cross_val_score\n",
    "from sklearn.discriminant_analysis import StandardScaler\n",
    "from sklearn.pipeline import make_pipeline\n",
    "from sklearn.svm import SVR\n",
    "import optuna"
   ]
  },
  {
   "cell_type": "markdown",
   "metadata": {},
   "source": [
    "# Hyödylliset funktiot"
   ]
  },
  {
   "cell_type": "code",
   "execution_count": null,
   "metadata": {},
   "outputs": [
    {
     "data": {
      "text/plain": [
       "'\\nInteraction: AtomFraction * ConfigurationalComplexity without dropping, score: 0.7560278346\\n\\nInteraction: AtomFraction * PolarityIndex without dropping, score: 0.7560108461\\nInteraction: AtomFraction * NumOfConf without dropping, score: 0.7560105166\\n\\nInteraction: AtomFraction * HBondDensity without dropping, score: 0.7560048303\\nInteraction: AtomFraction * NumOfC without dropping, score: 0.7560042148\\nInteraction: FlexibilityRatio * DegreeOfUnsaturation without dropping, score: 0.7560274584\\nInteraction: HBondDensity * HydrogenBondPotential without dropping, score: 0.7560235582\\nInteraction: HydrogenBondPotential * Hydrophobicity without dropping, score: 0.7560055501\\n\\nInteraction: AtomFraction * ShapeCompactness without dropping, score: 0.7559040892\\nInteraction: AtomFraction * VolatilityIndex without dropping, score: 0.7559979380\\nInteraction: AtomFraction * HydrogenBondPotential without dropping, score: 0.7559576663\\nInteraction: AtomFraction * NumOfConfUsed without dropping, score: 0.7559198741\\nInteraction: AtomFraction * SymmetryIndex without dropping, score: 0.7558685000\\nInteraction: AtomFraction * NumOfO without dropping, score: 0.7559926022\\nInteraction: ConfigurationalComplexity * PolarityIndex without dropping, score: 0.7558626185\\nInteraction: ConfigurationalComplexity * FlexibilityRatio without dropping, score: 0.7558668887\\nInteraction: ConfigurationalComplexity * NumOfConfUsed without dropping, score: 0.7558849803\\nInteraction: ConfigurationalComplexity * NumOfC without dropping, score: 0.7558844359\\nInteraction: PolarityIndex * VolatilityIndex without dropping, score: 0.7558979447\\nInteraction: PolarityIndex * HBondDensity without dropping, score: 0.7558667387\\nInteraction: PolarityIndex * DegreeOfUnsaturation without dropping, score: 0.7558811300\\nInteraction: PolarityIndex * Hydrophobicity without dropping, score: 0.7559684640\\nInteraction: PolarityIndex * NumOfConfUsed without dropping, score: 0.7559142781\\nInteraction: ShapeCompactness * HydrogenBondPotential without dropping, score: 0.7558702538\\nInteraction: ShapeCompactness * NumOfConfUsed without dropping, score: 0.7559349979\\nInteraction: ShapeCompactness * NumOfC without dropping, score: 0.7559091254\\nInteraction: ShapeCompactness * NumOfO without dropping, score: 0.7558826593\\nInteraction: FlexibilityRatio * HydrogenBondPotential without dropping, score: 0.7559498362\\nInteraction: FlexibilityRatio * Hydrophobicity without dropping, score: 0.7559082858\\nInteraction: FlexibilityRatio * NumOfConfUsed without dropping, score: 0.7558657745\\nInteraction: FlexibilityRatio * NumOfConf without dropping, score: 0.7558783092\\nInteraction: FlexibilityRatio * NumOfO without dropping, score: 0.7558912306\\nInteraction: VolatilityIndex * HydrogenBondPotential without dropping, score: 0.7558946850\\nInteraction: VolatilityIndex * Hydrophobicity without dropping, score: 0.7559729644\\nInteraction: VolatilityIndex * NumOfConfUsed without dropping, score: 0.7559306484\\nInteraction: VolatilityIndex * NumOfConfUsed with dropping, score: 0.7555907802\\nInteraction: VolatilityIndex * NumOfConf without dropping, score: 0.7558840752\\nInteraction: VolatilityIndex * NumOfC without dropping, score: 0.7559600472\\nInteraction: VolatilityIndex * NumOfO without dropping, score: 0.7559412447\\nInteraction: HBondDensity * DegreeOfUnsaturation without dropping, score: 0.7559041289\\nInteraction: HBondDensity * Hydrophobicity without dropping, score: 0.7559237309\\nInteraction: HBondDensity * NumOfC without dropping, score: 0.7559680571\\nInteraction: HBondDensity * NumOfO without dropping, score: 0.7559202810\\nInteraction: HydrogenBondPotential * DegreeOfUnsaturation without dropping, score: 0.7559094380\\nInteraction: HydrogenBondPotential * Hydrophobicity with dropping, score: 0.7559536153\\nInteraction: HydrogenBondPotential * NumOfO without dropping, score: 0.7558619341\\nInteraction: DegreeOfUnsaturation * Hydrophobicity without dropping, score: 0.7559547616\\nInteraction: DegreeOfUnsaturation * NumOfO without dropping, score: 0.7559239587\\nInteraction: Hydrophobicity * NumOfConfUsed without dropping, score: 0.7558711622\\nInteraction: Hydrophobicity * NumOfO without dropping, score: 0.7559598519\\nInteraction: NumOfConfUsed * NumOfConf without dropping, score: 0.7558702785\\nInteraction: NumOfConfUsed * NumOfC without dropping, score: 0.7558953398\\nInteraction: NumOfConfUsed * NumOfO without dropping, score: 0.7558601892\\nInteraction: SymmetryIndex * NumOfC without dropping, score: 0.7559939604\\nInteraction: NumOfConf * NumOfC without dropping, score: 0.7558792190\\n'"
      ]
     },
     "execution_count": 155,
     "metadata": {},
     "output_type": "execute_result"
    }
   ],
   "source": [
    "def add_meaningful_features(orig_df):\n",
    "    df = orig_df.copy()\n",
    "    df = df.replace([np.inf, -np.inf], np.nan).fillna(0)\n",
    "\n",
    "    df['AtomFraction'] = (df['NumOfC'] + df['NumOfO'] + df['NumOfN']) / df['NumOfAtoms']\n",
    "    df['Polarity'] = df['NumHBondDonors'] / df['MW']\n",
    "    df['HBondDensity'] = df['NumHBondDonors'] / df['NumOfAtoms']\n",
    "    df['GroupDensity_CarboxylicAcid'] = df['carboxylic acid'] / df['MW']\n",
    "    df['Unsaturation'] = df['C=C (non-aromatic)'] + df['C=C-C=O in non-aromatic ring']\n",
    "    df['ConfigurationalComplexity'] = df['NumOfConf'] / df['MW']\n",
    "\n",
    "    df = pd.get_dummies(df, columns=['parentspecies'], drop_first=True)\n",
    "    df['HydrogenBondPotential'] = df['NumHBondDonors'] + (df['NumOfO'] + df['NumOfN'])\n",
    "    polar_groups = ['hydroxyl (alkyl)', 'aldehyde', 'ketone', 'carboxylic acid', 'ester', 'nitro']\n",
    "    df['PolarGroupCount'] = df[polar_groups].sum(axis=1)\n",
    "    df['AromaticGroupFraction'] = df['aromatic hydroxyl'] / (df[polar_groups + ['aromatic hydroxyl']].sum(axis=1) + 1e-9)\n",
    "    df['MolecularSize'] = df['MW'] + df['NumOfAtoms']\n",
    "    df['DegreeOfUnsaturation'] = df['NumOfC'] + 1 - (df['NumOfAtoms'] - df['NumOfC']) / 2\n",
    "    df['FlexibilityRatio'] = df['NumOfConfUsed'] / (df['NumOfConf'] + 1e-9)\n",
    "    df['PolarityIndex'] = (df['NumOfO'] + df['NumOfN'] + df[polar_groups].sum(axis=1)) / (df['NumOfC'] + df['C=C (non-aromatic)'] + 1e-9)\n",
    "    df['Hydrophobicity'] = df['NumOfC'] / (df['NumOfAtoms'] + 1e-9)\n",
    "    functional_groups = [\n",
    "        'C=C (non-aromatic)', 'hydroxyl (alkyl)', 'aldehyde', 'ketone',\n",
    "        'carboxylic acid', 'ester', 'ether (alicyclic)', 'nitrate',\n",
    "        'nitro', 'aromatic hydroxyl', 'carbonylperoxynitrate', 'peroxide',\n",
    "        'hydroperoxide', 'carbonylperoxyacid', 'nitroester'\n",
    "    ]\n",
    "    for group in functional_groups:\n",
    "        df[f'{group}_Indicator'] = (df[group] > 0).astype(int)\n",
    "\n",
    "    symmetric_groups = ['ester', 'ether (alicyclic)', 'ketone']\n",
    "    asymmetric_groups = ['aldehyde', 'carboxylic acid']\n",
    "    df['SymmetryIndex'] = df[symmetric_groups].sum(axis=1) / (df[symmetric_groups + asymmetric_groups].sum(axis=1) + 1e-9)\n",
    "    df['ShapeCompactness'] = df['NumOfAtoms'] / (df['NumOfConfUsed'] + 1e-9)\n",
    "    df['HydrogenBondDensity'] = df['NumHBondDonors'] / (df['MW'] + 1e-9)\n",
    "    df['VolatilityIndex'] = (\n",
    "        df['NumOfC'] / (df[polar_groups].sum(axis=1) + 1e-9) *\n",
    "        1 / (df['MW'] + 1e-9)\n",
    "    )\n",
    "    df['OxygenToCarbonRatio'] = df['NumOfO'] / (df['NumOfC'] + 1e-9)\n",
    "    \n",
    "    \n",
    "    #AtomFraction * Hydrophobicity without dropping, score: 0.7560660475 -- make new feature\n",
    "    df['AtomFraction * Hydrophobicity'] = df['AtomFraction'] * df['Hydrophobicity']\n",
    "    df['HydrogenBondPotential * NumOfC'] = df['HydrogenBondPotential'] * df['NumOfC']\n",
    "    df['Hydrophobicity * NumOfC'] = df['Hydrophobicity'] * df['NumOfC']\n",
    "    df['PolarityIndex_FlexibilityRatio'] = df['PolarityIndex'] * df['FlexibilityRatio']\n",
    "    df['VolatilityIndex_DegreeOfUnsaturation'] = df['VolatilityIndex'] * df['DegreeOfUnsaturation']\n",
    "    # ShapeCompactness * FlexibilityRatio 0.7561110146\n",
    "    df['ShapeCompactness_FlexibilityRatio'] = df['ShapeCompactness'] * df['FlexibilityRatio']\n",
    "    # PolarityIndex * NumOfC\n",
    "    df['PolarityIndex * NumOfC'] = df['PolarityIndex'] * df['NumOfC']\n",
    "    df['DegreeOfUnsaturation * NumOfC'] = df['DegreeOfUnsaturation'] * df['NumOfC']\n",
    "    df['NumOfC * NumOfO'] = df['NumOfC'] * df['NumOfO']\n",
    "\n",
    "    return df"
   ]
  },
  {
   "cell_type": "code",
   "execution_count": 156,
   "metadata": {},
   "outputs": [],
   "source": [
    "trans_functions = {\n",
    "    'none': lambda x: x,\n",
    "    'log': lambda x: np.log(x + 1e-9),\n",
    "    'sqrt': lambda x: np.sqrt(x),\n",
    "    'square': lambda x: x**2,\n",
    "    'cube': lambda x: x**3,\n",
    "    'exp': lambda x: np.exp(x),\n",
    "    'reciprocal': lambda x: 1 / (x + 1e-9),\n",
    "    'boxcox': lambda x: boxcox(x + 1e-9)[0] if (x > 0).all() else x,\n",
    "    'yeojohnson': lambda x: yeojohnson(x)[0]\n",
    "}\n",
    "\n",
    "def apply_transformations(df, selected_transformations):    \n",
    "    df_transformed = df.copy()\n",
    "    for col, func in selected_transformations:\n",
    "        if func in trans_functions:\n",
    "            df_transformed[col] = trans_functions[func](df_transformed[col].astype(float))\n",
    "    \n",
    "    return df_transformed"
   ]
  },
  {
   "cell_type": "code",
   "execution_count": 157,
   "metadata": {},
   "outputs": [],
   "source": [
    "def evaluate_model(model, X_train, y_train, random_state=42):\n",
    "    ### Train loss\n",
    "    y_train_pred = model.predict(X_train)\n",
    "    train_loss = mean_squared_error(y_train, y_train_pred)\n",
    "\n",
    "    ### 5-fold cross-validation\n",
    "    kf = KFold(n_splits=5, shuffle=True, random_state=random_state)\n",
    "    mse_scorer = make_scorer(mean_squared_error)\n",
    "    cv_scores = cross_val_score(model, X_train, y_train, cv=kf, scoring=mse_scorer)\n",
    "    cv_loss_mean = cv_scores.mean()\n",
    "\n",
    "    r2_train = r2_score(y_train, y_train_pred)\n",
    "    r2_cv = cross_val_score(model, X_train, y_train, cv=kf, scoring='r2').mean()\n",
    "    \n",
    "    return train_loss, cv_loss_mean, r2_train, r2_cv"
   ]
  },
  {
   "cell_type": "code",
   "execution_count": 158,
   "metadata": {},
   "outputs": [],
   "source": [
    "best_transformations = [\n",
    "    ('AtomFraction', 'cube'),\n",
    "    #('GroupDensity_CarboxylicAcid', 'sqrt'),\n",
    "    ('ConfigurationalComplexity', 'yeojohnson'),\n",
    "    ('ShapeCompactness', 'log'),\n",
    "    ('VolatilityIndex', 'reciprocal'),\n",
    "    ('FlexibilityRatio', 'sqrt'),\n",
    "    ('PolarityIndex', 'sqrt'),\n",
    "    ('NumOfConfUsed', 'boxcox'),\n",
    "    ('DegreeOfUnsaturation', 'yeojohnson'),\n",
    "    ('Hydrophobicity', 'yeojohnson'),\n",
    "    ('HydrogenBondPotential', 'none'),\n",
    "    ('HBondDensity', 'none'),\n",
    "    ('SymmetryIndex', 'sqrt'),\n",
    "    ('NumOfConf', 'sqrt'),\n",
    "    ('NumOfC', 'cube'),\n",
    "    ('NumOfO', 'sqrt'),\n",
    "]\n",
    "# prev best: best_features = ['VolatilityIndex_DegreeOfUnsaturation', 'PolarityIndex_FlexibilityRatio', 'AtomFraction * Hydrophobicity', 'AtomFraction', 'ConfigurationalComplexity', 'carbonylperoxynitrate_Indicator', 'PolarityIndex', 'parentspecies_apin', 'aldehyde_Indicator', 'peroxide_Indicator', 'ShapeCompactness', 'FlexibilityRatio', 'VolatilityIndex', 'PolarGroupCount', 'HBondDensity', 'HydrogenBondPotential', 'nitro_Indicator', 'ester_Indicator', 'parentspecies_toluene', 'DegreeOfUnsaturation', 'Hydrophobicity', 'ketone_Indicator', 'nitroester_Indicator', 'hydroxyl (alkyl)', 'carbonylperoxyacid', 'NumOfConfUsed', 'aldehyde', 'SymmetryIndex', 'NumOfConf', 'NumOfC', 'C=C (non-aromatic)', 'C=C (non-aromatic)_Indicator', 'nitrate', 'carbonylperoxyacid_Indicator', 'hydroperoxide_Indicator', 'nitroester', 'carboxylic acid_Indicator', 'aromatic hydroxyl_Indicator', 'NumOfO', 'ether (alicyclic)_Indicator']\n",
    "# prev best: best_features = ['VolatilityIndex_DegreeOfUnsaturation', 'PolarityIndex_FlexibilityRatio', 'AtomFraction * Hydrophobicity', 'AtomFraction', 'ConfigurationalComplexity', 'carbonylperoxynitrate_Indicator', 'PolarityIndex', 'parentspecies_apin', 'aldehyde_Indicator', 'peroxide_Indicator', 'ShapeCompactness', 'FlexibilityRatio', 'VolatilityIndex', 'PolarGroupCount', 'HBondDensity', 'HydrogenBondPotential', 'nitro_Indicator', 'ester_Indicator', 'parentspecies_toluene', 'DegreeOfUnsaturation', 'Hydrophobicity', 'ketone_Indicator', 'nitroester_Indicator', 'hydroxyl (alkyl)', 'carbonylperoxyacid', 'NumOfConfUsed', 'aldehyde', 'SymmetryIndex', 'NumOfConf', 'NumOfC', 'C=C (non-aromatic)', 'C=C (non-aromatic)_Indicator', 'nitrate', 'carbonylperoxyacid_Indicator', 'hydroperoxide_Indicator', 'nitroester', 'carboxylic acid_Indicator', 'aromatic hydroxyl_Indicator', 'NumOfO', 'ether (alicyclic)_Indicator']\n",
    "best_features = ['HydrogenBondPotential * NumOfC', 'Hydrophobicity * NumOfC', 'PolarityIndex_FlexibilityRatio', 'VolatilityIndex_DegreeOfUnsaturation', 'PolarityIndex * NumOfC', 'DegreeOfUnsaturation * NumOfC', 'NumOfC * NumOfO', 'PolarityIndex * NumOfC', 'ShapeCompactness_FlexibilityRatio', 'AtomFraction * Hydrophobicity', 'AtomFraction', 'ConfigurationalComplexity', 'carbonylperoxynitrate_Indicator', 'PolarityIndex', 'parentspecies_apin', 'aldehyde_Indicator', 'peroxide_Indicator', 'ShapeCompactness', 'FlexibilityRatio', 'VolatilityIndex', 'PolarGroupCount', 'HBondDensity', 'HydrogenBondPotential', 'nitro_Indicator', 'ester_Indicator', 'parentspecies_toluene', 'DegreeOfUnsaturation', 'Hydrophobicity', 'ketone_Indicator', 'nitroester_Indicator', 'hydroxyl (alkyl)', 'carbonylperoxyacid', 'NumOfConfUsed', 'aldehyde', 'SymmetryIndex', 'NumOfConf', 'NumOfC', 'C=C (non-aromatic)', 'C=C (non-aromatic)_Indicator', 'nitrate', 'carbonylperoxyacid_Indicator', 'hydroperoxide_Indicator', 'nitroester', 'carboxylic acid_Indicator', 'aromatic hydroxyl_Indicator', 'NumOfO', 'ether (alicyclic)_Indicator']\n"
   ]
  },
  {
   "cell_type": "markdown",
   "metadata": {
    "nteract": {
     "transient": {
      "deleting": false
     }
    }
   },
   "source": [
    "## Tietoaineistojen lataaminen"
   ]
  },
  {
   "cell_type": "code",
   "execution_count": 159,
   "metadata": {
    "gather": {
     "logged": 1732052424041
    },
    "jupyter": {
     "outputs_hidden": false,
     "source_hidden": false
    },
    "nteract": {
     "transient": {
      "deleting": false
     }
    }
   },
   "outputs": [],
   "source": [
    "df_train = pd.read_csv('../data/train.csv', encoding='utf-8', header=0)\n",
    "df_test = pd.read_csv('../data/test.csv', encoding='utf-8', header=0)"
   ]
  },
  {
   "cell_type": "markdown",
   "metadata": {
    "nteract": {
     "transient": {
      "deleting": false
     }
    }
   },
   "source": [
    "## Datan myllääminen"
   ]
  },
  {
   "cell_type": "code",
   "execution_count": 160,
   "metadata": {
    "gather": {
     "logged": 1732052445215
    },
    "jupyter": {
     "outputs_hidden": false,
     "source_hidden": false
    },
    "nteract": {
     "transient": {
      "deleting": false
     }
    }
   },
   "outputs": [],
   "source": [
    "# Erotetaan X ja y\n",
    "X_train, y_train = df_train.drop(columns=['log_pSat_Pa', 'ID']), df_train['log_pSat_Pa']\n",
    "X_test = df_test.drop(columns=['ID'])\n",
    "\n",
    "# Lisätään uusia featureita\n",
    "X_train_trans = add_meaningful_features(X_train)\n",
    "X_test_trans = add_meaningful_features(X_test)\n",
    "\n",
    "# Käytetään vain parhaita featureita\n",
    "X_train_trans = X_train_trans[best_features]\n",
    "X_test_trans = X_test_trans[best_features]\n",
    "\n",
    "# Käytetään vain parhaita transformaatioita\n",
    "X_train_trans = apply_transformations(X_train_trans, selected_transformations=best_transformations)\n",
    "X_test_trans = apply_transformations(X_test_trans, selected_transformations=best_transformations)\n",
    "\n",
    "scaler = StandardScaler()\n",
    "X_train_trans = scaler.fit_transform(X_train_trans)\n",
    "X_test_trans = scaler.transform(X_test_trans)"
   ]
  },
  {
   "cell_type": "markdown",
   "metadata": {},
   "source": [
    "# Hyperparametrien optimointi"
   ]
  },
  {
   "cell_type": "code",
   "execution_count": null,
   "metadata": {},
   "outputs": [
    {
     "name": "stderr",
     "output_type": "stream",
     "text": [
      "[I 2024-12-05 09:38:30,552] Using an existing study with name 'group-190-667fa' instead of creating a new one.\n"
     ]
    }
   ],
   "source": [
    "def objective(trial):\n",
    "    svr_params = {        \n",
    "        \"C\": trial.suggest_float(\"C\", 6.6, 9.8),\n",
    "        \"epsilon\": trial.suggest_float(\"epsilon\", 0.35, 0.79),\n",
    "        \"kernel\": 'rbf',\n",
    "        \"degree\": trial.suggest_int(\"degree\", 140, 250),\n",
    "        \"gamma\": trial.suggest_float(\"gamma\", 0.003, 0.017),\n",
    "        \"coef0\": trial.suggest_float(\"coef0\", 0.003, 0.029),\n",
    "        #\"shrinking\": trial.suggest_categorical(\"shrinking\", [True, False]),\n",
    "        \"tol\": trial.suggest_float(\"tol\", 1.0e-5, 3.3e-5),\n",
    "        #\"cache_size\": 200,\n",
    "        #\"verbose\": False,\n",
    "        #\"max_iter\": -1,\n",
    "    }\n",
    "#0.7560782432206262 and parameters: {'C': 6.588129952435588, 'epsilon': 0.5339224346531616, 'degree': 193, 'gamma': 0.009595450160671933, 'coef0': 0.0082580122052144, 'tol': 1.7081316437597054e-05}. Best is trial 39 with value: 0.7560782432206262.\n",
    "    model = make_pipeline(StandardScaler(), SVR(**svr_params))\n",
    "    #score = evaluate_model(model, X_train_trans, y_train)[3]\n",
    "    score = cross_val_score(model, X_train_trans, y_train, cv=5, scoring='r2').mean()\n",
    "    return score\n",
    "\n",
    "#study_name = \"group-190-667f\"\n",
    "study_name = \"group-190-667fa\"\n",
    "storage = \"sqlite:///optuna_190.sqlite3\"\n",
    "\n",
    "study = optuna.create_study(\n",
    "    direction=\"maximize\",\n",
    "    #sampler=optuna.samplers.TPESampler(seed=190),\n",
    "    study_name=study_name,\n",
    "    storage=storage,\n",
    "    load_if_exists=True\n",
    ")\n",
    "\n",
    "study.optimize(objective, n_trials=100)\n",
    "\n",
    "loaded_study = optuna.load_study(study_name=study_name, storage=storage)\n",
    "\n",
    "print(f\"The best score: {loaded_study.best_value}\")\n",
    "print(f\"The best hyperparameter combination: {loaded_study.best_params}\")\n",
    "\n",
    "# Trial 525 finished with value: 0.7556880608718612 and parameters: {'C': 4.317548086868634, 'epsilon': 0.4029669979799471, 'degree': 128, 'gamma': 0.014430936891064592, 'coef0': 0.0263038871779371, 'tol': 1.1502467635687632e-05}. Best is trial 525 with value: 0.7556880608718612.\n",
    "# Trial 557 finished with value: 0.7557184013541394 and parameters: {'C': 4.428631164497283, 'epsilon': 0.40534818155621216, 'degree': 129, 'gamma': 0.014189442659395292, 'coef0': 0.027242821178532224, 'tol': 1.613436864917458e-05}. Best is trial 557 with value: 0.7557184013541394.\n",
    "# Trial 667 finished with value: 0.7558252623881684 and parameters: {'C': 4.796893660934806, 'epsilon': 0.41591433032412095, 'degree': 150, 'gamma': 0.013649066977714302, 'coef0': 0.025826880204001527, 'tol': 1.6879135343901046e-05}. Best is trial 667 with value: 0.7558252623881684.\n",
    "# Trial 713 finished with value: 0.7558501480076878 and parameters: {'C': 4.9675057323406, 'epsilon': 0.41996635414854416, 'degree': 169, 'gamma': 0.013344940612796844, 'coef0': 0.022940696618095578, 'tol': 2.3855715372445768e-05}. Best is trial 713 with value: 0.7558501480076878.\n",
    "# Trial 852 finished with value: 0.7559736583622083 and parameters: {'C': 5.17619941663601, 'epsilon': 0.44750795645320357, 'degree': 155, 'gamma': 0.012423621147076735, 'coef0': 0.02432357580079724, 'tol': 2.306910356452319e-05}. Best is trial 852 with value: 0.7559736583622083.\n"
   ]
  },
  {
   "cell_type": "code",
   "execution_count": 162,
   "metadata": {},
   "outputs": [
    {
     "name": "stdout",
     "output_type": "stream",
     "text": [
      "Training with best params: {'C': 8.796821419271, 'epsilon': 0.6509416160990353, 'degree': 176, 'gamma': 0.008722886514319053, 'coef0': 0.019179247637028163, 'tol': 2.173504496588627e-05}\n",
      "(np.float64(2.1860383575555327), np.float64(2.3720805117370736), 0.7754507440383307, np.float64(0.7561712360270216))\n"
     ]
    }
   ],
   "source": [
    "loaded_study = optuna.load_study(study_name=study_name, storage=storage)\n",
    "best_params = loaded_study.best_params\n",
    "print(f\"Training with best params: {best_params}\")\n",
    "model = make_pipeline(StandardScaler(), SVR(**best_params))\n",
    "model.fit(X_train_trans, y_train)\n",
    "score = evaluate_model(model, X_train_trans, y_train)\n",
    "print(score)"
   ]
  },
  {
   "cell_type": "markdown",
   "metadata": {
    "nteract": {
     "transient": {
      "deleting": false
     }
    }
   },
   "source": [
    "## Ennustuksen tallentaminen"
   ]
  },
  {
   "cell_type": "code",
   "execution_count": 163,
   "metadata": {
    "gather": {
     "logged": 1732046039632
    },
    "jupyter": {
     "outputs_hidden": false,
     "source_hidden": false
    },
    "nteract": {
     "transient": {
      "deleting": false
     }
    }
   },
   "outputs": [],
   "source": [
    "df_test['log_pSat_Pa'] = model.predict(X_test_trans)\n",
    "df_test[['ID', 'log_pSat_Pa']].to_csv('../submission/submission.csv', index=False)"
   ]
  },
  {
   "cell_type": "markdown",
   "metadata": {},
   "source": [
    "# Lisää työkaluja"
   ]
  },
  {
   "cell_type": "code",
   "execution_count": null,
   "metadata": {},
   "outputs": [
    {
     "ename": "AttributeError",
     "evalue": "'numpy.ndarray' object has no attribute 'columns'",
     "output_type": "error",
     "traceback": [
      "\u001b[1;31m---------------------------------------------------------------------------\u001b[0m",
      "\u001b[1;31mAttributeError\u001b[0m                            Traceback (most recent call last)",
      "Cell \u001b[1;32mIn[153], line 10\u001b[0m\n\u001b[0;32m      8\u001b[0m \u001b[38;5;66;03m#always_include = ['AtomFraction', 'GroupDensity_CarboxylicAcid', 'ConfigurationalComplexity', 'carbonylperoxynitrate_Indicator', 'PolarityIndex', 'parentspecies_apin', 'aldehyde_Indicator', 'peroxide_Indicator', 'ShapeCompactness', 'FlexibilityRatio', 'VolatilityIndex', 'PolarGroupCount', 'HBondDensity', 'HydrogenBondPotential', 'nitro_Indicator', 'ester_Indicator', 'parentspecies_toluene', 'DegreeOfUnsaturation', 'Hydrophobicity', 'ketone_Indicator', 'nitroester_Indicator', 'hydroxyl (alkyl)', 'carbonylperoxyacid', 'NumOfConfUsed', 'aldehyde', 'SymmetryIndex', 'NumOfConf', 'NumOfC', 'nitro', 'C=C (non-aromatic)', 'C=C (non-aromatic)_Indicator', 'nitrate', 'carbonylperoxyacid_Indicator', 'hydroperoxide_Indicator', 'nitroester', 'carboxylic acid_Indicator', 'aromatic hydroxyl_Indicator', 'NumOfO', 'ether (alicyclic)_Indicator']\u001b[39;00m\n\u001b[0;32m      9\u001b[0m always_include \u001b[38;5;241m=\u001b[39m []\n\u001b[1;32m---> 10\u001b[0m remaining_cols \u001b[38;5;241m=\u001b[39m [col \u001b[38;5;28;01mfor\u001b[39;00m col \u001b[38;5;129;01min\u001b[39;00m \u001b[43mX_train_trans\u001b[49m\u001b[38;5;241;43m.\u001b[39;49m\u001b[43mcolumns\u001b[49m \u001b[38;5;28;01mif\u001b[39;00m col \u001b[38;5;129;01mnot\u001b[39;00m \u001b[38;5;129;01min\u001b[39;00m always_include]\n\u001b[0;32m     11\u001b[0m \u001b[38;5;28mprint\u001b[39m(remaining_cols)\n\u001b[0;32m     13\u001b[0m loaded_study \u001b[38;5;241m=\u001b[39m optuna\u001b[38;5;241m.\u001b[39mload_study(study_name\u001b[38;5;241m=\u001b[39mstudy_name, storage\u001b[38;5;241m=\u001b[39mstorage)\n",
      "\u001b[1;31mAttributeError\u001b[0m: 'numpy.ndarray' object has no attribute 'columns'"
     ]
    }
   ],
   "source": [
    "import itertools\n",
    "import sys\n",
    "\n",
    "def evaluate_model(model, X, y):\n",
    "    scores = cross_val_score(model, X, y, cv=5, scoring='r2')\n",
    "    return scores.mean()\n",
    "\n",
    "#always_include = ['AtomFraction', 'GroupDensity_CarboxylicAcid', 'ConfigurationalComplexity', 'carbonylperoxynitrate_Indicator', 'PolarityIndex', 'parentspecies_apin', 'aldehyde_Indicator', 'peroxide_Indicator', 'ShapeCompactness', 'FlexibilityRatio', 'VolatilityIndex', 'PolarGroupCount', 'HBondDensity', 'HydrogenBondPotential', 'nitro_Indicator', 'ester_Indicator', 'parentspecies_toluene', 'DegreeOfUnsaturation', 'Hydrophobicity', 'ketone_Indicator', 'nitroester_Indicator', 'hydroxyl (alkyl)', 'carbonylperoxyacid', 'NumOfConfUsed', 'aldehyde', 'SymmetryIndex', 'NumOfConf', 'NumOfC', 'nitro', 'C=C (non-aromatic)', 'C=C (non-aromatic)_Indicator', 'nitrate', 'carbonylperoxyacid_Indicator', 'hydroperoxide_Indicator', 'nitroester', 'carboxylic acid_Indicator', 'aromatic hydroxyl_Indicator', 'NumOfO', 'ether (alicyclic)_Indicator']\n",
    "always_include = []\n",
    "remaining_cols = [col for col in X_train_trans.columns if col not in always_include]\n",
    "print(remaining_cols)\n",
    "\n",
    "loaded_study = optuna.load_study(study_name=study_name, storage=storage)\n",
    "best_params = loaded_study.best_params\n",
    "model = make_pipeline(StandardScaler(), SVR(**best_params))\n",
    "\n",
    "best_score = -np.inf\n",
    "best_combination = None\n",
    "\n",
    "mode = 'interaction'\n",
    "\n",
    "if mode == 'add':\n",
    "    for L in range(0, len(remaining_cols) + 1):\n",
    "        for subset in itertools.combinations(remaining_cols, L):\n",
    "            current_combination = list(always_include) + list(subset)\n",
    "            X_subset = X_train_trans[current_combination]\n",
    "            model.fit(X_subset, y_train)\n",
    "            score = evaluate_model(model, X_subset, y_train)\n",
    "            \n",
    "            if score > best_score:\n",
    "                best_score = score\n",
    "                best_combination = current_combination\n",
    "                print(f'New best combination: {best_combination} with score: {best_score:.10f}')\n",
    "elif mode == 'remove':\n",
    "    X_transformed = X_train_trans.copy()\n",
    "    for L in range(0, len(always_include) + 1):\n",
    "        for subset in itertools.combinations(always_include, L):\n",
    "            current_combination = [col for col in always_include if col not in subset]\n",
    "            X_subset = X_transformed[current_combination]\n",
    "            model.fit(X_subset, y_train)\n",
    "            score = evaluate_model(model, X_subset, y_train)\n",
    "            \n",
    "            if score > best_score:\n",
    "                best_score = score\n",
    "                best_combination = current_combination\n",
    "                print(f'New best combination: {best_combination} with score: {best_score:.10f}')\n",
    "elif mode == \"replace\":\n",
    "    for included_col in always_include:\n",
    "        for excluded_col in remaining_cols:\n",
    "            current_combination = [col for col in always_include if col != included_col] + [excluded_col]\n",
    "            X_subset = X_train_trans[current_combination]\n",
    "            model.fit(X_subset, y_train)\n",
    "            score = evaluate_model(model, X_subset, y_train)\n",
    "            \n",
    "            if score > best_score:\n",
    "                best_score = score\n",
    "                best_combination = current_combination\n",
    "                print(f'New best combination: {best_combination} with score: {best_score:.10f}')\n",
    "elif mode == \"transform\":\n",
    "    X_subset = X_train_trans[always_include]\n",
    "    model.fit(X_subset, y_train)\n",
    "    baseline_score = evaluate_model(model, X_subset, y_train)\n",
    "    print(f'Baseline score with no transformation: {baseline_score:.10f}')\n",
    "    \n",
    "    ### Käydään kaikki transformaatiot läpi\n",
    "    for col in always_include:\n",
    "        if any(col == approved_col for approved_col, _ in best_transformations):\n",
    "            continue  # Skip columns with approved transformations\n",
    "        if X_train_trans[col].nunique() < 10:\n",
    "            continue\n",
    "        for name, transform in trans_functions.items():\n",
    "            try:\n",
    "                X_temp = X_train_trans.copy()\n",
    "                X_temp[col] = transform(X_temp[col].astype(float))\n",
    "                \n",
    "                if np.any(np.isinf(X_temp[col])) or np.any(np.abs(X_temp[col]) > 1e10):\n",
    "                    raise ValueError(f\"Transformation {name} for {col} resulted in infinities or excessively large values.\")\n",
    "                \n",
    "                X_subset = X_temp[always_include]\n",
    "                model.fit(X_subset, y_train)\n",
    "                score = evaluate_model(model, X_subset, y_train)\n",
    "                print(f'Transformation: {col} with {name} transformation, score: {score:.10f}')\n",
    "                if score > best_score:\n",
    "                    best_score = score\n",
    "                    best_combination = (col, name)\n",
    "                    #print(f'New best transformation: {col} with {name} transformation, score: {best_score:.10f}')\n",
    "            except Exception as e:\n",
    "                print(f\"Skipping transformation {name} for {col} due to error: {e}\")\n",
    "elif mode == \"interaction\":\n",
    "    for col1, col2 in itertools.combinations(remaining_cols, 2):\n",
    "        if X_train_trans[col1].nunique() < 10 or X_train_trans[col2].nunique() < 10:\n",
    "            continue\n",
    "        \n",
    "        X_temp = X_train_trans.copy()\n",
    "        interaction_term = X_temp[col1] * X_temp[col2]\n",
    "        X_temp['interaction'] = interaction_term\n",
    "        \n",
    "        # Test with interaction term without dropping original variables\n",
    "        X_subset = X_temp[remaining_cols + ['interaction']]\n",
    "        model.fit(X_subset, y_train)\n",
    "        score = evaluate_model(model, X_subset, y_train)\n",
    "        print(f'Interaction: {col1} * {col2} without dropping, score: {score:.10f}')\n",
    "        if score > best_score:\n",
    "            best_score = score\n",
    "            best_combination = (col1, col2, 'without dropping')\n",
    "        \n",
    "        # Test with interaction term and dropping original variables\n",
    "        X_subset = X_temp[remaining_cols + ['interaction']]\n",
    "        X_subset = X_subset.drop(columns=[col1, col2])\n",
    "        model.fit(X_subset, y_train)\n",
    "        score = evaluate_model(model, X_subset, y_train)\n",
    "        print(f'Interaction: {col1} * {col2} with dropping, score: {score:.10f}')\n",
    "        if score > best_score:\n",
    "            best_score = score\n",
    "            best_combination = (col1, col2, 'with dropping')\n",
    "\n",
    "print(f'Best combination: {best_combination} with score: {best_score:.10f}')\n",
    "\n",
    "# baseline: 0.7558501480076878"
   ]
  }
 ],
 "metadata": {
  "kernel_info": {
   "name": "python310-sdkv2"
  },
  "kernelspec": {
   "display_name": "Python 3",
   "language": "python",
   "name": "python3"
  },
  "language_info": {
   "codemirror_mode": {
    "name": "ipython",
    "version": 3
   },
   "file_extension": ".py",
   "mimetype": "text/x-python",
   "name": "python",
   "nbconvert_exporter": "python",
   "pygments_lexer": "ipython3",
   "version": "3.12.7"
  },
  "microsoft": {
   "host": {
    "AzureML": {
     "notebookHasBeenCompleted": true
    }
   },
   "ms_spell_check": {
    "ms_spell_check_language": "en"
   }
  },
  "nteract": {
   "version": "nteract-front-end@1.0.0"
  }
 },
 "nbformat": 4,
 "nbformat_minor": 2
}
